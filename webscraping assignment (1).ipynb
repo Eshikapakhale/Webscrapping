{
 "cells": [
  {
   "cell_type": "code",
   "execution_count": null,
   "id": "54f441e2-9270-4aa0-816c-4838b47685d9",
   "metadata": {},
   "outputs": [],
   "source": []
  },
  {
   "cell_type": "code",
   "execution_count": 1,
   "id": "0ecbe677-86f1-48cd-b807-e119a4fc8849",
   "metadata": {},
   "outputs": [
    {
     "name": "stdout",
     "output_type": "stream",
     "text": [
      "Requirement already satisfied: bs4 in c:\\users\\hp\\anaconda3\\lib\\site-packages (0.0.2)\n",
      "Requirement already satisfied: beautifulsoup4 in c:\\users\\hp\\anaconda3\\lib\\site-packages (from bs4) (4.12.3)\n",
      "Requirement already satisfied: soupsieve>1.2 in c:\\users\\hp\\anaconda3\\lib\\site-packages (from beautifulsoup4->bs4) (2.5)\n"
     ]
    }
   ],
   "source": [
    "!pip install bs4"
   ]
  },
  {
   "cell_type": "code",
   "execution_count": null,
   "id": "66dc679e-825e-4893-b9b7-c6366201d6ad",
   "metadata": {},
   "outputs": [],
   "source": []
  },
  {
   "cell_type": "code",
   "execution_count": 3,
   "id": "6369d349-f919-4e78-bb6a-db754adbc854",
   "metadata": {},
   "outputs": [],
   "source": [
    "import requests\n",
    "from bs4 import BeautifulSoup"
   ]
  },
  {
   "cell_type": "code",
   "execution_count": null,
   "id": "4662f6f8-b77d-4fab-b2c3-6675672f195d",
   "metadata": {},
   "outputs": [],
   "source": []
  },
  {
   "cell_type": "code",
   "execution_count": 11,
   "id": "e5c4d9ab-e0ab-46b4-99b1-eb6d89317a38",
   "metadata": {},
   "outputs": [],
   "source": [
    "response=requests.get(\"https://en.wikipedia.org/wiki/India\")"
   ]
  },
  {
   "cell_type": "code",
   "execution_count": 13,
   "id": "4298b255-4ef1-48d9-a3c7-f4da4760bfd7",
   "metadata": {},
   "outputs": [
    {
     "data": {
      "text/plain": [
       "<Response [200]>"
      ]
     },
     "execution_count": 13,
     "metadata": {},
     "output_type": "execute_result"
    }
   ],
   "source": [
    "response"
   ]
  },
  {
   "cell_type": "code",
   "execution_count": null,
   "id": "05f30f74-f8e1-4ddb-820b-407ae4725ea1",
   "metadata": {},
   "outputs": [],
   "source": []
  },
  {
   "cell_type": "code",
   "execution_count": 15,
   "id": "e132c20d-e5d2-46bf-8217-98412a3adbe7",
   "metadata": {},
   "outputs": [
    {
     "data": {
      "text/plain": [
       "b'<!DOCTYPE html>\\n<html class=\"client-nojs vector-feature-language-in-header-enabled vector-feature-language-in-main-page-header-disabled vector-feature-sticky-header-disabled vector-feature-page-tools-'"
      ]
     },
     "execution_count": 15,
     "metadata": {},
     "output_type": "execute_result"
    }
   ],
   "source": [
    "# fetching the content\n",
    "data = response.content\n",
    "type(data)\n",
    "data[:200]"
   ]
  },
  {
   "cell_type": "code",
   "execution_count": 17,
   "id": "fa69f62d-bd43-4cb2-ba20-10dbc1bacda8",
   "metadata": {},
   "outputs": [
    {
     "data": {
      "text/plain": [
       "bs4.BeautifulSoup"
      ]
     },
     "execution_count": 17,
     "metadata": {},
     "output_type": "execute_result"
    }
   ],
   "source": [
    " bs = BeautifulSoup(data)\n",
    "type(bs)"
   ]
  },
  {
   "cell_type": "code",
   "execution_count": null,
   "id": "1e3fb989-a8a6-4fa2-92d7-3331a13621c5",
   "metadata": {},
   "outputs": [],
   "source": []
  },
  {
   "cell_type": "code",
   "execution_count": null,
   "id": "b68aeabc-e84c-44a8-b24a-18af48924849",
   "metadata": {},
   "outputs": [],
   "source": [
    "# Title"
   ]
  },
  {
   "cell_type": "code",
   "execution_count": 19,
   "id": "d2361d2e-daea-4509-b80a-37f39f661a25",
   "metadata": {},
   "outputs": [
    {
     "data": {
      "text/plain": [
       "[<h1 class=\"firstHeading mw-first-heading\" id=\"firstHeading\"><span class=\"mw-page-title-main\">India</span></h1>]"
      ]
     },
     "execution_count": 19,
     "metadata": {},
     "output_type": "execute_result"
    }
   ],
   "source": [
    "title=bs.find_all(\"h1\")\n",
    "title"
   ]
  },
  {
   "cell_type": "code",
   "execution_count": null,
   "id": "b56fd2ff-d1bb-4320-a0f3-95ac6be06c28",
   "metadata": {},
   "outputs": [],
   "source": []
  },
  {
   "cell_type": "code",
   "execution_count": null,
   "id": "60b4fa41-e876-4ca4-a66e-c0248f66050d",
   "metadata": {},
   "outputs": [],
   "source": [
    "# Sub-title"
   ]
  },
  {
   "cell_type": "code",
   "execution_count": 21,
   "id": "2d2c21dc-2bd1-4dd7-861c-ddcc88d0e6bf",
   "metadata": {},
   "outputs": [
    {
     "data": {
      "text/plain": [
       "[<h2 class=\"vector-pinnable-header-label\">Contents</h2>,\n",
       " <h2 id=\"Etymology\">Etymology</h2>,\n",
       " <h2 id=\"History\">History</h2>,\n",
       " <h2 id=\"Geography\">Geography</h2>,\n",
       " <h2 id=\"Biodiversity\">Biodiversity</h2>,\n",
       " <h2 id=\"Politics_and_government\">Politics and government</h2>,\n",
       " <h2 id=\"Foreign,_economic_and_strategic_relations\"><span id=\"Foreign.2C_economic_and_strategic_relations\"></span>Foreign, economic and strategic relations</h2>,\n",
       " <h2 id=\"Economy\">Economy</h2>,\n",
       " <h2 id=\"Demographics,_languages_and_religion\"><span id=\"Demographics.2C_languages_and_religion\"></span>Demographics, languages and religion</h2>,\n",
       " <h2 id=\"Culture\">Culture</h2>,\n",
       " <h2 id=\"See_also\">See also</h2>,\n",
       " <h2 id=\"Notes\">Notes</h2>,\n",
       " <h2 id=\"References\">References</h2>,\n",
       " <h2 id=\"Bibliography\">Bibliography</h2>,\n",
       " <h2 id=\"External_links\">External links</h2>]"
      ]
     },
     "execution_count": 21,
     "metadata": {},
     "output_type": "execute_result"
    }
   ],
   "source": [
    "sub_title=bs.find_all(\"h2\")\n",
    "sub_title"
   ]
  },
  {
   "cell_type": "code",
   "execution_count": 23,
   "id": "e08ba06d-87c9-4d8e-a3d1-e2e2c037a1cc",
   "metadata": {},
   "outputs": [
    {
     "data": {
      "text/plain": [
       "'Etymology'"
      ]
     },
     "execution_count": 23,
     "metadata": {},
     "output_type": "execute_result"
    }
   ],
   "source": [
    "sub_title[1].text"
   ]
  },
  {
   "cell_type": "code",
   "execution_count": null,
   "id": "1e2931cb-2bbc-4680-950a-e4ddfbd814c3",
   "metadata": {},
   "outputs": [],
   "source": []
  },
  {
   "cell_type": "code",
   "execution_count": 25,
   "id": "980a0d1f-0224-4bc6-a020-23784cae80a7",
   "metadata": {},
   "outputs": [],
   "source": [
    "sub_title_list=[]\n",
    "for i in sub_title:\n",
    "    sub_title_list.append(i.text)"
   ]
  },
  {
   "cell_type": "code",
   "execution_count": 27,
   "id": "fd0c115d-b673-4dbe-83e5-534e4b5f81df",
   "metadata": {},
   "outputs": [
    {
     "data": {
      "text/plain": [
       "['Contents',\n",
       " 'Etymology',\n",
       " 'History',\n",
       " 'Geography',\n",
       " 'Biodiversity',\n",
       " 'Politics and government',\n",
       " 'Foreign, economic and strategic relations',\n",
       " 'Economy',\n",
       " 'Demographics, languages and religion',\n",
       " 'Culture',\n",
       " 'See also',\n",
       " 'Notes',\n",
       " 'References',\n",
       " 'Bibliography',\n",
       " 'External links']"
      ]
     },
     "execution_count": 27,
     "metadata": {},
     "output_type": "execute_result"
    }
   ],
   "source": [
    "sub_title_list"
   ]
  },
  {
   "cell_type": "code",
   "execution_count": null,
   "id": "797772e1-f403-4024-9e52-d256b53811ed",
   "metadata": {},
   "outputs": [],
   "source": []
  },
  {
   "cell_type": "code",
   "execution_count": null,
   "id": "c87e640f-4073-4a55-a73b-4fecbf5ead96",
   "metadata": {},
   "outputs": [],
   "source": [
    "# Paragraph Tag"
   ]
  },
  {
   "cell_type": "code",
   "execution_count": 33,
   "id": "5e20d077-c93a-4f14-9c05-906d79da3dda",
   "metadata": {},
   "outputs": [
    {
     "data": {
      "text/plain": [
       "[<p class=\"mw-empty-elt\">\n",
       " </p>,\n",
       " <p><b>India</b>, officially the <b>Republic of India</b> (<a href=\"/wiki/ISO_15919\" title=\"ISO 15919\">ISO</a>: <span title=\"ISO 15919 Indic (Hindi language) transliteration\"><i lang=\"hi-Latn\">Bhārat Gaṇarājya</i></span>),<sup class=\"reference\" id=\"cite_ref-30\"><a href=\"#cite_note-30\"><span class=\"cite-bracket\">[</span>21<span class=\"cite-bracket\">]</span></a></sup> is a country in <a href=\"/wiki/South_Asia\" title=\"South Asia\">South Asia</a>.  It is the <a href=\"/wiki/List_of_countries_and_dependencies_by_area\" title=\"List of countries and dependencies by area\">seventh-largest country by area</a>; the <a href=\"/wiki/List_of_countries_by_population_(United_Nations)\" title=\"List of countries by population (United Nations)\">most populous country</a> with effect from June 2023;<sup class=\"reference\" id=\"cite_ref-31\"><a href=\"#cite_note-31\"><span class=\"cite-bracket\">[</span>22<span class=\"cite-bracket\">]</span></a></sup><sup class=\"reference\" id=\"cite_ref-32\"><a href=\"#cite_note-32\"><span class=\"cite-bracket\">[</span>23<span class=\"cite-bracket\">]</span></a></sup> and from the time of its independence in 1947, the world's most populous democracy.<sup class=\"reference\" id=\"cite_ref-FOOTNOTEMetcalfMetcalf2012327_33-0\"><a href=\"#cite_note-FOOTNOTEMetcalfMetcalf2012327-33\"><span class=\"cite-bracket\">[</span>24<span class=\"cite-bracket\">]</span></a></sup><sup class=\"reference\" id=\"cite_ref-stein-arnold_34-0\"><a href=\"#cite_note-stein-arnold-34\"><span class=\"cite-bracket\">[</span>25<span class=\"cite-bracket\">]</span></a></sup><sup class=\"reference\" id=\"cite_ref-FOOTNOTEFisher2018184–185_35-0\"><a href=\"#cite_note-FOOTNOTEFisher2018184–185-35\"><span class=\"cite-bracket\">[</span>26<span class=\"cite-bracket\">]</span></a></sup> Bounded by the <a href=\"/wiki/Indian_Ocean\" title=\"Indian Ocean\">Indian Ocean</a> on the south, the <a href=\"/wiki/Arabian_Sea\" title=\"Arabian Sea\">Arabian Sea</a> on the southwest, and the <a href=\"/wiki/Bay_of_Bengal\" title=\"Bay of Bengal\">Bay of Bengal</a> on the southeast, it shares land borders with <a href=\"/wiki/Pakistan\" title=\"Pakistan\">Pakistan</a> to the west;<sup class=\"reference\" id=\"cite_ref-37\"><a href=\"#cite_note-37\"><span class=\"cite-bracket\">[</span>j<span class=\"cite-bracket\">]</span></a></sup> <a href=\"/wiki/China\" title=\"China\">China</a>, <a href=\"/wiki/Nepal\" title=\"Nepal\">Nepal</a>, and <a href=\"/wiki/Bhutan\" title=\"Bhutan\">Bhutan</a> to the north; and <a href=\"/wiki/Bangladesh\" title=\"Bangladesh\">Bangladesh</a> and <a href=\"/wiki/Myanmar\" title=\"Myanmar\">Myanmar</a> to the east. In the Indian Ocean, India is in the vicinity of <a href=\"/wiki/Sri_Lanka\" title=\"Sri Lanka\">Sri Lanka</a> and the <a href=\"/wiki/Maldives\" title=\"Maldives\">Maldives</a>; its <a href=\"/wiki/Andaman_and_Nicobar_Islands\" title=\"Andaman and Nicobar Islands\">Andaman and Nicobar Islands</a> share a maritime border with <a href=\"/wiki/Thailand\" title=\"Thailand\">Thailand</a>, Myanmar, and <a href=\"/wiki/Indonesia\" title=\"Indonesia\">Indonesia</a>.\n",
       " </p>]"
      ]
     },
     "execution_count": 33,
     "metadata": {},
     "output_type": "execute_result"
    }
   ],
   "source": [
    "p_tags = bs.find_all('p')\n",
    "p_tags[0:2]"
   ]
  },
  {
   "cell_type": "code",
   "execution_count": null,
   "id": "ee851ad2-5f5e-43b8-ba1a-fd7442d168ee",
   "metadata": {},
   "outputs": [],
   "source": []
  },
  {
   "cell_type": "code",
   "execution_count": 35,
   "id": "f84c9248-5773-49dd-8699-f326e1da2720",
   "metadata": {},
   "outputs": [
    {
     "data": {
      "text/plain": [
       "102"
      ]
     },
     "execution_count": 35,
     "metadata": {},
     "output_type": "execute_result"
    }
   ],
   "source": [
    "len(p_tags)"
   ]
  },
  {
   "cell_type": "code",
   "execution_count": 37,
   "id": "c308b879-3a9c-4a3a-a616-c7f5c8cbc6e4",
   "metadata": {},
   "outputs": [
    {
     "data": {
      "text/plain": [
       "\"India, officially the Republic of India (ISO: Bhārat Gaṇarājya),[21] is a country in South Asia.  It is the seventh-largest country by area; the most populous country with effect from June 2023;[22][23] and from the time of its independence in 1947, the world's most populous democracy.[24][25][26] Bounded by the Indian Ocean on the south, the Arabian Sea on the southwest, and the Bay of Bengal on the southeast, it shares land borders with Pakistan to the west;[j] China, Nepal, and Bhutan to the north; and Bangladesh and Myanmar to the east. In the Indian Ocean, India is in the vicinity of Sri Lanka and the Maldives; its Andaman and Nicobar Islands share a maritime border with Thailand, Myanmar, and Indonesia.\\n\""
      ]
     },
     "execution_count": 37,
     "metadata": {},
     "output_type": "execute_result"
    }
   ],
   "source": [
    "p_tags[1].text"
   ]
  },
  {
   "cell_type": "code",
   "execution_count": null,
   "id": "e179f259-72a1-4111-8d94-d70ca81cf267",
   "metadata": {},
   "outputs": [],
   "source": []
  },
  {
   "cell_type": "code",
   "execution_count": 59,
   "id": "c725381c-58ee-45d3-bd9e-143acffbf067",
   "metadata": {},
   "outputs": [],
   "source": [
    "p_str=\"\"\n",
    "for i in p_tags:\n",
    "    p_str=p_str+i.text"
   ]
  },
  {
   "cell_type": "code",
   "execution_count": 61,
   "id": "3eeb1e25-e44a-4efe-957f-79abaf4f092a",
   "metadata": {},
   "outputs": [
    {
     "data": {
      "text/plain": [
       "'\\nIndia, officially the Republic of India (ISO: Bhārat Gaṇarājya),[21] is a country in South Asia.  It is the seventh-largest country by area; the most populous country with effect from June 2023;[22][23] and from the time of its independence in 1947, the world\\'s most populous democracy.[24][25][26] Bounded by the Indian Ocean on the south, the Arabian Sea on the southwest, and the Bay of Bengal on the southeast, it shares land borders with Pakistan to the west;[j] China, Nepal, and Bhutan to the north; and Bangladesh and Myanmar to the east. In the Indian Ocean, India is in the vicinity of Sri Lanka and the Maldives; its Andaman and Nicobar Islands share a maritime border with Thailand, Myanmar, and Indonesia.\\nModern humans arrived on the Indian subcontinent from Africa no later than 55,000 years ago.[28][29][30]\\nTheir long occupation, initially in varying forms of isolation as hunter-gatherers, has made the region highly diverse, second only to Africa in human genetic diversity.[31] Settled life emerged on the subcontinent in the western margins of the Indus river basin 9,000 years ago, evolving gradually into the Indus Valley Civilisation of the third millennium BCE.[32]\\nBy 1200\\xa0BCE, an archaic form of Sanskrit, an Indo-European language, had diffused into India from the northwest.[33][34] Its evidence today is found in the hymns of the Rigveda. Preserved by an oral tradition that was resolutely vigilant, the Rigveda records the dawning of Hinduism in India.[35] The Dravidian languages of India were supplanted in the northern and western regions.[36] By 400\\xa0BCE, stratification and exclusion by caste had emerged within Hinduism,[37] and Buddhism and Jainism had arisen, proclaiming social orders unlinked to heredity.[38]\\nEarly political consolidations gave rise to the loose-knit Maurya and Gupta Empires based in the Ganges Basin.[39]\\nTheir collective era was suffused with wide-ranging creativity,[40] but also marked by the declining status of women,[41] and the incorporation of untouchability into an organised system of belief.[k][42] In South India, the Middle kingdoms exported Dravidian-languages scripts and religious cultures to the kingdoms of Southeast Asia.[43]\\nIn the early medieval era, Christianity, Islam, Judaism, and Zoroastrianism became established on India\\'s southern and western coasts.[44]\\nMuslim armies from Central Asia intermittently overran India\\'s northern plains,[45]\\neventually founding the Delhi Sultanate, and drawing northern India into the cosmopolitan networks of medieval Islam.[46]\\nIn the 15th century, the Vijayanagara Empire created a long-lasting composite Hindu culture in south India.[47]\\nIn the Punjab, Sikhism emerged, rejecting institutionalised religion.[48]\\nThe Mughal Empire, in 1526, ushered in two centuries of relative peace,[49]\\nleaving a legacy of luminous architecture.[l][50]\\nGradually expanding rule of the British East India Company followed, turning India into a colonial economy, but also consolidating its sovereignty.[51] British Crown rule began in 1858. The rights promised to Indians were granted slowly,[52][53] but technological changes were introduced, and modern ideas of education and the public life took root.[54] A pioneering and influential nationalist movement emerged, which was noted for nonviolent resistance and became the major factor in ending British rule.[55][56] In 1947 the British Indian Empire was partitioned into two independent dominions,[57][58][59][60] a Hindu-majority Dominion of India and a Muslim-majority Dominion of Pakistan, amid large-scale loss of life and an unprecedented migration.[61]\\nIndia has been a federal republic since 1950, governed through a democratic parliamentary system. It is a pluralistic, multilingual and multi-ethnic society. India\\'s population grew from 361 million in 1951 to almost 1.4\\xa0billion in 2022.[62]\\nDuring the same time, its nominal per capita income increased from US$64 annually to US$2,601, and its literacy rate from 16.6% to 74%. From being a comparatively destitute country in 1951,[63] India has become a fast-growing major economy and a hub for information technology services, with an expanding middle class.[64] India has a space programme with several planned or completed extraterrestrial missions. Indian movies, music, and spiritual teachings play an increasing role in global culture.[65] India has substantially reduced its rate of poverty, though at the cost of increasing economic inequality.[66] India is a nuclear-weapon state, which ranks high in military expenditure. It has disputes over Kashmir with its neighbours, Pakistan and China, unresolved since the mid-20th century.[67] Among the socio-economic challenges India faces are gender inequality, child malnutrition,[68] and rising levels of air pollution.[69] India\\'s land is megadiverse, with four biodiversity hotspots.[70] Its forest cover comprises 21.7% of its area.[71] India\\'s wildlife, which has traditionally been viewed with tolerance in India\\'s culture,[72] is supported among these forests, and elsewhere, in protected habitats.\\nAccording to the Oxford English Dictionary (third edition 2009), the name \"India\" is derived from the Classical Latin India, a reference to South Asia and an uncertain region to its east. In turn the name \"India\" derived successively from Hellenistic Greek India ( Ἰνδία), ancient Greek Indos ( Ἰνδός), Old Persian Hindush (an eastern province of the Achaemenid Empire), and ultimately its cognate, the Sanskrit Sindhu, or \"river\", specifically the Indus River and, by implication, its well-settled southern basin.[73][74] The ancient Greeks referred to the Indians as Indoi (Ἰνδοί), which translates as \"The people of the Indus\".[75]\\nThe term Bharat (Bhārat; pronounced [ˈbʱaːɾət] ⓘ), mentioned in both Indian epic poetry and the Constitution of India,[76][77] is used in its variations by many Indian languages. A modern rendering of the historical name Bharatavarsha, which applied originally to North India,[78][79] Bharat gained increased currency from the mid-19th century as a native name for India.[76][80]\\nHindustan ([ɦɪndʊˈstaːn] ⓘ) is a Middle Persian name for India that became popular by the 13th century,[81] and was used widely since the era of the Mughal Empire. The meaning of Hindustan has varied, referring to a region encompassing the northern Indian subcontinent (present-day northern India and Pakistan) or to India in its near entirety.[76][80][82]\\nBy 55,000 years ago, the first modern humans, or Homo sapiens, had arrived on the Indian subcontinent from Africa, where they had earlier evolved.[28][29][30] The earliest known modern human remains in South Asia date to about 30,000 years ago.[28] After 6500\\xa0BCE, evidence for domestication of food crops and animals, construction of permanent structures, and storage of agricultural surplus appeared in Mehrgarh and other sites in Balochistan, Pakistan.[84] These gradually developed into the Indus Valley Civilisation,[85][84] the first urban culture in South Asia,[86] which flourished during 2500–1900\\xa0BCE in Pakistan and western India.[87] Centred around cities such as Mohenjo-daro, Harappa, Dholavira, and Kalibangan, and relying on varied forms of subsistence, the civilisation engaged robustly in crafts production and wide-ranging trade.[86]\\nDuring the period 2000–500\\xa0BCE, many regions of the subcontinent transitioned from the Chalcolithic cultures to the Iron Age ones.[88] The Vedas, the oldest scriptures associated with Hinduism,[89] were composed during this period,[90] and historians have analysed these to posit a Vedic culture in the Punjab region and the upper Gangetic Plain.[88] Most historians also consider this period to have encompassed several waves of Indo-Aryan migration into the subcontinent from the north-west.[89] The caste system, which created a hierarchy of priests, warriors, and free peasants, but which excluded indigenous peoples by labelling their occupations impure, arose during this period.[91] On the Deccan Plateau, archaeological evidence from this period suggests the existence of a chiefdom stage of political organisation.[88] In South India, a progression to sedentary life is indicated by the large number of megalithic monuments dating from this period,[92] as well as by nearby traces of agriculture, irrigation tanks, and craft traditions.[92]\\nIn the late Vedic period, around the 6th century BCE, the small states and chiefdoms of the Ganges Plain and the north-western regions had consolidated into 16 major oligarchies and monarchies that were known as the mahajanapadas.[93][94] The emerging urbanisation gave rise to non-Vedic religious movements, two of which became independent religions. Jainism came into prominence during the life of its exemplar, Mahavira.[95] Buddhism, based on the teachings of Gautama Buddha, attracted followers from all social classes excepting the middle class; chronicling the life of the Buddha was central to the beginnings of recorded history in India.[96][97][98] In an age of increasing urban wealth, both religions held up renunciation as an ideal,[99] and both established long-lasting monastic traditions. Politically, by the 3rd century BCE, the kingdom of Magadha had annexed or reduced other states to emerge as the Mauryan Empire.[100] The empire was once thought to have controlled most of the subcontinent except the far south, but its core regions are now thought to have been separated by large autonomous areas.[101][102] The Mauryan kings are known as much for their empire-building and determined management of public life as for Ashoka\\'s renunciation of militarism and far-flung advocacy of the Buddhist dhamma.[103][104]\\nThe Sangam literature of the Tamil language reveals that, between 200\\xa0BCE and 200\\xa0CE, the southern peninsula was ruled by the Cheras, the Cholas, and the Pandyas, dynasties that traded extensively with the Roman Empire and with West and Southeast Asia.[105][106] In North India, Hinduism asserted patriarchal control within the family, leading to increased subordination of women.[107][100] By the 4th and 5th centuries, the Gupta Empire had created a complex system of administration and taxation in the greater Ganges Plain; this system became a model for later Indian kingdoms.[108][109] Under the Guptas, a renewed Hinduism based on devotion, rather than the management of ritual, began to assert itself.[110] This renewal was reflected in a flowering of sculpture and architecture, which found patrons among an urban elite.[109] Classical Sanskrit literature flowered as well, and Indian science, astronomy, medicine, and mathematics made significant advances.[109]\\nThe Indian early medieval age, from 600 to 1200\\xa0CE, is defined by regional kingdoms and cultural diversity.[111] When Harsha of Kannauj, who ruled much of the Indo-Gangetic Plain from 606 to 647\\xa0CE, attempted to expand southwards, he was defeated by the Chalukya ruler of the Deccan.[112] When his successor attempted to expand eastwards, he was defeated by the Pala king of Bengal.[112] When the Chalukyas attempted to expand southwards, they were defeated by the Pallavas from farther south, who in turn were opposed by the Pandyas and the Cholas from still farther south.[112] No ruler of this period was able to create an empire and consistently control lands much beyond their core region.[111] During this time, pastoral peoples, whose land had been cleared to make way for the growing agricultural economy, were accommodated within caste society, as were new non-traditional ruling classes.[113] The caste system consequently began to show regional differences.[113]\\nIn the 6th and 7th centuries, the first devotional hymns were created in the Tamil language.[114] They were imitated all over India and led to both the resurgence of Hinduism and the development of all modern languages of the subcontinent.[114] Indian royalty, big and small, and the temples they patronised drew citizens in great numbers to the capital cities, which became economic hubs as well.[115] Temple towns of various sizes began to appear everywhere as India underwent another urbanisation.[115] By the 8th and 9th centuries, the effects were felt in Southeast Asia, as South Indian culture and political systems were exported to lands that became part of modern-day Myanmar, Thailand, Laos, Brunei, Cambodia, Vietnam, Philippines, Malaysia, and Indonesia.[116] Indian merchants, scholars, and sometimes armies were involved in this transmission; Southeast Asians took the initiative as well, with many sojourning in Indian seminaries and translating Buddhist and Hindu texts into their languages.[116]\\nAfter the 10th century, Muslim Central Asian nomadic clans, using swift-horse cavalry and raising vast armies united by ethnicity and religion, repeatedly overran South Asia\\'s north-western plains, leading eventually to the establishment of the Islamic Delhi Sultanate in 1206.[117] The sultanate was to control much of North India and to make many forays into South India. Although at first disruptive for the Indian elites, the sultanate largely left its vast non-Muslim subject population to its own laws and customs.[118][119] By repeatedly repulsing Mongol raiders in the 13th century, the sultanate saved India from the devastation visited on West and Central Asia, setting the scene for centuries of migration of fleeing soldiers, learned men, mystics, traders, artists, and artisans from that region into the subcontinent, thereby creating a syncretic Indo-Islamic culture in the north.[120][121] The sultanate\\'s raiding and weakening of the regional kingdoms of South India paved the way for the indigenous Vijayanagara Empire.[122] Embracing a strong Shaivite tradition and building upon the military technology of the sultanate, the empire came to control much of peninsular India,[123] and was to influence South Indian society for long afterwards.[122]\\nIn the early 16th century, northern India, then under mainly Muslim rulers,[124] fell again to the superior mobility and firepower of a new generation of Central Asian warriors.[125] The resulting Mughal Empire did not stamp out the local societies it came to rule. Instead, it balanced and pacified them through new administrative practices[126][127] and diverse and inclusive ruling elites,[128] leading to more systematic, centralised, and uniform rule.[129] Eschewing tribal bonds and Islamic identity, especially under Akbar, the Mughals united their far-flung realms through loyalty, expressed through a Persianised culture, to an emperor who had near-divine status.[128] The Mughal state\\'s economic policies, deriving most revenues from agriculture[130] and mandating that taxes be paid in the well-regulated silver currency,[131] caused peasants and artisans to enter larger markets.[129] The relative peace maintained by the empire during much of the 17th century was a factor in India\\'s economic expansion,[129] resulting in greater patronage of painting, literary forms, textiles, and architecture.[132] Newly coherent social groups in northern and western India, such as the Marathas, the Rajputs, and the Sikhs, gained military and governing ambitions during Mughal rule, which, through collaboration or adversity, gave them both recognition and military experience.[133] Expanding commerce during Mughal rule gave rise to new Indian commercial and political elites along the coasts of southern and eastern India.[133] As the empire disintegrated, many among these elites were able to seek and control their own affairs.[134]\\nBy the early 18th century, with the lines between commercial and political dominance being increasingly blurred, a number of European trading companies, including the English East India Company, had established coastal outposts.[135][136] The East India Company\\'s control of the seas, greater resources, and more advanced military training and technology led it to increasingly assert its military strength and caused it to become attractive to a portion of the Indian elite; these factors were crucial in allowing the company to gain control over the Bengal region by 1765 and sideline the other European companies.[137][135][138][139] Its further access to the riches of Bengal and the subsequent increased strength and size of its army enabled it to annex or subdue most of India by the 1820s.[140] India was then no longer exporting manufactured goods as it long had, but was instead supplying the British Empire with raw materials. Many historians consider this to be the onset of India\\'s colonial period.[135] By this time, with its economic power severely curtailed by the British parliament and having effectively been made an arm of British administration, the East India Company began more consciously to enter non-economic arenas, including education, social reform, and culture.[141]\\nHistorians consider India\\'s modern age to have begun sometime between 1848 and 1885. The appointment in 1848 of Lord Dalhousie as Governor General of the East India Company set the stage for changes essential to a modern state. These included the consolidation and demarcation of sovereignty, the surveillance of the population, and the education of citizens. Technological changes—among them, railways, canals, and the telegraph—were introduced not long after their introduction in Europe.[142][143][144][145] However, disaffection with the company also grew during this time and set off the Indian Rebellion of 1857. Fed by diverse resentments and perceptions, including invasive British-style social reforms, harsh land taxes, and summary treatment of some rich landowners and princes, the rebellion rocked many regions of northern and central India and shook the foundations of Company rule.[146][147] Although the rebellion was suppressed by 1858, it led to the dissolution of the East India Company and the direct administration of India by the British government. Proclaiming a unitary state and a gradual but limited British-style parliamentary system, the new rulers also protected princes and landed gentry as a feudal safeguard against future unrest.[148][149] In the decades following, public life gradually emerged all over India, leading eventually to the founding of the Indian National Congress in 1885.[150][151][152][153]\\nThe rush of technology and the commercialisation of agriculture in the second half of the 19th century was marked by economic setbacks, and many small farmers became dependent on the whims of far-away markets.[154] There was an increase in the number of large-scale famines,[155] and, despite the risks of infrastructure development borne by Indian taxpayers, little industrial employment was generated for Indians.[156] There were also salutary effects: commercial cropping, especially in the newly canalled Punjab, led to increased food production for internal consumption.[157] The railway network provided critical famine relief,[158] notably reduced the cost of moving goods,[158] and helped nascent Indian-owned industry.[157]\\nAfter World War I, in which approximately one million Indians served,[159] a new period began. It was marked by British reforms but also repressive legislation, by more strident Indian calls for self-rule, and by the beginnings of a nonviolent movement of non-co-operation, of which Mahatma Gandhi would become the leader and enduring symbol.[160] During the 1930s, slow legislative reform was enacted by the British; the Indian National Congress won victories in the resulting elections.[161] The next decade was beset with crises: Indian participation in World War\\xa0II, the Congress\\'s final push for non-co-operation, and an upsurge of Muslim nationalism. All were capped by the advent of independence in 1947, but tempered by the partition of India into two states: India and Pakistan.[162]\\nVital to India\\'s self-image as an independent nation was its constitution, completed in 1950, which put in place a secular and democratic republic.[163] Per the London Declaration, India retained its membership of the Commonwealth, becoming the first republic within it.[164] Economic liberalisation, which began in the 1980s and the collaboration with Soviet Union for technical know-how,[165] has created a large urban middle class, transformed India into one of the world\\'s fastest-growing economies,[166] and increased its geopolitical clout. Yet, India is also shaped by seemingly unyielding poverty, both rural and urban;[167] by religious and caste-related violence;[168] by Maoist-inspired Naxalite insurgencies;[169] and by separatism in Jammu and Kashmir and in Northeast India.[170] It has unresolved territorial disputes with China[171] and with Pakistan.[171] India\\'s sustained democratic freedoms are unique among the world\\'s newer nations; however, in spite of its recent economic successes, freedom from want for its disadvantaged population remains a goal yet to be achieved.[172]\\nIndia accounts for the bulk of the Indian subcontinent, lying atop the Indian tectonic plate, a part of the Indo-Australian Plate.[173] India\\'s defining geological processes began 75 million years ago when the Indian Plate, then part of the southern supercontinent Gondwana, began a north-eastward drift caused by seafloor spreading to its south-west, and later, south and south-east.[173] Simultaneously, the vast Tethyan oceanic crust, to its northeast, began to subduct under the Eurasian Plate.[173] These dual processes, driven by convection in the Earth\\'s mantle, both created the Indian Ocean and caused the Indian continental crust eventually to under-thrust Eurasia and to uplift the Himalayas.[173] Immediately south of the emerging Himalayas, plate movement created a vast crescent-shaped trough that rapidly filled with river-borne sediment[174] and now constitutes the Indo-Gangetic Plain.[175] The original Indian plate makes its first appearance above the sediment in the ancient Aravalli range, which extends from the Delhi Ridge in a southwesterly direction. To the west lies the Thar Desert, the eastern spread of which is checked by the Aravallis.[176][177][178]\\nThe remaining Indian Plate survives as peninsular India, the oldest and geologically most stable part of India. It extends as far north as the Satpura and Vindhya ranges in central India. These parallel chains run from the Arabian Sea coast in Gujarat in the west to the coal-rich Chota Nagpur Plateau in Jharkhand in the east.[180] To the south, the remaining peninsular landmass, the Deccan Plateau, is flanked on the west and east by coastal ranges known as the Western and Eastern Ghats;[181] the plateau contains the country\\'s oldest rock formations, some over one billion years old. Constituted in such fashion, India lies to the north of the equator between 6° 44′ and 35° 30′ north latitude[m] and 68° 7′ and 97° 25′ east longitude.[182]\\nIndia\\'s coastline measures 7,517 kilometres (4,700\\xa0mi) in length; of this distance, 5,423 kilometres (3,400\\xa0mi) belong to peninsular India and 2,094 kilometres (1,300\\xa0mi) to the Andaman, Nicobar, and Lakshadweep island chains.[183] According to the Indian naval hydrographic charts, the mainland coastline consists of the following: 43% sandy beaches; 11% rocky shores, including cliffs; and 46% mudflats or marshy shores.[183]\\nMajor Himalayan-origin rivers that substantially flow through India include the Ganges and the Brahmaputra, both of which drain into the Bay of Bengal.[184] Important tributaries of the Ganges include the Yamuna and the Kosi; the latter\\'s extremely low gradient, caused by long-term silt deposition, leads to severe floods and course changes.[185][186] Major peninsular rivers, whose steeper gradients prevent their waters from flooding, include the Godavari, the Mahanadi, the Kaveri, and the Krishna, which also drain into the Bay of Bengal;[187] and the Narmada and the Tapti, which drain into the Arabian Sea.[188] Coastal features include the marshy Rann of Kutch of western India and the alluvial Sundarbans delta of eastern India; the latter is shared with Bangladesh.[189] India has two archipelagos: the Lakshadweep, coral atolls off India\\'s south-western coast; and the Andaman and Nicobar Islands, a volcanic chain in the Andaman Sea.[190]\\nIndian climate is strongly influenced by the Himalayas and the Thar Desert, both of which drive the economically and culturally pivotal summer and winter monsoons.[191] The Himalayas prevent cold Central Asian katabatic winds from blowing in, keeping the bulk of the Indian subcontinent warmer than most locations at similar latitudes.[192][193] The Thar Desert plays a crucial role in attracting the moisture-laden south-west summer monsoon winds that, between June and October, provide the majority of India\\'s rainfall.[191] Four major climatic groupings predominate in India: tropical wet, tropical dry, subtropical humid, and montane.[194]\\nTemperatures in India have risen by 0.7\\xa0°C (1.3\\xa0°F) between 1901 and 2018.[195] Climate change in India is often thought to be the cause. The retreat of Himalayan glaciers has adversely affected the flow rate of the major Himalayan rivers, including the Ganges and the Brahmaputra.[196] According to some current projections, the number and severity of droughts in India will have markedly increased by the end of the present century.[197]\\nIndia is a megadiverse country, a term employed for 17 countries which display high biological diversity and contain many species exclusively indigenous, or endemic, to them.[198] India is a habitat for 8.6% of all mammal species, 13.7% of bird species, 7.9% of reptile species, 6% of amphibian species, 12.2% of fish species, and 6.0% of all flowering plant species.[199][200] Fully a third of Indian plant species are endemic.[201] India also contains four of the world\\'s 34 biodiversity hotspots,[70] or regions that display significant habitat loss in the presence of high endemism.[n][202]\\nAccording to official statistics, India\\'s forest cover is 713,789\\xa0km2 (275,595\\xa0sq\\xa0mi), which is 21.71% of the country\\'s total land area.[71] It can be subdivided further into broad categories of canopy density, or the proportion of the area of a forest covered by its tree canopy.[203] Very dense forest, whose canopy density is greater than 70%, occupies 3.02% of India\\'s land area.[203][204] It predominates in the tropical moist forest of the Andaman Islands, the Western Ghats, and Northeast India. Moderately dense forest, whose canopy density is between 40% and 70%, occupies 9.39% of India\\'s land area.[203][204] It predominates in the temperate coniferous forest of the Himalayas, the moist deciduous sal forest of eastern India, and the dry deciduous teak forest of central and southern India.[205] Open forest, whose canopy density is between 10% and 40%, occupies 9.26% of India\\'s land area.[203][204] India has two natural zones of thorn forest, one in the Deccan Plateau, immediately east of the Western Ghats, and the other in the western part of the Indo-Gangetic plain, now turned into rich agricultural land by irrigation, its features no longer visible.[206]\\nAmong the Indian subcontinent\\'s notable indigenous trees are the astringent Azadirachta indica, or neem, which is widely used in rural Indian herbal medicine,[207] and the luxuriant Ficus religiosa, or peepul,[208] which is displayed on the ancient seals of Mohenjo-daro,[209] and under which the Buddha is recorded in the Pali canon to have sought enlightenment.[210]\\nMany Indian species have descended from those of Gondwana, the southern supercontinent from which India separated more than 100 million years ago.[211] India\\'s subsequent collision with Eurasia set off a mass exchange of species. However, volcanism and climatic changes later caused the extinction of many endemic Indian forms.[212] Still later, mammals entered India from Asia through two zoogeographical passes flanking the Himalayas.[213] This had the effect of lowering endemism among India\\'s mammals, which stands at 12.6%, contrasting with 45.8% among reptiles and 55.8% among amphibians.[200] Among endemics are the vulnerable[214] hooded leaf monkey[215] and the threatened[216] Beddome\\'s toad[216][217] of the Western Ghats.\\nIndia contains 172 IUCN-designated threatened animal species, or 2.9% of endangered forms.[218] These include the endangered Bengal tiger and the Ganges river dolphin. Critically endangered species include the gharial, a crocodilian; the great Indian bustard; and the Indian white-rumped vulture, which has become nearly extinct by having ingested the carrion of diclofenac-treated cattle.[219] Before they were extensively used for agriculture and cleared for human settlement, the thorn forests of Punjab were mingled at intervals with open grasslands that were grazed by large herds of blackbuck preyed on by the Asiatic cheetah; the blackbuck, no longer extant in Punjab, is now severely endangered in India, and the cheetah is extinct.[220] The pervasive and ecologically devastating human encroachment of recent decades has critically endangered Indian wildlife. In response, the system of national parks and protected areas, first established in 1935, was expanded substantially. In 1972, India enacted the Wildlife Protection Act[221] and Project Tiger to safeguard crucial wilderness; the Forest Conservation Act was enacted in 1980 and amendments added in 1988.[222] India hosts more than five hundred wildlife sanctuaries and eighteen\\xa0biosphere reserves,[223] four of which are part of the World Network of Biosphere Reserves; seventy-five wetlands are registered under the Ramsar Convention.[224]\\nA parliamentary republic with a multi-party system,[227] India has six\\xa0recognised national parties, including the Indian National Congress (INC) and the Bharatiya Janata Party (BJP), and more than 50\\xa0regional parties.[228] The Congress is considered center in Indian political culture,[229] and the BJP right-wing.[230][231][232] For most of the period between 1950—when India first became a republic—and the late 1980s, the Congress held a majority in the Parliament. Since then, however, it has increasingly shared the political stage with the BJP,[233] as well as with powerful regional parties which have often forced the creation of multi-party coalition governments at the center. [234]\\nIn the Republic of India\\'s first three general elections, in 1951, 1957, and 1962, the Pandit Jawaharlal Nehru-led Congress won easy victories. On Nehru\\'s death in 1964, Lal Bahadur Shastri briefly became prime minister; he was succeeded, after his own unexpected death in 1966, by Nehru\\'s daughter Indira Gandhi, who went on to lead the Congress to election victories in 1967 and 1971. Following public discontent with the state of emergency she declared in 1975, the Congress was voted out of power in 1977; the then-new Janata Party, which had opposed the emergency, was voted in. Its government lasted just over two years. There were two prime ministers during this period; Morarji Desai and Charan Singh. Voted back into power in 1980, the Congress saw a change in leadership in 1984, when Indira Gandhi was assassinated; she was succeeded by her son Rajiv Gandhi, who won an easy victory in the general elections later that year. The Congress was voted out again in 1989 when a National Front coalition, led by the newly formed Janata Dal in alliance with the Left Front, won the elections; that government too proved relatively short-lived, lasting just under two years. There were two prime ministers during this period; V.P. Singh and Chandra Shekhar.[235] Elections were held again in 1991; no party won an absolute majority. The Congress, as the largest single party, was able to form a minority government led by P. V. Narasimha Rao.[236]\\nA two-year period of political turmoil followed the general election of 1996. Several short-lived alliances shared power at the centre. The BJP formed a government briefly in 1996; it was followed by two comparatively long-lasting United Front coalitions, which depended on external support. There were two prime ministers during this period; H.D. Deve Gowda and I.K. Gujral. In 1998, the BJP was able to form a successful coalition, the National Democratic Alliance (NDA). Led by Atal Bihari Vajpayee, the NDA became the first non-Congress, coalition government to complete a five-year term.[237] Again in the 2004 Indian general elections, no party won an absolute majority, but the Congress emerged as the largest single party, forming another successful coalition: the United Progressive Alliance (UPA). It had the support of left-leaning parties and MPs who opposed the BJP. The UPA returned to power in the 2009 general election with increased numbers, and it no longer required external support from India\\'s communist parties.[238] That year, Manmohan Singh became the first prime minister since Jawaharlal Nehru in 1957 and 1962 to be re-elected to a consecutive five-year term.[239] In the 2014 general election, the BJP became the first political party since 1984 to win a majority and govern without the support of other parties.[240] In the 2019 general election, the BJP was victorious again. In the 2024 general election, the BJP failed to achieve simple majority and the BJP-led NDA coalition formed the government. Narendra Modi, a former chief minister of Gujarat, is serving as the 14th Prime Minister of India in his third term since May 26, 2014.[241]\\nIndia is a federation with a parliamentary system governed under the Constitution of India—the country\\'s supreme legal document. It is a constitutional republic.\\nFederalism in India defines the power distribution between the union and the states. The Constitution of India, which came into effect on 26 January 1950,[243] originally stated India to be a \"sovereign, democratic republic;\" this characterisation was amended in 1971 to \"a sovereign, socialist, secular, democratic republic\".[244] India\\'s form of government, traditionally described as \"quasi-federal\" with a strong centre and weak states,[245] has grown increasingly federal since the late 1990s as a result of political, economic, and social changes.[246][247]\\nThe Government of India comprises three branches:[251]\\nIndia is a federal union comprising 28 states and 8 union territories.[13] All states, as well as the union territories of Jammu and Kashmir, Puducherry and the National Capital Territory of Delhi, have elected legislatures and governments following the Westminster system of governance. The remaining five union territories are directly ruled by the central government through appointed administrators. In 1956, under the States Reorganisation Act, states were reorganised on a linguistic basis.[267] There are over a quarter of a million local government bodies at city, town, block, district and village levels.[268]\\nIn the 1950s, India strongly supported decolonisation in Africa and Asia and played a leading role in the Non-Aligned Movement.[270] After initially cordial relations with neighbouring China, India went to war with China in 1962 and was widely thought to have been humiliated.[271] This was followed by another military conflict in 1967 in which India successfully repelled Chinese attack.[272] India has had tense relations with neighbouring Pakistan; the two nations have gone to war four times: in 1947, 1965, 1971, and 1999. Three of these wars were fought over the disputed territory of Kashmir, while the third, the 1971 war, followed from India\\'s support for the independence of Bangladesh.[273] In the late 1980s, the Indian military twice intervened abroad at the invitation of the host country: a peace-keeping operation in Sri Lanka between 1987 and 1990; and an armed intervention to prevent a 1988 coup d\\'état attempt in the Maldives. After the 1965 war with Pakistan, India began to pursue close military and economic ties with the Soviet Union; by the late 1960s, the Soviet Union was its largest arms supplier.[274]\\nAside from its ongoing special relationship with Russia,[275] India has wide-ranging defence relations with Israel and France. In recent years, it has played key roles in the South Asian Association for Regional Cooperation and the World Trade Organization. The nation has provided 100,000 military and police personnel to serve in 35 UN peacekeeping operations across four continents. It participates in the East Asia Summit, the G8+5, and other multilateral forums.[276] India has close economic ties with countries in South America,[277] Asia, and Africa; it pursues a \"Look East\" policy that seeks to strengthen partnerships with the ASEAN nations, Japan, and South Korea that revolve around many issues, but especially those involving economic investment and regional security.[278][279]\\nChina\\'s nuclear test of 1964, as well as its repeated threats to intervene in support of Pakistan in the 1965 war, convinced India to develop nuclear weapons.[281] India conducted its first nuclear weapons test in 1974 and carried out additional underground testing in 1998. Despite criticism and military sanctions, India has signed neither the Comprehensive Nuclear-Test-Ban Treaty nor the Nuclear Non-Proliferation Treaty, considering both to be flawed and discriminatory.[282] India maintains a \"no first use\" nuclear policy and is developing a nuclear triad capability as a part of its \"Minimum Credible Deterrence\" doctrine.[283][284] It is developing a ballistic missile defence shield and, a fifth-generation fighter jet.[285][286] Other indigenous military projects involve the design and implementation of Vikrant-class aircraft carriers and Arihant-class nuclear submarines.[287]\\nSince the end of the Cold War, India has increased its economic, strategic, and military co-operation with the United States and the European Union.[288] In 2008, a civilian nuclear agreement was signed between India and the United States. Although India possessed nuclear weapons at the time and was not a party to the Nuclear Non-Proliferation Treaty, it received waivers from the International Atomic Energy Agency and the Nuclear Suppliers Group, ending earlier restrictions on India\\'s nuclear technology and commerce. As a consequence, India became the sixth de facto nuclear weapons state.[289] India subsequently signed co-operation agreements involving civilian nuclear energy with Russia,[290] France,[291] the United Kingdom,[292] and Canada.[293]\\nThe President of India is the supreme commander of the nation\\'s armed forces; with 1.45\\xa0million active troops, they compose the world\\'s second-largest military. It comprises the Indian Army, the Indian Navy, the Indian Air Force, and the Indian Coast Guard.[294] The official Indian defence budget for 2011 was US$36.03\\xa0billion, or 1.83% of GDP.[295] Defence expenditure was pegged at US$70.12\\xa0billion for fiscal year 2022–23 and, increased 9.8% than previous fiscal year.[296][297] India is the world\\'s second-largest arms importer; between 2016 and 2020, it accounted for 9.5% of the total global arms imports.[298] Much of the military expenditure was focused on defence against Pakistan and countering growing Chinese influence in the Indian Ocean.[299] In May 2017, the Indian Space Research Organisation launched the South Asia Satellite, a gift from India to its neighbouring SAARC countries.[300] In October 2018, India signed a US$5.43\\xa0billion (over ₹400\\xa0billion) agreement with Russia to procure four S-400 Triumf surface-to-air missile defence systems, Russia\\'s most advanced long-range missile defence system.[301]\\nAccording to the International Monetary Fund (IMF), the Indian economy in 2024 was nominally worth $3.94\\xa0trillion; it was the fifth-largest economy by market exchange rates and is, at around $15.0\\xa0trillion, the third-largest by purchasing power parity (PPP).[17] With its average annual GDP growth rate of 5.8% over the past two decades, and reaching 6.1% during 2011–2012,[305] India is one of the world\\'s fastest-growing economies.[306] However, the country ranks 136th in the world in nominal GDP per capita and 125th in GDP per capita at PPP.[307] Until 1991, all Indian governments followed protectionist policies that were influenced by socialist economics. Widespread state intervention and regulation largely walled the economy off from the outside world. An acute balance of payments crisis in 1991 forced the nation to liberalise its economy;[308] since then, it has moved increasingly towards a free-market system[309][310] by emphasising both foreign trade and direct investment inflows.[311] India has been a member of World Trade Organization since 1 January 1995.[312]\\nThe 522-million-worker Indian labour force is the world\\'s second-largest, as of 2017[update].[294] The service sector makes up 55.6% of GDP, the industrial sector 26.3% and the agricultural sector 18.1%. India\\'s foreign exchange remittances of US$100\\xa0billion in 2022,[313] highest in the world, were contributed to its economy by 32 million Indians working in foreign countries.[314] Major agricultural products include rice, wheat, oilseed, cotton, jute, tea, sugarcane, and potatoes.[13] Major industries include textiles, telecommunications, chemicals, pharmaceuticals, biotechnology, food processing, steel, transport equipment, cement, mining, petroleum, machinery, and software.[13] In 2006, the share of external trade in India\\'s GDP stood at 24%, up from 6% in 1985.[309] In 2008, India\\'s share of world trade was 1.7%;[315] In 2021, India was the world\\'s ninth-largest importer and the sixteenth-largest exporter.[316] Major exports include petroleum products, textile goods, jewellery, software, engineering goods, chemicals, and manufactured leather goods.[13] Major imports include crude oil, machinery, gems, fertiliser, and chemicals.[13] Between 2001 and 2011, the contribution of petrochemical and engineering goods to total exports grew from 14% to 42%.[317] India was the world\\'s second-largest textile exporter after China in the 2013 calendar year.[318]\\nAveraging an economic growth rate of 7.5% for several years prior to 2007,[309] India has more than doubled its hourly wage rates during the first decade of the 21st century.[319] Some 431 million Indians have left poverty since 1985; India\\'s middle classes are projected to number around 580\\xa0million by 2030.[320] Though ranking 68th in global competitiveness,[321] as of 2010[update], India ranks 17th in financial market sophistication, 24th in the banking sector, 44th in business sophistication, and 39th in innovation, ahead of several advanced economies.[322] With seven of the world\\'s top 15 information technology outsourcing companies based in India, as of 2009[update], the country is viewed as the second-most favourable outsourcing destination after the United States.[323] India is ranked 40th in the Global Innovation Index in 2023.[324] As of 2023[update], India\\'s consumer market was the world\\'s fifth-largest.[325]\\nDriven by growth, India\\'s nominal GDP per capita increased steadily from US$308 in 1991, when economic liberalisation began, to US$1,380 in 2010, to an estimated US$2,731 in 2024. It is expected to grow to US$3,264 by 2026.[17] However, it has remained lower than those of other Asian developing countries such as Indonesia, Malaysia, Philippines, Sri Lanka, and Thailand, and is expected to remain so in the near future.\\nAccording to a 2011 PricewaterhouseCoopers (PwC) report, India\\'s GDP at purchasing power parity could overtake that of the United States by 2045.[327] During the next four decades, Indian GDP is expected to grow at an annualised average of 8%, making it potentially the world\\'s fastest-growing major economy until 2050.[327] The report highlights key growth factors: a young and rapidly growing working-age population; growth in the manufacturing sector because of rising education and engineering skill levels; and sustained growth of the consumer market driven by a rapidly growing middle-class.[327] The World Bank cautions that, for India to achieve its economic potential, it must continue to focus on public sector reform, transport infrastructure, agricultural and rural development, removal of labour regulations, education, energy security, and public health and nutrition.[328]\\nAccording to the Worldwide Cost of Living Report 2017 released by the Economist Intelligence Unit (EIU) which was created by comparing more than 400 individual prices across 160 products and services, four of the cheapest cities were in India: Bangalore (3rd), Mumbai (5th), Chennai (5th) and New Delhi (8th).[329]\\nIndia\\'s telecommunication industry is the second-largest in the world with over 1.2\\xa0billion subscribers. It contributes 6.5% to India\\'s GDP.[330] After the third quarter of 2017, India surpassed the US to become the second-largest smartphone market in the world after China.[331]\\nThe Indian automotive industry, the world\\'s second-fastest growing, increased domestic sales by 26% during 2009–2010,[332] and exports by 36% during 2008–2009.[333] In 2022, India became the world\\'s third-largest vehicle market after China and the United States, surpassing Japan.[334] At the end of 2011, the Indian IT industry employed 2.8\\xa0million professionals, generated revenues close to US$100\\xa0billion equalling 7.5% of Indian GDP, and contributed 26% of India\\'s merchandise exports.[335]\\nThe pharmaceutical industry in India emerged as a global player. As of 2021, with 3000 pharmaceutical companies and 10,500 manufacturing units India is the world\\'s third-largest pharmaceutical producer, largest producer of generic medicines and supply up to 50–60% of global vaccines demand, these all contribute up to US$24.44\\xa0billions in exports and India\\'s local pharmaceutical market is estimated up to US$42\\xa0billion.[336][337] India is among the top 12 biotech destinations in the world.[338][339] The Indian biotech industry grew by 15.1% in 2012–2013, increasing its revenues from ₹204.4\\xa0billion (Indian rupees) to ₹235.24\\xa0billion (US$3.94\\xa0billion at June 2013 exchange rates).[340]\\nIndia\\'s capacity to generate electrical power is 300 gigawatts, of which 42 gigawatts is renewable.[341] The country\\'s usage of coal is a major cause of greenhouse gas emissions by India but its renewable energy is competing strongly.[342] India emits about 7% of global greenhouse gas emissions. This equates to about 2.5 tons of carbon dioxide per person per year, which is half the world average.[343][344] Increasing access to electricity and clean cooking with liquefied petroleum gas have been priorities for energy in India.[345]\\nDespite economic growth during recent decades, India continues to face socio-economic challenges. In 2006, India contained the largest number of people living below the World Bank\\'s international poverty line of US$1.25 per day.[347] The proportion decreased from 60% in 1981 to 42% in 2005.[348] Under the World Bank\\'s later revised poverty line, it was 21% in 2011.[p][350] 30.7% of India\\'s children under the age of five are underweight.[351] According to a Food and Agriculture Organization report in 2015, 15% of the population is undernourished.[352][353] The Midday Meal Scheme attempts to lower these rates.[354]\\nA 2018 Walk Free Foundation report estimated that nearly 8\\xa0million people in India were living in different forms of modern slavery, such as bonded labour, child labour, human trafficking, and forced begging, among others.[355] According to the 2011 census, there were 10.1\\xa0million child labourers in the country, a decline of 2.6\\xa0million from 12.6\\xa0million in 2001.[356]\\nSince 1991, economic inequality between India\\'s states has consistently grown: the per-capita net state domestic product of the richest states in 2007 was 3.2 times that of the poorest.[357] Corruption in India is perceived to have decreased. According to the Corruption Perceptions Index, India ranked 78th out of 180 countries in 2018 with a score of 41 out of 100, an improvement from 85th in 2014.[358][359]\\nWith an estimated 1,428,627,663 residents in 2023, India is the world\\'s most populous country.[14] 1,210,193,422 residents were reported in the 2011 provisional census report.[360] Its population grew by 17.64% from 2001 to 2011,[361] compared to 21.54% growth in the previous decade (1991–2001).[361] The human sex ratio, according to the 2011 census, is 940 females per 1,000 males.[360] The median age was 28.7 as of 2020[update].[294] The first post-colonial census, conducted in 1951, counted 361\\xa0million people.[362] Medical advances made in the last 50 years as well as increased agricultural productivity brought about by the \"Green Revolution\" have caused India\\'s population to grow rapidly.[363]\\nThe life expectancy in India is at 70 years—71.5 years for women, 68.7 years for men.[294] There are around 93 physicians per 100,000 people.[364] Migration from rural to urban areas has been an important dynamic in India\\'s recent history. The number of people living in urban areas grew by 31.2% between 1991 and 2001.[365] Yet, in 2001, over 70% still lived in rural areas.[366][367] The level of urbanisation increased further from 27.81% in the 2001 Census to 31.16% in the 2011 Census. The slowing down of the overall population growth rate was due to the sharp decline in the growth rate in rural areas since 1991.[368] According to the 2011 census, there are 53 million-plus urban agglomerations in India; among them Mumbai, Delhi, Kolkata, Chennai, Bangalore, Hyderabad and Ahmedabad, in decreasing order by population.[369] The literacy rate in 2011 was 74.04%: 65.46% among females and 82.14% among males.[370] The rural-urban literacy gap, which was 21.2 percentage points in 2001, dropped to 16.1 percentage points in 2011. The improvement in the rural literacy rate is twice that of urban areas.[368] Kerala is the most literate state with 93.91% literacy; while Bihar the least with 63.82%.[370]\\nAmong speakers of the Indian languages, 74% speak Indo-Aryan languages, the easternmost branch of the Indo-European languages; 24% speak Dravidian languages, indigenous to South Asia and spoken widely before the spread of Indo-Aryan languages and 2% speak Austroasiatic languages or the Sino-Tibetan languages. India has no national language.[371] Hindi, with the largest number of speakers, is the official language of the government.[372][373] English is used extensively in business and administration and has the status of a \"subsidiary official language\";[6] it is important in education, especially as a medium of higher education. Each state and union territory has one or more official languages, and the constitution recognises in particular 22 \"scheduled languages\".\\nThe 2011 census reported the religion in India with the largest number of followers was Hinduism (79.80% of the population), followed by Islam (14.23%); the remaining were Christianity (2.30%), Sikhism (1.72%), Buddhism (0.70%), Jainism (0.36%) and others[q] (0.9%).[12] India has the third-largest Muslim population—the largest for a non-Muslim majority country.[374][375]\\nIndian cultural history spans more than 4,500 years.[376] During the Vedic period (c.\\u20091700\\xa0BCE\\xa0– c.\\u2009500\\xa0BCE), the foundations of Hindu philosophy, mythology, theology and literature were laid, and many beliefs and practices which still exist today, such as dhárma, kárma, yóga, and mokṣa, were established.[75] India is notable for its religious diversity, with Hinduism, Buddhism, Sikhism, Islam, Christianity, and Jainism among the nation\\'s major religions.[377] The predominant religion, Hinduism, has been shaped by various historical schools of thought, including those of the Upanishads,[378] the Yoga Sutras, the Bhakti movement,[377] and by Buddhist philosophy.[379]\\nIndia has a very ancient tradition of art, which has exchanged many influences with the rest of Eurasia, especially in the first millennium, when Buddhist art spread with Indian religions to Central, East and Southeast Asia, the last also greatly influenced by Hindu art.[380] Thousands of seals from the Indus Valley Civilization of the third millennium BCE have been found, usually carved with animals, but a few with human figures. The \"Pashupati\" seal, excavated in Mohenjo-daro, Pakistan, in 1928–29, is the best known.[381][382] After this there is a long period with virtually nothing surviving.[382][383] Almost all surviving ancient Indian art thereafter is in various forms of religious sculpture in durable materials, or coins. There was probably originally far more in wood, which is lost. In north India Mauryan art is the first imperial movement.[384][385][386] In the first millennium CE, Buddhist art spread with Indian religions to Central, East and Southeast Asia, the last also greatly influenced by Hindu art.[387] Over the following centuries a distinctly Indian style of sculpting the human figure developed, with less interest in articulating precise anatomy than ancient Greek sculpture but showing smoothly flowing forms expressing prana (\"breath\" or life-force).[388][389] This is often complicated by the need to give figures multiple arms or heads, or represent different genders on the left and right of figures, as with the Ardhanarishvara form of Shiva and Parvati.[390][391]\\nMost of the earliest large sculpture is Buddhist, either excavated from Buddhist stupas such as Sanchi, Sarnath and Amaravati,[392] or is rock cut reliefs at sites such as Ajanta, Karla and Ellora. Hindu and Jain sites appear rather later.[393][394] In spite of this complex mixture of religious traditions, generally, the prevailing artistic style at any time and place has been shared by the major religious groups, and sculptors probably usually served all communities.[395] Gupta art, at its peak c.\\u2009300\\xa0CE\\xa0– c.\\u2009500\\xa0CE, is often regarded as a classical period whose influence lingered for many centuries after; it saw a new dominance of Hindu sculpture, as at the Elephanta Caves.[396][397] Across the north, this became rather stiff and formulaic after c.\\u2009800\\xa0CE, though rich with finely carved detail in the surrounds of statues.[398] But in the South, under the Pallava and Chola dynasties, sculpture in both stone and bronze had a sustained period of great achievement; the large bronzes with Shiva as Nataraja have become an iconic symbol of India.[399][400]\\nAncient painting has only survived at a few sites, of which the crowded scenes of court life in the Ajanta Caves are by far the most important, but it was evidently highly developed, and is mentioned as a courtly accomplishment in Gupta times.[401][402] Painted manuscripts of religious texts survive from Eastern India about the 10th century onwards, most of the earliest being Buddhist and later Jain. No doubt the style of these was used in larger paintings.[403] The Persian-derived Deccan painting, starting just before the Mughal miniature, between them give the first large body of secular painting, with an emphasis on portraits, and the recording of princely pleasures and wars.[404][405] The style spread to Hindu courts, especially among the Rajputs, and developed a variety of styles, with the smaller courts often the most innovative, with figures such as Nihâl Chand and Nainsukh.[406][407] As a market developed among European residents, it was supplied by Company painting by Indian artists with considerable Western influence.[408][409] In the 19th century, cheap Kalighat paintings of gods and everyday life, done on paper, were urban folk art from Calcutta, which later saw the Bengal School of Art, reflecting the art colleges founded by the British, the first movement in modern Indian painting.[410][411]\\nMuch of Indian architecture, including the Taj Mahal, other works of Indo-Islamic Mughal architecture, and South Indian architecture, blends ancient local traditions with imported styles.[412] Vernacular architecture is also regional in its flavours. Vastu shastra, literally \"science of construction\" or \"architecture\" and ascribed to Mamuni Mayan,[413] explores how the laws of nature affect human dwellings;[414] it employs precise geometry and directional alignments to reflect perceived cosmic constructs.[415] As applied in Hindu temple architecture, it is influenced by the Shilpa Shastras, a series of foundational texts whose basic mythological form is the Vastu-Purusha mandala, a square that embodied the \"absolute\".[416] The Taj Mahal, built in Agra between 1631 and 1648 by orders of Mughal emperor Shah Jahan in memory of his wife, has been described in the UNESCO World Heritage List as \"the jewel of Muslim art in India and one of the universally admired masterpieces of the world\\'s heritage\".[417] Indo-Saracenic Revival architecture, developed by the British in the late 19th century, drew on Indo-Islamic architecture.[418]\\nThe earliest literature in India, composed between 1500\\xa0BCE and 1200\\xa0CE, was in the Sanskrit language.[419] Major works of Sanskrit literature include the Rigveda (c.\\u20091500\\xa0BCE\\xa0– c.\\u20091200\\xa0BCE), the epics: Mahābhārata (c.\\u2009400\\xa0BCE\\xa0– c.\\u2009400\\xa0CE) and the Ramayana (c.\\u2009300\\xa0BCE and later); Abhijñānaśākuntalam (The Recognition of Śakuntalā, and other dramas of Kālidāsa (c.\\u20095th century\\xa0CE) and Mahākāvya poetry.[420][421][422] In Tamil literature, the Sangam literature (c.\\u2009600\\xa0BCE\\xa0– c.\\u2009300\\xa0BCE) consisting of 2,381 poems, composed by 473 poets, is the earliest work.[423][424][425][426] From the 14th to the 18th centuries, India\\'s literary traditions went through a period of drastic change because of the emergence of devotional poets like Kabīr, Tulsīdās, and Guru Nānak. This period was characterised by a varied and wide spectrum of thought and expression; as a consequence, medieval Indian literary works differed significantly from classical traditions.[427] In the 19th century, Indian writers took a new interest in social questions and psychological descriptions. In the 20th century, Indian literature was influenced by the works of the Bengali poet, author and philosopher Rabindranath Tagore,[428] who was a recipient of the Nobel Prize in Literature.\\nIndian music ranges over various traditions and regional styles. Classical music encompasses two genres and their various folk offshoots: the northern Hindustani and the southern Carnatic schools.[429] Regionalised popular forms include filmi and folk music; the syncretic tradition of the bauls is a well-known form of the latter. Indian dance also features diverse folk and classical forms. Among the better-known folk dances are: bhangra of Punjab, bihu of Assam, Jhumair and chhau of Jharkhand, Odisha and West Bengal, garba and dandiya of Gujarat, ghoomar of Rajasthan, and lavani of Maharashtra. Eight dance forms, many with narrative forms and mythological elements, have been accorded classical dance status by India\\'s National Academy of Music, Dance, and Drama. These are: bharatanatyam of the state of Tamil Nadu, kathak of Uttar Pradesh, kathakali and mohiniyattam of Kerala, kuchipudi of Andhra Pradesh, manipuri of Manipur, odissi of Odisha, and the sattriya of Assam.[430]\\nTheatre in India melds music, dance, and improvised or written dialogue.[431] Often based on Hindu mythology, but also borrowing from medieval romances or social and political events, Indian theatre includes: the bhavai of Gujarat, the jatra of West Bengal, the nautanki and ramlila of North India, tamasha of Maharashtra, burrakatha of Andhra Pradesh and Telangana, terukkuttu of Tamil Nadu, and the yakshagana of Karnataka.[432] India has a theatre training institute the National School of Drama (NSD) that is situated at New Delhi. It is an autonomous organisation under the Ministry of culture, Government of India.[433]\\nThe Indian film industry produces the world\\'s most-watched cinema.[434] Established regional cinematic traditions exist in the Assamese, Bengali, Bhojpuri, Hindi, Kannada, Malayalam, Punjabi, Gujarati, Marathi, Odia, Tamil, and Telugu languages.[435] The Hindi language film industry (Bollywood) is the largest sector representing 43% of box office revenue, followed by the South Indian Telugu and Tamil film industries which represent 36% combined.[436]\\nTelevision broadcasting began in India in 1959 as a state-run medium of communication and expanded slowly for more than two decades.[437][438] The state monopoly on television broadcast ended in the 1990s. Since then, satellite channels have increasingly shaped the popular culture of Indian society.[439] Today, television is the most penetrative media in India; industry estimates indicate that as of 2012[update] there are over 554 million TV consumers, 462\\xa0million with satellite or cable connections compared to other forms of mass media such as the press (350\\xa0million), radio (156\\xa0million) or internet (37\\xa0million).[440]\\nTraditional Indian society is sometimes defined by social hierarchy. The Indian caste system embodies much of the social stratification and many of the social restrictions found on the Indian subcontinent. Social classes are defined by thousands of endogamous hereditary groups, often termed as jātis, or \"castes\".[441] India abolished untouchability in 1950 with the adoption of the constitution and has since enacted other anti-discriminatory laws and social welfare initiatives.\\nFamily values are important in the Indian tradition, and multi-generational patrilineal joint families have been the norm in India, though nuclear families are becoming common in urban areas.[442] An overwhelming majority of Indians, with their consent, have their marriages arranged by their parents or other family elders.[443] Marriage is thought to be for life,[443] and the divorce rate is extremely low,[444] with less than one in a thousand marriages ending in divorce.[445] Child marriages are common, especially in rural areas; many women wed before reaching 18, which is their legal marriageable age.[446] Female infanticide in India, and lately female foeticide, have created skewed gender ratios; the number of missing women in the country quadrupled from 15 million to 63\\xa0million in the 50-year period ending in 2014, faster than the population growth during the same period, and constituting 20 percent of India\\'s female electorate.[447] According to an Indian government study, an additional 21 million girls are unwanted and do not receive adequate care.[448] Despite a government ban on sex-selective foeticide, the practice remains commonplace in India, the result of a preference for boys in a patriarchal society.[449] The payment of dowry, although illegal, remains widespread across class lines.[450] Deaths resulting from dowry, mostly from bride burning, are on the rise, despite stringent anti-dowry laws.[451]\\nMany Indian festivals are religious in origin. The best known include Diwali, Ganesh Chaturthi, Thai Pongal, Holi, Durga Puja, Eid ul-Fitr, Bakr-Id, Christmas, and Vaisakhi.[452][453]\\nIn the 2011 census, about 73% of the population was literate, with 81% for men and 65% for women. This compares to 1981 when the respective rates were 41%, 53% and 29%. In 1951 the rates were 18%, 27% and 9%. In 1921 the rates 7%, 12% and 2%. In 1891 they were 5%, 9% and 1%,[454][455] According to Latika Chaudhary, in 1911 there were under three primary schools for every ten villages. Statistically, more caste and religious diversity reduced private spending. Primary schools taught literacy, so local diversity limited its growth.[456]\\nThe education system of India is the world\\'s second-largest.[457] India has over 900 universities, 40,000 colleges[458] and 1.5\\xa0million schools.[459] In India\\'s higher education system, a significant number of seats are reserved under affirmative action policies for the historically disadvantaged. In recent decades India\\'s improved education system is often cited as one of the main contributors to its economic development.[460][461]\\nFrom ancient times until the advent of the modern, the most widely worn traditional dress in India was draped.[462] For women it took the form of a sari, a single piece of cloth many yards long.[462] The sari was traditionally wrapped around the lower body and the shoulder.[462] In its modern form, it is combined with an underskirt, or Indian petticoat, and tucked in the waist band for more secure fastening. It is also commonly worn with an Indian blouse, or choli, which serves as the primary upper-body garment, the sari\\'s end—passing over the shoulder—serving to cover the midriff and obscure the upper body\\'s contours.[462] For men, a similar but shorter length of cloth, the dhoti, has served as a lower-body garment.[463]\\nThe use of stitched clothes became widespread after Muslim rule was established at first by the Delhi sultanate (c.\\u20091300 CE) and then continued by the Mughal Empire (c.\\u20091525 CE).[464] Among the garments introduced during this time and still commonly worn are: the shalwars and pyjamas, both styles of trousers, and the tunics kurta and kameez.[464] In southern India, the traditional draped garments were to see much longer continuous use.[464]\\nSalwars are atypically wide at the waist but narrow to a cuffed bottom. They are held up by a drawstring, which causes them to become pleated around the waist.[465] The pants can be wide and baggy, or they can be cut quite narrow, on the bias, in which case they are called churidars. When they are ordinarily wide at the waist and their bottoms are hemmed but not cuffed, they are called pyjamas. The kameez is a long shirt or tunic,[466] its side seams left open below the waistline.[467] The kurta is traditionally collarless and made of cotton or silk; it is worn plain or with embroidered decoration, such as chikan; and typically falls to either just above or just below the wearer\\'s knees.[468]\\nIn the last 50 years, fashions have changed a great deal in India. Increasingly, in urban northern India, the sari is no longer the apparel of everyday wear, though they remain popular on formal occasions.[469] The traditional shalwar kameez is rarely worn by younger urban women, who favour churidars or jeans.[469] In white-collar office settings, ubiquitous air conditioning allows men to wear sports jackets year-round.[469] For weddings and formal occasions, men in the middle- and upper classes often wear bandgala, or short Nehru jackets, with pants, with the groom and his groomsmen sporting sherwanis and churidars.[469] The dhoti, once the universal garment of Hindu males, the wearing of which in the homespun and handwoven khadi allowed Gandhi to bring Indian nationalism to the millions,[470]\\nis seldom seen in the cities.[469]\\nThe foundation of a typical Indian meal is a cereal cooked in a plain fashion and complemented with flavourful savoury dishes.[471] The cooked cereal could be steamed rice; chapati, a thin unleavened bread made from wheat flour, or occasionally cornmeal, and griddle-cooked dry;[472] the idli, a steamed breakfast cake, or dosa, a griddled pancake, both leavened and made from a batter of rice- and gram meal.[473] The savoury dishes might include lentils, pulses and vegetables commonly spiced with ginger and garlic, but also with a combination of spices that may include coriander, cumin, turmeric, cinnamon, cardamon and others as informed by culinary conventions.[471] They might also include poultry, fish, or meat dishes. In some instances, the ingredients might be mixed during the process of cooking.[474]\\nA platter, or thali, used for eating usually has a central place reserved for the cooked cereal, and peripheral ones for the flavourful accompaniments, which are often served in small bowls. The cereal and its accompaniments are eaten simultaneously rather than a piecemeal manner. This is accomplished by mixing—for example of rice and lentils—or folding, wrapping, scooping or dipping—such as chapati and cooked vegetables or lentils.[471]\\nIndia has distinctive vegetarian cuisines, each a feature of the geographical and cultural histories of its adherents.[476] The appearance of ahimsa, or the avoidance of violence toward all forms of life in many religious orders early in Indian history, especially Upanishadic Hinduism, Buddhism and Jainism, is thought to have contributed to the predominance of vegetarianism among a large segment of India\\'s Hindu population, especially in southern India, Gujarat, the Hindi-speaking belt of north-central India, as well as among Jains.[476] Although meat is eaten widely in India, the proportional consumption of meat in the overall diet is low.[477] Unlike China, which has increased its per capita meat consumption substantially in its years of increased economic growth, in India the strong dietary traditions have contributed to dairy, rather than meat, becoming the preferred form of animal protein consumption.[478]\\nThe most significant import of cooking techniques into India during the last millennium occurred during the Mughal Empire. Dishes such as the pilaf,[479] developed in the Abbasid caliphate,[480] and cooking techniques such as the marinating of meat in yogurt, spread into northern India from regions to its northwest.[481] To the simple yogurt marinade of Persia, onions, garlic, almonds, and spices began to be added in India.[481] Rice was partially cooked and layered alternately with the sauteed meat, the pot sealed tightly, and slow cooked according to another Persian cooking technique, to produce what has today become the Indian biryani,[481] a feature of festive dining in many parts of India.[482] In the food served in Indian restaurants worldwide the diversity of Indian food has been partially concealed by the dominance of Punjabi cuisine. The popularity of tandoori chicken—cooked in the tandoor oven, which had traditionally been used for baking bread in the rural Punjab and the Delhi region, especially among Muslims, but which is originally from Central Asia—dates to the 1950s, and was caused in large part by an entrepreneurial response among people from the Punjab who had been displaced by the 1947 partition of India.[476]\\nSeveral traditional indigenous sports such as kabaddi, kho kho, pehlwani and gilli-danda, and also martial arts such as Kalarippayattu and marma adi, remain popular. Chess is commonly held to have originated in India as chaturaṅga;[484] in recent years, there has been a rise in the number of Indian grandmasters.[485] Viswanathan Anand became the Chess World Champion in 2007 and held the status until 2013. He also won the Chess World Cup in 2000 and 2002. In 2023, R Praggnanandhaa finished as runners up in the tournament.[486] Parcheesi is derived from Pachisi, another traditional Indian pastime, which in early modern times was played on a giant marble court by Mughal emperor Akbar the Great.[487]\\nCricket is the most popular sport in India.[488] The major domestic league is the Indian Premier League. Professional leagues in other sports include the Indian Super League (football) and the Pro Kabaddi league.[489][490][491]\\nIndia has won two Cricket World Cups, the 1983 edition and the 2011 edition. India became the inaugural ICC Men\\'s T20 World Cup Champions in 2007, and won it again in 2024. India has also won the Champions Trophy twice, in 2002 and 2013. The only edition of the World Championship of Cricket was won by India in 1985.\\nIndia also has eight field hockey gold medals in the summer olympics.[492]\\nThe improved results garnered by the Indian Davis Cup team and other tennis players in the early 2010s have made tennis increasingly popular in the country.[493] India has a comparatively strong presence in shooting sports, and has won several medals at the Olympics, the World Shooting Championships, and the Commonwealth Games.[494][495] Other sports in which Indians have succeeded internationally include badminton[496] (Saina Nehwal and P. V. Sindhu are two of the top-ranked female badminton players in the world), boxing,[497] and wrestling.[498] Football is popular in West Bengal, Goa, Tamil Nadu, Kerala, and the north-eastern states.India has traditionally been the dominant country at the South Asian Games. An example of this dominance is the basketball competition where the Indian team won four out of five tournaments to date.[499][500]\\nIndia has hosted or co-hosted several international sporting events: the 1951 and 1982 Asian Games; the 1987, 1996, 2011 and 2023 ICC Men\\'s Cricket World Cup tournaments (and is also scheduled to host it in 2031); the 1978, 1997 and 2013 ICC Women\\'s Cricket World Cup tournaments (and is also scheduled to host it in 2025); the 1987, 1985 and 2016 South Asian Games; the 1990–91 Men\\'s Asia Cup; the 2002 Chess World Cup; the 2003 Afro-Asian Games; the 2006 ICC Cricket Champion\\'s Trophy (and is also scheduled to host it in 2029); the 2006 Women\\'s Asia Cup; the 2009 World Badminton Championships; the 2010 Hockey World Cup; the 2010 Commonwealth Games; the 2016 ICC Men\\'s Cricket T20 World Cup (and is also scheduled to host it in 2026); the 2016 ICC Women\\'s Cricket T20 World Cup and the 2017 FIFA U-17 World Cup. Major international sporting events held annually in India include the Maharashtra Open, the Mumbai Marathon, the Delhi Half Marathon, and the Indian Masters. The first Formula 1 Indian Grand Prix featured in late 2011 but has been discontinued from the F1 season calendar since 2014.[501]\\nOverview\\nEtymology\\nHistory\\nGeography\\nBiodiversity\\nPolitics\\nForeign relations and military\\nEconomy\\nDemographics\\nArt\\nCulture\\nGovernment\\nGeneral information\\n21°N 78°E\\ufeff / \\ufeff21°N 78°E\\ufeff / 21; 78\\n'"
      ]
     },
     "execution_count": 61,
     "metadata": {},
     "output_type": "execute_result"
    }
   ],
   "source": [
    "p_str"
   ]
  },
  {
   "cell_type": "code",
   "execution_count": null,
   "id": "a85a1a48-57b6-4849-a07d-9864550a853a",
   "metadata": {},
   "outputs": [],
   "source": []
  },
  {
   "cell_type": "code",
   "execution_count": 57,
   "id": "26c7b0b1-8ac5-4055-80ac-c0750da35645",
   "metadata": {},
   "outputs": [
    {
     "data": {
      "text/plain": [
       "0"
      ]
     },
     "execution_count": 57,
     "metadata": {},
     "output_type": "execute_result"
    }
   ],
   "source": [
    "span_ =bs.find_all('span',class_=\"hide-when-compact\")\n",
    "len(span_)"
   ]
  },
  {
   "cell_type": "code",
   "execution_count": null,
   "id": "e2cedf66-e1c2-47c0-9a25-308c42918d20",
   "metadata": {},
   "outputs": [],
   "source": []
  },
  {
   "cell_type": "code",
   "execution_count": null,
   "id": "8926df76-bde1-488e-b565-c9ab9468d074",
   "metadata": {},
   "outputs": [],
   "source": [
    "# Image Tag"
   ]
  },
  {
   "cell_type": "code",
   "execution_count": 39,
   "id": "0607fbed-1313-40e9-9cee-81c9c3991f1f",
   "metadata": {},
   "outputs": [],
   "source": [
    "img_tags=bs.find_all('img')"
   ]
  },
  {
   "cell_type": "code",
   "execution_count": 63,
   "id": "24a3088b-3226-4ee2-a078-dde4687eb88a",
   "metadata": {},
   "outputs": [
    {
     "data": {
      "text/plain": [
       "133"
      ]
     },
     "execution_count": 63,
     "metadata": {},
     "output_type": "execute_result"
    }
   ],
   "source": [
    "len(img_tags)"
   ]
  },
  {
   "cell_type": "code",
   "execution_count": 41,
   "id": "cdb5e414-2e73-4adb-b43b-d26d5b55962a",
   "metadata": {},
   "outputs": [
    {
     "data": {
      "text/plain": [
       "[<img alt=\"\" aria-hidden=\"true\" class=\"mw-logo-icon\" height=\"50\" src=\"/static/images/icons/wikipedia.png\" width=\"50\"/>,\n",
       " <img alt=\"Wikipedia\" class=\"mw-logo-wordmark\" src=\"/static/images/mobile/copyright/wikipedia-wordmark-en.svg\" style=\"width: 7.5em; height: 1.125em;\"/>,\n",
       " <img alt=\"The Free Encyclopedia\" class=\"mw-logo-tagline\" height=\"13\" src=\"/static/images/mobile/copyright/wikipedia-tagline-en.svg\" style=\"width: 7.3125em; height: 0.8125em;\" width=\"117\"/>,\n",
       " <img alt=\"Featured article\" class=\"mw-file-element\" data-file-height=\"443\" data-file-width=\"466\" decoding=\"async\" height=\"19\" src=\"//upload.wikimedia.org/wikipedia/en/thumb/e/e7/Cscr-featured.svg/20px-Cscr-featured.svg.png\" srcset=\"//upload.wikimedia.org/wikipedia/en/thumb/e/e7/Cscr-featured.svg/30px-Cscr-featured.svg.png 1.5x, //upload.wikimedia.org/wikipedia/en/thumb/e/e7/Cscr-featured.svg/40px-Cscr-featured.svg.png 2x\" width=\"20\"/>,\n",
       " <img alt=\"Extended-protected article\" class=\"mw-file-element\" data-file-height=\"512\" data-file-width=\"512\" decoding=\"async\" height=\"20\" src=\"//upload.wikimedia.org/wikipedia/en/thumb/8/8c/Extended-protection-shackle.svg/20px-Extended-protection-shackle.svg.png\" srcset=\"//upload.wikimedia.org/wikipedia/en/thumb/8/8c/Extended-protection-shackle.svg/30px-Extended-protection-shackle.svg.png 1.5x, //upload.wikimedia.org/wikipedia/en/thumb/8/8c/Extended-protection-shackle.svg/40px-Extended-protection-shackle.svg.png 2x\" width=\"20\"/>,\n",
       " <img alt=\"Horizontal tricolour flag bearing, from top to bottom, deep saffron, white, and green horizontal bands. In the centre of the white band is a navy-blue wheel with 24 spokes.\" class=\"mw-file-element\" data-file-height=\"600\" data-file-width=\"900\" decoding=\"async\" height=\"83\" src=\"//upload.wikimedia.org/wikipedia/en/thumb/4/41/Flag_of_India.svg/125px-Flag_of_India.svg.png\" srcset=\"//upload.wikimedia.org/wikipedia/en/thumb/4/41/Flag_of_India.svg/188px-Flag_of_India.svg.png 1.5x, //upload.wikimedia.org/wikipedia/en/thumb/4/41/Flag_of_India.svg/250px-Flag_of_India.svg.png 2x\" width=\"125\"/>,\n",
       " <img alt='Three lions facing left, right, and toward viewer, atop a frieze containing a galloping horse, a 24-spoke wheel, and an elephant. Underneath is a motto: \"सत्यमेव जयते\".' class=\"mw-file-element\" data-file-height=\"933\" data-file-width=\"585\" decoding=\"async\" height=\"96\" src=\"//upload.wikimedia.org/wikipedia/commons/thumb/5/55/Emblem_of_India.svg/60px-Emblem_of_India.svg.png\" srcset=\"//upload.wikimedia.org/wikipedia/commons/thumb/5/55/Emblem_of_India.svg/90px-Emblem_of_India.svg.png 1.5x, //upload.wikimedia.org/wikipedia/commons/thumb/5/55/Emblem_of_India.svg/120px-Emblem_of_India.svg.png 2x\" width=\"60\"/>,\n",
       " <img alt=\"Image of a globe centred on India, with India highlighted.\" class=\"mw-file-element\" data-file-height=\"541\" data-file-width=\"541\" decoding=\"async\" height=\"250\" src=\"//upload.wikimedia.org/wikipedia/commons/thumb/b/bb/India_%28orthographic_projection%29.svg/250px-India_%28orthographic_projection%29.svg.png\" srcset=\"//upload.wikimedia.org/wikipedia/commons/thumb/b/bb/India_%28orthographic_projection%29.svg/375px-India_%28orthographic_projection%29.svg.png 1.5x, //upload.wikimedia.org/wikipedia/commons/thumb/b/bb/India_%28orthographic_projection%29.svg/500px-India_%28orthographic_projection%29.svg.png 2x\" width=\"250\"/>,\n",
       " <img alt=\"Neutral increase\" class=\"mw-file-element\" data-file-height=\"346\" data-file-width=\"347\" decoding=\"async\" height=\"11\" src=\"//upload.wikimedia.org/wikipedia/commons/thumb/7/74/Increase_Neutral.svg/11px-Increase_Neutral.svg.png\" srcset=\"//upload.wikimedia.org/wikipedia/commons/thumb/7/74/Increase_Neutral.svg/17px-Increase_Neutral.svg.png 1.5x, //upload.wikimedia.org/wikipedia/commons/thumb/7/74/Increase_Neutral.svg/22px-Increase_Neutral.svg.png 2x\" width=\"11\"/>,\n",
       " <img alt=\"Neutral increase\" class=\"mw-file-element\" data-file-height=\"346\" data-file-width=\"347\" decoding=\"async\" height=\"11\" src=\"//upload.wikimedia.org/wikipedia/commons/thumb/7/74/Increase_Neutral.svg/11px-Increase_Neutral.svg.png\" srcset=\"//upload.wikimedia.org/wikipedia/commons/thumb/7/74/Increase_Neutral.svg/17px-Increase_Neutral.svg.png 1.5x, //upload.wikimedia.org/wikipedia/commons/thumb/7/74/Increase_Neutral.svg/22px-Increase_Neutral.svg.png 2x\" width=\"11\"/>,\n",
       " <img alt=\"Increase\" class=\"mw-file-element\" data-file-height=\"300\" data-file-width=\"300\" decoding=\"async\" height=\"11\" src=\"//upload.wikimedia.org/wikipedia/commons/thumb/b/b0/Increase2.svg/11px-Increase2.svg.png\" srcset=\"//upload.wikimedia.org/wikipedia/commons/thumb/b/b0/Increase2.svg/17px-Increase2.svg.png 1.5x, //upload.wikimedia.org/wikipedia/commons/thumb/b/b0/Increase2.svg/22px-Increase2.svg.png 2x\" width=\"11\"/>,\n",
       " <img alt=\"Increase\" class=\"mw-file-element\" data-file-height=\"300\" data-file-width=\"300\" decoding=\"async\" height=\"11\" src=\"//upload.wikimedia.org/wikipedia/commons/thumb/b/b0/Increase2.svg/11px-Increase2.svg.png\" srcset=\"//upload.wikimedia.org/wikipedia/commons/thumb/b/b0/Increase2.svg/17px-Increase2.svg.png 1.5x, //upload.wikimedia.org/wikipedia/commons/thumb/b/b0/Increase2.svg/22px-Increase2.svg.png 2x\" width=\"11\"/>,\n",
       " <img alt=\"Increase\" class=\"mw-file-element\" data-file-height=\"300\" data-file-width=\"300\" decoding=\"async\" height=\"11\" src=\"//upload.wikimedia.org/wikipedia/commons/thumb/b/b0/Increase2.svg/11px-Increase2.svg.png\" srcset=\"//upload.wikimedia.org/wikipedia/commons/thumb/b/b0/Increase2.svg/17px-Increase2.svg.png 1.5x, //upload.wikimedia.org/wikipedia/commons/thumb/b/b0/Increase2.svg/22px-Increase2.svg.png 2x\" width=\"11\"/>,\n",
       " <img alt=\"Increase\" class=\"mw-file-element\" data-file-height=\"300\" data-file-width=\"300\" decoding=\"async\" height=\"11\" src=\"//upload.wikimedia.org/wikipedia/commons/thumb/b/b0/Increase2.svg/11px-Increase2.svg.png\" srcset=\"//upload.wikimedia.org/wikipedia/commons/thumb/b/b0/Increase2.svg/17px-Increase2.svg.png 1.5x, //upload.wikimedia.org/wikipedia/commons/thumb/b/b0/Increase2.svg/22px-Increase2.svg.png 2x\" width=\"11\"/>,\n",
       " <img alt=\"Positive decrease\" class=\"mw-file-element\" data-file-height=\"300\" data-file-width=\"300\" decoding=\"async\" height=\"11\" src=\"//upload.wikimedia.org/wikipedia/commons/thumb/9/92/Decrease_Positive.svg/11px-Decrease_Positive.svg.png\" srcset=\"//upload.wikimedia.org/wikipedia/commons/thumb/9/92/Decrease_Positive.svg/17px-Decrease_Positive.svg.png 1.5x, //upload.wikimedia.org/wikipedia/commons/thumb/9/92/Decrease_Positive.svg/22px-Decrease_Positive.svg.png 2x\" width=\"11\"/>,\n",
       " <img alt=\"Increase\" class=\"mw-file-element\" data-file-height=\"300\" data-file-width=\"300\" decoding=\"async\" height=\"11\" src=\"//upload.wikimedia.org/wikipedia/commons/thumb/b/b0/Increase2.svg/11px-Increase2.svg.png\" srcset=\"//upload.wikimedia.org/wikipedia/commons/thumb/b/b0/Increase2.svg/17px-Increase2.svg.png 1.5x, //upload.wikimedia.org/wikipedia/commons/thumb/b/b0/Increase2.svg/22px-Increase2.svg.png 2x\" width=\"11\"/>,\n",
       " <img class=\"mw-file-element\" data-file-height=\"2995\" data-file-width=\"5100\" decoding=\"async\" height=\"129\" src=\"//upload.wikimedia.org/wikipedia/commons/thumb/a/a7/Battle_at_Lanka%2C_Ramayana%2C_Udaipur%2C_1649-53.jpg/220px-Battle_at_Lanka%2C_Ramayana%2C_Udaipur%2C_1649-53.jpg\" srcset=\"//upload.wikimedia.org/wikipedia/commons/thumb/a/a7/Battle_at_Lanka%2C_Ramayana%2C_Udaipur%2C_1649-53.jpg/330px-Battle_at_Lanka%2C_Ramayana%2C_Udaipur%2C_1649-53.jpg 1.5x, //upload.wikimedia.org/wikipedia/commons/thumb/a/a7/Battle_at_Lanka%2C_Ramayana%2C_Udaipur%2C_1649-53.jpg/440px-Battle_at_Lanka%2C_Ramayana%2C_Udaipur%2C_1649-53.jpg 2x\" width=\"220\"/>,\n",
       " <img class=\"mw-file-element\" data-file-height=\"2662\" data-file-width=\"4100\" decoding=\"async\" height=\"143\" src=\"//upload.wikimedia.org/wikipedia/commons/thumb/a/a4/Cave_26%2C_Ajanta.jpg/220px-Cave_26%2C_Ajanta.jpg\" srcset=\"//upload.wikimedia.org/wikipedia/commons/thumb/a/a4/Cave_26%2C_Ajanta.jpg/330px-Cave_26%2C_Ajanta.jpg 1.5x, //upload.wikimedia.org/wikipedia/commons/thumb/a/a4/Cave_26%2C_Ajanta.jpg/440px-Cave_26%2C_Ajanta.jpg 2x\" width=\"220\"/>,\n",
       " <img alt=\"\" class=\"mw-file-element\" data-file-height=\"2592\" data-file-width=\"1728\" decoding=\"async\" height=\"228\" src=\"//upload.wikimedia.org/wikipedia/commons/thumb/d/de/Gopuram_Corner_View_of_Thanjavur_Brihadeeswara_Temple..JPG/152px-Gopuram_Corner_View_of_Thanjavur_Brihadeeswara_Temple..JPG\" srcset=\"//upload.wikimedia.org/wikipedia/commons/thumb/d/de/Gopuram_Corner_View_of_Thanjavur_Brihadeeswara_Temple..JPG/228px-Gopuram_Corner_View_of_Thanjavur_Brihadeeswara_Temple..JPG 1.5x, //upload.wikimedia.org/wikipedia/commons/thumb/d/de/Gopuram_Corner_View_of_Thanjavur_Brihadeeswara_Temple..JPG/304px-Gopuram_Corner_View_of_Thanjavur_Brihadeeswara_Temple..JPG 2x\" width=\"152\"/>,\n",
       " <img alt=\"\" class=\"mw-file-element\" data-file-height=\"2250\" data-file-width=\"1500\" decoding=\"async\" height=\"228\" src=\"//upload.wikimedia.org/wikipedia/commons/thumb/3/31/Qutb_minar_ruins.jpg/152px-Qutb_minar_ruins.jpg\" srcset=\"//upload.wikimedia.org/wikipedia/commons/thumb/3/31/Qutb_minar_ruins.jpg/228px-Qutb_minar_ruins.jpg 1.5x, //upload.wikimedia.org/wikipedia/commons/thumb/3/31/Qutb_minar_ruins.jpg/304px-Qutb_minar_ruins.jpg 2x\" width=\"152\"/>,\n",
       " <img alt=\"\" class=\"mw-file-element\" data-file-height=\"2000\" data-file-width=\"3008\" decoding=\"async\" height=\"99\" src=\"//upload.wikimedia.org/wikipedia/commons/thumb/7/7c/Agra_Fort_DistantTaj.JPG/149px-Agra_Fort_DistantTaj.JPG\" srcset=\"//upload.wikimedia.org/wikipedia/commons/thumb/7/7c/Agra_Fort_DistantTaj.JPG/224px-Agra_Fort_DistantTaj.JPG 1.5x, //upload.wikimedia.org/wikipedia/commons/thumb/7/7c/Agra_Fort_DistantTaj.JPG/298px-Agra_Fort_DistantTaj.JPG 2x\" width=\"149\"/>,\n",
       " <img alt=\"\" class=\"mw-file-element\" data-file-height=\"2923\" data-file-width=\"5752\" decoding=\"async\" height=\"99\" src=\"//upload.wikimedia.org/wikipedia/commons/thumb/7/75/India_1835_2_Mohurs.jpg/195px-India_1835_2_Mohurs.jpg\" srcset=\"//upload.wikimedia.org/wikipedia/commons/thumb/7/75/India_1835_2_Mohurs.jpg/293px-India_1835_2_Mohurs.jpg 1.5x, //upload.wikimedia.org/wikipedia/commons/thumb/7/75/India_1835_2_Mohurs.jpg/390px-India_1835_2_Mohurs.jpg 2x\" width=\"195\"/>,\n",
       " <img alt=\"\" class=\"mw-file-element\" data-file-height=\"1223\" data-file-width=\"1498\" decoding=\"async\" height=\"134\" src=\"//upload.wikimedia.org/wikipedia/commons/thumb/3/36/British_Indian_Empire_1909_Imperial_Gazetteer_of_India.jpg/164px-British_Indian_Empire_1909_Imperial_Gazetteer_of_India.jpg\" srcset=\"//upload.wikimedia.org/wikipedia/commons/thumb/3/36/British_Indian_Empire_1909_Imperial_Gazetteer_of_India.jpg/246px-British_Indian_Empire_1909_Imperial_Gazetteer_of_India.jpg 1.5x, //upload.wikimedia.org/wikipedia/commons/thumb/3/36/British_Indian_Empire_1909_Imperial_Gazetteer_of_India.jpg/328px-British_Indian_Empire_1909_Imperial_Gazetteer_of_India.jpg 2x\" width=\"164\"/>,\n",
       " <img alt=\"\" class=\"mw-file-element\" data-file-height=\"314\" data-file-width=\"421\" decoding=\"async\" height=\"134\" src=\"//upload.wikimedia.org/wikipedia/commons/thumb/9/9e/Nehru_gandhi.jpg/180px-Nehru_gandhi.jpg\" srcset=\"//upload.wikimedia.org/wikipedia/commons/thumb/9/9e/Nehru_gandhi.jpg/270px-Nehru_gandhi.jpg 1.5x, //upload.wikimedia.org/wikipedia/commons/thumb/9/9e/Nehru_gandhi.jpg/360px-Nehru_gandhi.jpg 2x\" width=\"180\"/>,\n",
       " <img alt=\"\" class=\"mw-file-element\" data-file-height=\"2313\" data-file-width=\"3857\" decoding=\"async\" height=\"125\" src=\"//upload.wikimedia.org/wikipedia/commons/thumb/1/19/Tungabhadra_River_and_Coracle_Boats.JPG/208px-Tungabhadra_River_and_Coracle_Boats.JPG\" srcset=\"//upload.wikimedia.org/wikipedia/commons/thumb/1/19/Tungabhadra_River_and_Coracle_Boats.JPG/312px-Tungabhadra_River_and_Coracle_Boats.JPG 1.5x, //upload.wikimedia.org/wikipedia/commons/thumb/1/19/Tungabhadra_River_and_Coracle_Boats.JPG/416px-Tungabhadra_River_and_Coracle_Boats.JPG 2x\" width=\"208\"/>,\n",
       " <img alt=\"\" class=\"mw-file-element\" data-file-height=\"2428\" data-file-width=\"4094\" decoding=\"async\" height=\"123\" src=\"//upload.wikimedia.org/wikipedia/commons/thumb/1/1e/Parked_boats_at_Anjarle_Creek.jpg/208px-Parked_boats_at_Anjarle_Creek.jpg\" srcset=\"//upload.wikimedia.org/wikipedia/commons/thumb/1/1e/Parked_boats_at_Anjarle_Creek.jpg/312px-Parked_boats_at_Anjarle_Creek.jpg 1.5x, //upload.wikimedia.org/wikipedia/commons/thumb/1/1e/Parked_boats_at_Anjarle_Creek.jpg/416px-Parked_boats_at_Anjarle_Creek.jpg 2x\" width=\"208\"/>,\n",
       " <img alt=\"India has the majority of the world's wild tigers, approximately 3,170 in 2022.[225]\" class=\"mw-file-element\" data-file-height=\"2705\" data-file-width=\"4057\" decoding=\"async\" height=\"120\" src=\"//upload.wikimedia.org/wikipedia/commons/thumb/d/da/Panthera_tigris_tigris_Tidoba_20150306.jpg/270px-Panthera_tigris_tigris_Tidoba_20150306.jpg\" srcset=\"//upload.wikimedia.org/wikipedia/commons/thumb/d/da/Panthera_tigris_tigris_Tidoba_20150306.jpg/405px-Panthera_tigris_tigris_Tidoba_20150306.jpg 1.5x, //upload.wikimedia.org/wikipedia/commons/thumb/d/da/Panthera_tigris_tigris_Tidoba_20150306.jpg/540px-Panthera_tigris_tigris_Tidoba_20150306.jpg 2x\" width=\"180\"/>,\n",
       " <img alt=\"A chital (Axis axis) stag in the Nagarhole National Park in a region covered by a moderately dense[o] forest.\" class=\"mw-file-element\" data-file-height=\"2134\" data-file-width=\"3200\" decoding=\"async\" height=\"120\" src=\"//upload.wikimedia.org/wikipedia/commons/thumb/3/36/Axis_axis_%28Nagarhole%2C_2010%29.jpg/270px-Axis_axis_%28Nagarhole%2C_2010%29.jpg\" srcset=\"//upload.wikimedia.org/wikipedia/commons/thumb/3/36/Axis_axis_%28Nagarhole%2C_2010%29.jpg/405px-Axis_axis_%28Nagarhole%2C_2010%29.jpg 1.5x, //upload.wikimedia.org/wikipedia/commons/thumb/3/36/Axis_axis_%28Nagarhole%2C_2010%29.jpg/540px-Axis_axis_%28Nagarhole%2C_2010%29.jpg 2x\" width=\"180\"/>,\n",
       " <img alt=\"Three of the last Asiatic cheetahs in India were shot dead in 1948 in Surguja district, Madhya Pradesh, Central India by Maharajah Ramanuj Pratap Singh Deo. The young male cheetahs, all from the same litter, were sitting together when they were shot at night.\" class=\"mw-file-element\" data-file-height=\"1817\" data-file-width=\"2462\" decoding=\"async\" height=\"120\" src=\"//upload.wikimedia.org/wikipedia/commons/thumb/d/d1/Maharajah_Ramanuj_Pratap_Singh_Deo_with_cheetah_kill_1948_BNHS.jpg/244px-Maharajah_Ramanuj_Pratap_Singh_Deo_with_cheetah_kill_1948_BNHS.jpg\" srcset=\"//upload.wikimedia.org/wikipedia/commons/thumb/d/d1/Maharajah_Ramanuj_Pratap_Singh_Deo_with_cheetah_kill_1948_BNHS.jpg/366px-Maharajah_Ramanuj_Pratap_Singh_Deo_with_cheetah_kill_1948_BNHS.jpg 1.5x, //upload.wikimedia.org/wikipedia/commons/thumb/d/d1/Maharajah_Ramanuj_Pratap_Singh_Deo_with_cheetah_kill_1948_BNHS.jpg/488px-Maharajah_Ramanuj_Pratap_Singh_Deo_with_cheetah_kill_1948_BNHS.jpg 2x\" width=\"163\"/>,\n",
       " <img alt=\"\" class=\"mw-file-element\" data-file-height=\"2848\" data-file-width=\"4288\" decoding=\"async\" height=\"138\" src=\"//upload.wikimedia.org/wikipedia/commons/thumb/5/59/Rajagopal_speaking_to_25%2C000_people%2C_Janadesh_2007%2C_India.jpg/208px-Rajagopal_speaking_to_25%2C000_people%2C_Janadesh_2007%2C_India.jpg\" srcset=\"//upload.wikimedia.org/wikipedia/commons/thumb/5/59/Rajagopal_speaking_to_25%2C000_people%2C_Janadesh_2007%2C_India.jpg/312px-Rajagopal_speaking_to_25%2C000_people%2C_Janadesh_2007%2C_India.jpg 1.5x, //upload.wikimedia.org/wikipedia/commons/thumb/5/59/Rajagopal_speaking_to_25%2C000_people%2C_Janadesh_2007%2C_India.jpg/416px-Rajagopal_speaking_to_25%2C000_people%2C_Janadesh_2007%2C_India.jpg 2x\" width=\"208\"/>,\n",
       " <img alt=\"\" class=\"mw-file-element\" data-file-height=\"2731\" data-file-width=\"4096\" decoding=\"async\" height=\"139\" src=\"//upload.wikimedia.org/wikipedia/commons/thumb/c/c6/Barack_Obama_at_Parliament_of_India_in_New_Delhi_addressing_Joint_session_of_both_houses_2010.jpg/208px-Barack_Obama_at_Parliament_of_India_in_New_Delhi_addressing_Joint_session_of_both_houses_2010.jpg\" srcset=\"//upload.wikimedia.org/wikipedia/commons/thumb/c/c6/Barack_Obama_at_Parliament_of_India_in_New_Delhi_addressing_Joint_session_of_both_houses_2010.jpg/312px-Barack_Obama_at_Parliament_of_India_in_New_Delhi_addressing_Joint_session_of_both_houses_2010.jpg 1.5x, //upload.wikimedia.org/wikipedia/commons/thumb/c/c6/Barack_Obama_at_Parliament_of_India_in_New_Delhi_addressing_Joint_session_of_both_houses_2010.jpg/416px-Barack_Obama_at_Parliament_of_India_in_New_Delhi_addressing_Joint_session_of_both_houses_2010.jpg 2x\" width=\"208\"/>,\n",
       " <img alt=\"\" class=\"mw-file-element\" data-file-height=\"1798\" data-file-width=\"2710\" decoding=\"async\" height=\"138\" src=\"//upload.wikimedia.org/wikipedia/commons/thumb/2/24/Rashtrapati_Bhavan_Wide_New_Delhi_India.jpg/208px-Rashtrapati_Bhavan_Wide_New_Delhi_India.jpg\" srcset=\"//upload.wikimedia.org/wikipedia/commons/thumb/2/24/Rashtrapati_Bhavan_Wide_New_Delhi_India.jpg/312px-Rashtrapati_Bhavan_Wide_New_Delhi_India.jpg 1.5x, //upload.wikimedia.org/wikipedia/commons/thumb/2/24/Rashtrapati_Bhavan_Wide_New_Delhi_India.jpg/416px-Rashtrapati_Bhavan_Wide_New_Delhi_India.jpg 2x\" width=\"208\"/>,\n",
       " <img class=\"mw-file-element\" data-file-height=\"1868\" data-file-width=\"1594\" decoding=\"async\" height=\"387\" resource=\"/wiki/File:Political_map_of_India_EN.svg\" src=\"//upload.wikimedia.org/wikipedia/commons/thumb/b/b8/Political_map_of_India_EN.svg/330px-Political_map_of_India_EN.svg.png\" srcset=\"//upload.wikimedia.org/wikipedia/commons/thumb/b/b8/Political_map_of_India_EN.svg/495px-Political_map_of_India_EN.svg.png 1.5x, //upload.wikimedia.org/wikipedia/commons/thumb/b/b8/Political_map_of_India_EN.svg/660px-Political_map_of_India_EN.svg.png 2x\" usemap=\"#ImageMap_0a92c15b27d2b375\" width=\"330\"/>,\n",
       " <img alt=\"\" class=\"mw-file-element\" data-file-height=\"400\" data-file-width=\"640\" decoding=\"async\" height=\"130\" src=\"//upload.wikimedia.org/wikipedia/commons/thumb/0/0a/Jawaharlal_Nehru%2C_Nasser_and_Tito_at_the_Conference_of_Non-Aligned_Nations_held_in_Belgrade.jpg/208px-Jawaharlal_Nehru%2C_Nasser_and_Tito_at_the_Conference_of_Non-Aligned_Nations_held_in_Belgrade.jpg\" srcset=\"//upload.wikimedia.org/wikipedia/commons/thumb/0/0a/Jawaharlal_Nehru%2C_Nasser_and_Tito_at_the_Conference_of_Non-Aligned_Nations_held_in_Belgrade.jpg/312px-Jawaharlal_Nehru%2C_Nasser_and_Tito_at_the_Conference_of_Non-Aligned_Nations_held_in_Belgrade.jpg 1.5x, //upload.wikimedia.org/wikipedia/commons/thumb/0/0a/Jawaharlal_Nehru%2C_Nasser_and_Tito_at_the_Conference_of_Non-Aligned_Nations_held_in_Belgrade.jpg/416px-Jawaharlal_Nehru%2C_Nasser_and_Tito_at_the_Conference_of_Non-Aligned_Nations_held_in_Belgrade.jpg 2x\" width=\"208\"/>,\n",
       " <img alt=\"\" class=\"mw-file-element\" data-file-height=\"1222\" data-file-width=\"2100\" decoding=\"async\" height=\"121\" src=\"//upload.wikimedia.org/wikipedia/commons/thumb/9/9e/Indian_Air_Force_contingent_as_a_part_of_the_Bastille_Day_Parade_of_France%2C_in_Paris_on_July_14%2C_2009.jpg/208px-Indian_Air_Force_contingent_as_a_part_of_the_Bastille_Day_Parade_of_France%2C_in_Paris_on_July_14%2C_2009.jpg\" srcset=\"//upload.wikimedia.org/wikipedia/commons/thumb/9/9e/Indian_Air_Force_contingent_as_a_part_of_the_Bastille_Day_Parade_of_France%2C_in_Paris_on_July_14%2C_2009.jpg/312px-Indian_Air_Force_contingent_as_a_part_of_the_Bastille_Day_Parade_of_France%2C_in_Paris_on_July_14%2C_2009.jpg 1.5x, //upload.wikimedia.org/wikipedia/commons/thumb/9/9e/Indian_Air_Force_contingent_as_a_part_of_the_Bastille_Day_Parade_of_France%2C_in_Paris_on_July_14%2C_2009.jpg/416px-Indian_Air_Force_contingent_as_a_part_of_the_Bastille_Day_Parade_of_France%2C_in_Paris_on_July_14%2C_2009.jpg 2x\" width=\"208\"/>,\n",
       " <img alt=\"\" class=\"mw-file-element\" data-file-height=\"804\" data-file-width=\"1218\" decoding=\"async\" height=\"137\" src=\"//upload.wikimedia.org/wikipedia/commons/thumb/7/77/Modi_Nieto_Mexico_June_2016.jpg/208px-Modi_Nieto_Mexico_June_2016.jpg\" srcset=\"//upload.wikimedia.org/wikipedia/commons/thumb/7/77/Modi_Nieto_Mexico_June_2016.jpg/312px-Modi_Nieto_Mexico_June_2016.jpg 1.5x, //upload.wikimedia.org/wikipedia/commons/thumb/7/77/Modi_Nieto_Mexico_June_2016.jpg/416px-Modi_Nieto_Mexico_June_2016.jpg 2x\" width=\"208\"/>,\n",
       " <img alt=\"\" class=\"mw-file-element\" data-file-height=\"2880\" data-file-width=\"4320\" decoding=\"async\" height=\"147\" src=\"//upload.wikimedia.org/wikipedia/commons/thumb/8/88/Plowing_the_land_in_India_-_modern_and_traditional.jpg/220px-Plowing_the_land_in_India_-_modern_and_traditional.jpg\" srcset=\"//upload.wikimedia.org/wikipedia/commons/thumb/8/88/Plowing_the_land_in_India_-_modern_and_traditional.jpg/330px-Plowing_the_land_in_India_-_modern_and_traditional.jpg 1.5x, //upload.wikimedia.org/wikipedia/commons/thumb/8/88/Plowing_the_land_in_India_-_modern_and_traditional.jpg/440px-Plowing_the_land_in_India_-_modern_and_traditional.jpg 2x\" width=\"220\"/>,\n",
       " <img alt=\"\" class=\"mw-file-element\" data-file-height=\"2912\" data-file-width=\"4368\" decoding=\"async\" height=\"147\" src=\"//upload.wikimedia.org/wikipedia/commons/thumb/b/ba/ILRI%2C_Stevie_Mann_-_Villager_and_calf_share_milk_from_cow_in_Rajasthan%2C_India.jpg/220px-ILRI%2C_Stevie_Mann_-_Villager_and_calf_share_milk_from_cow_in_Rajasthan%2C_India.jpg\" srcset=\"//upload.wikimedia.org/wikipedia/commons/thumb/b/ba/ILRI%2C_Stevie_Mann_-_Villager_and_calf_share_milk_from_cow_in_Rajasthan%2C_India.jpg/330px-ILRI%2C_Stevie_Mann_-_Villager_and_calf_share_milk_from_cow_in_Rajasthan%2C_India.jpg 1.5x, //upload.wikimedia.org/wikipedia/commons/thumb/b/ba/ILRI%2C_Stevie_Mann_-_Villager_and_calf_share_milk_from_cow_in_Rajasthan%2C_India.jpg/440px-ILRI%2C_Stevie_Mann_-_Villager_and_calf_share_milk_from_cow_in_Rajasthan%2C_India.jpg 2x\" width=\"220\"/>,\n",
       " <img alt=\"\" class=\"mw-file-element\" data-file-height=\"2806\" data-file-width=\"4995\" decoding=\"async\" height=\"124\" src=\"//upload.wikimedia.org/wikipedia/commons/thumb/a/a1/Women_at_work%2C_Gujarat_%28cropped%29.jpg/220px-Women_at_work%2C_Gujarat_%28cropped%29.jpg\" srcset=\"//upload.wikimedia.org/wikipedia/commons/thumb/a/a1/Women_at_work%2C_Gujarat_%28cropped%29.jpg/330px-Women_at_work%2C_Gujarat_%28cropped%29.jpg 1.5x, //upload.wikimedia.org/wikipedia/commons/thumb/a/a1/Women_at_work%2C_Gujarat_%28cropped%29.jpg/440px-Women_at_work%2C_Gujarat_%28cropped%29.jpg 2x\" width=\"220\"/>,\n",
       " <img alt=\"\" class=\"mw-file-element\" data-file-height=\"1754\" data-file-width=\"7715\" decoding=\"async\" height=\"111\" src=\"//upload.wikimedia.org/wikipedia/commons/thumb/3/38/Bangalore_Panorama_edit1.jpg/488px-Bangalore_Panorama_edit1.jpg\" srcset=\"//upload.wikimedia.org/wikipedia/commons/thumb/3/38/Bangalore_Panorama_edit1.jpg/732px-Bangalore_Panorama_edit1.jpg 1.5x, //upload.wikimedia.org/wikipedia/commons/thumb/3/38/Bangalore_Panorama_edit1.jpg/976px-Bangalore_Panorama_edit1.jpg 2x\" width=\"488\"/>,\n",
       " <img alt=\"\" class=\"mw-file-element\" data-file-height=\"2804\" data-file-width=\"4520\" decoding=\"async\" height=\"129\" src=\"//upload.wikimedia.org/wikipedia/commons/thumb/f/fb/Cherry_Resort_inside_Temi_Tea_Garden%2C_Namchi%2C_Sikkim.jpg/208px-Cherry_Resort_inside_Temi_Tea_Garden%2C_Namchi%2C_Sikkim.jpg\" srcset=\"//upload.wikimedia.org/wikipedia/commons/thumb/f/fb/Cherry_Resort_inside_Temi_Tea_Garden%2C_Namchi%2C_Sikkim.jpg/312px-Cherry_Resort_inside_Temi_Tea_Garden%2C_Namchi%2C_Sikkim.jpg 1.5x, //upload.wikimedia.org/wikipedia/commons/thumb/f/fb/Cherry_Resort_inside_Temi_Tea_Garden%2C_Namchi%2C_Sikkim.jpg/416px-Cherry_Resort_inside_Temi_Tea_Garden%2C_Namchi%2C_Sikkim.jpg 2x\" width=\"208\"/>,\n",
       " <img alt=\"\" class=\"mw-file-element\" data-file-height=\"960\" data-file-width=\"1280\" decoding=\"async\" height=\"156\" src=\"//upload.wikimedia.org/wikipedia/commons/thumb/8/8f/Female_health_workers_in_India_%2834332433890%29.jpg/208px-Female_health_workers_in_India_%2834332433890%29.jpg\" srcset=\"//upload.wikimedia.org/wikipedia/commons/thumb/8/8f/Female_health_workers_in_India_%2834332433890%29.jpg/312px-Female_health_workers_in_India_%2834332433890%29.jpg 1.5x, //upload.wikimedia.org/wikipedia/commons/thumb/8/8f/Female_health_workers_in_India_%2834332433890%29.jpg/416px-Female_health_workers_in_India_%2834332433890%29.jpg 2x\" width=\"208\"/>,\n",
       " <img alt=\"\" class=\"mw-file-element\" data-file-height=\"1201\" data-file-width=\"1000\" decoding=\"async\" height=\"202\" src=\"//upload.wikimedia.org/wikipedia/commons/thumb/8/86/South_Asian_Language_Families.png/168px-South_Asian_Language_Families.png\" srcset=\"//upload.wikimedia.org/wikipedia/commons/thumb/8/86/South_Asian_Language_Families.png/252px-South_Asian_Language_Families.png 1.5x, //upload.wikimedia.org/wikipedia/commons/thumb/8/86/South_Asian_Language_Families.png/336px-South_Asian_Language_Families.png 2x\" width=\"168\"/>,\n",
       " <img alt=\"\" class=\"mw-file-element\" data-file-height=\"2744\" data-file-width=\"4071\" decoding=\"async\" height=\"140\" src=\"//upload.wikimedia.org/wikipedia/commons/thumb/e/e2/Interior_of_San_Thome_Basilica.jpg/208px-Interior_of_San_Thome_Basilica.jpg\" srcset=\"//upload.wikimedia.org/wikipedia/commons/thumb/e/e2/Interior_of_San_Thome_Basilica.jpg/312px-Interior_of_San_Thome_Basilica.jpg 1.5x, //upload.wikimedia.org/wikipedia/commons/thumb/e/e2/Interior_of_San_Thome_Basilica.jpg/416px-Interior_of_San_Thome_Basilica.jpg 2x\" width=\"208\"/>,\n",
       " <img alt=\"\" class=\"mw-file-element\" data-file-height=\"2000\" data-file-width=\"3008\" decoding=\"async\" height=\"138\" src=\"//upload.wikimedia.org/wikipedia/commons/thumb/4/41/Sikh_pilgrim_at_the_Golden_Temple_%28Harmandir_Sahib%29_in_Amritsar%2C_India.jpg/208px-Sikh_pilgrim_at_the_Golden_Temple_%28Harmandir_Sahib%29_in_Amritsar%2C_India.jpg\" srcset=\"//upload.wikimedia.org/wikipedia/commons/thumb/4/41/Sikh_pilgrim_at_the_Golden_Temple_%28Harmandir_Sahib%29_in_Amritsar%2C_India.jpg/312px-Sikh_pilgrim_at_the_Golden_Temple_%28Harmandir_Sahib%29_in_Amritsar%2C_India.jpg 1.5x, //upload.wikimedia.org/wikipedia/commons/thumb/4/41/Sikh_pilgrim_at_the_Golden_Temple_%28Harmandir_Sahib%29_in_Amritsar%2C_India.jpg/416px-Sikh_pilgrim_at_the_Golden_Temple_%28Harmandir_Sahib%29_in_Amritsar%2C_India.jpg 2x\" width=\"208\"/>,\n",
       " <img alt=\"Bhutesvara Yakshis, Buddhist reliefs from Mathura, 2nd century CE\" class=\"mw-file-element\" data-file-height=\"2418\" data-file-width=\"2610\" decoding=\"async\" height=\"200\" src=\"//upload.wikimedia.org/wikipedia/commons/thumb/b/b7/Bhutesvara_Yakshis_Mathura_reliefs_2nd_century_CE_front.jpg/324px-Bhutesvara_Yakshis_Mathura_reliefs_2nd_century_CE_front.jpg\" srcset=\"//upload.wikimedia.org/wikipedia/commons/thumb/b/b7/Bhutesvara_Yakshis_Mathura_reliefs_2nd_century_CE_front.jpg/486px-Bhutesvara_Yakshis_Mathura_reliefs_2nd_century_CE_front.jpg 1.5x, //upload.wikimedia.org/wikipedia/commons/thumb/b/b7/Bhutesvara_Yakshis_Mathura_reliefs_2nd_century_CE_front.jpg/648px-Bhutesvara_Yakshis_Mathura_reliefs_2nd_century_CE_front.jpg 2x\" width=\"216\"/>,\n",
       " <img alt=\"Gupta terracotta relief, Krishna Killing the Horse Demon Keshi, 5th century\" class=\"mw-file-element\" data-file-height=\"3306\" data-file-width=\"2637\" decoding=\"async\" height=\"200\" src=\"//upload.wikimedia.org/wikipedia/commons/thumb/3/31/MET_DT5237_%28cropped%29.jpg/239px-MET_DT5237_%28cropped%29.jpg\" srcset=\"//upload.wikimedia.org/wikipedia/commons/thumb/3/31/MET_DT5237_%28cropped%29.jpg/359px-MET_DT5237_%28cropped%29.jpg 1.5x, //upload.wikimedia.org/wikipedia/commons/thumb/3/31/MET_DT5237_%28cropped%29.jpg/478px-MET_DT5237_%28cropped%29.jpg 2x\" width=\"160\"/>,\n",
       " <img alt=\"Elephanta Caves, triple-bust (trimurti) of Shiva, 18 feet (5.5 m) tall, c. 550\" class=\"mw-file-element\" data-file-height=\"1476\" data-file-width=\"2329\" decoding=\"async\" height=\"200\" src=\"//upload.wikimedia.org/wikipedia/commons/thumb/c/c3/Elephanta_Caves_%2827804449706%29_%28cropped%29.jpg/474px-Elephanta_Caves_%2827804449706%29_%28cropped%29.jpg\" srcset=\"//upload.wikimedia.org/wikipedia/commons/thumb/c/c3/Elephanta_Caves_%2827804449706%29_%28cropped%29.jpg/710px-Elephanta_Caves_%2827804449706%29_%28cropped%29.jpg 1.5x, //upload.wikimedia.org/wikipedia/commons/thumb/c/c3/Elephanta_Caves_%2827804449706%29_%28cropped%29.jpg/947px-Elephanta_Caves_%2827804449706%29_%28cropped%29.jpg 2x\" width=\"316\"/>,\n",
       " <img alt='Chola bronze of Shiva as Nataraja (\"Lord of Dance\"), Tamil Nadu, 10th or 11th century' class=\"mw-file-element\" data-file-height=\"2250\" data-file-width=\"2008\" decoding=\"async\" height=\"200\" src=\"//upload.wikimedia.org/wikipedia/commons/thumb/b/b0/Shiva_as_Lord_of_the_Dance_%28Nataraja%29.jpg/268px-Shiva_as_Lord_of_the_Dance_%28Nataraja%29.jpg\" srcset=\"//upload.wikimedia.org/wikipedia/commons/thumb/b/b0/Shiva_as_Lord_of_the_Dance_%28Nataraja%29.jpg/402px-Shiva_as_Lord_of_the_Dance_%28Nataraja%29.jpg 1.5x, //upload.wikimedia.org/wikipedia/commons/thumb/b/b0/Shiva_as_Lord_of_the_Dance_%28Nataraja%29.jpg/535px-Shiva_as_Lord_of_the_Dance_%28Nataraja%29.jpg 2x\" width=\"179\"/>,\n",
       " <img alt=\"Jahangir Receives Prince Khurram at Ajmer on His Return from the Mewar Campaign, Balchand, c. 1635\" class=\"mw-file-element\" data-file-height=\"1960\" data-file-width=\"1383\" decoding=\"async\" height=\"200\" src=\"//upload.wikimedia.org/wikipedia/commons/thumb/0/07/Jahangir_Receives_Prince_Khurram_at_Ajmer_on_His_Return_from_the_Mewar_Campaign.jpg/212px-Jahangir_Receives_Prince_Khurram_at_Ajmer_on_His_Return_from_the_Mewar_Campaign.jpg\" srcset=\"//upload.wikimedia.org/wikipedia/commons/thumb/0/07/Jahangir_Receives_Prince_Khurram_at_Ajmer_on_His_Return_from_the_Mewar_Campaign.jpg/317px-Jahangir_Receives_Prince_Khurram_at_Ajmer_on_His_Return_from_the_Mewar_Campaign.jpg 1.5x, //upload.wikimedia.org/wikipedia/commons/thumb/0/07/Jahangir_Receives_Prince_Khurram_at_Ajmer_on_His_Return_from_the_Mewar_Campaign.jpg/423px-Jahangir_Receives_Prince_Khurram_at_Ajmer_on_His_Return_from_the_Mewar_Campaign.jpg 2x\" width=\"142\"/>,\n",
       " <img alt=\"Krishna Fluting to the Milkmaids, Kangra painting, 1775–1785\" class=\"mw-file-element\" data-file-height=\"3314\" data-file-width=\"4501\" decoding=\"async\" height=\"200\" src=\"//upload.wikimedia.org/wikipedia/commons/thumb/c/cf/Unknown%2C_Kangra%2C_India_-_Krishna_Fluting_to_the_Milkmaids_-_Google_Art_Project.jpg/408px-Unknown%2C_Kangra%2C_India_-_Krishna_Fluting_to_the_Milkmaids_-_Google_Art_Project.jpg\" srcset=\"//upload.wikimedia.org/wikipedia/commons/thumb/c/cf/Unknown%2C_Kangra%2C_India_-_Krishna_Fluting_to_the_Milkmaids_-_Google_Art_Project.jpg/611px-Unknown%2C_Kangra%2C_India_-_Krishna_Fluting_to_the_Milkmaids_-_Google_Art_Project.jpg 1.5x, //upload.wikimedia.org/wikipedia/commons/thumb/c/cf/Unknown%2C_Kangra%2C_India_-_Krishna_Fluting_to_the_Milkmaids_-_Google_Art_Project.jpg/815px-Unknown%2C_Kangra%2C_India_-_Krishna_Fluting_to_the_Milkmaids_-_Google_Art_Project.jpg 2x\" width=\"272\"/>,\n",
       " <img alt=\"\" class=\"mw-file-element\" data-file-height=\"3264\" data-file-width=\"4928\" decoding=\"async\" height=\"158\" src=\"//upload.wikimedia.org/wikipedia/commons/thumb/a/af/Aks_The_Reflection_Taj_Mahal.jpg/238px-Aks_The_Reflection_Taj_Mahal.jpg\" srcset=\"//upload.wikimedia.org/wikipedia/commons/thumb/a/af/Aks_The_Reflection_Taj_Mahal.jpg/357px-Aks_The_Reflection_Taj_Mahal.jpg 1.5x, //upload.wikimedia.org/wikipedia/commons/thumb/a/af/Aks_The_Reflection_Taj_Mahal.jpg/476px-Aks_The_Reflection_Taj_Mahal.jpg 2x\" width=\"238\"/>,\n",
       " <img alt=\"\" class=\"mw-file-element\" data-file-height=\"2405\" data-file-width=\"1700\" decoding=\"async\" height=\"238\" src=\"//upload.wikimedia.org/wikipedia/commons/thumb/a/ae/Kuchipudi_Performer_DS.jpg/168px-Kuchipudi_Performer_DS.jpg\" srcset=\"//upload.wikimedia.org/wikipedia/commons/thumb/a/ae/Kuchipudi_Performer_DS.jpg/252px-Kuchipudi_Performer_DS.jpg 1.5x, //upload.wikimedia.org/wikipedia/commons/thumb/a/ae/Kuchipudi_Performer_DS.jpg/336px-Kuchipudi_Performer_DS.jpg 2x\" width=\"168\"/>,\n",
       " <img alt=\"\" class=\"mw-file-element\" data-file-height=\"685\" data-file-width=\"1024\" decoding=\"async\" height=\"139\" src=\"//upload.wikimedia.org/wikipedia/commons/thumb/c/c7/Muslims_praying_in_mosque_in_Srinagar%2C_Kashmir.jpg/208px-Muslims_praying_in_mosque_in_Srinagar%2C_Kashmir.jpg\" srcset=\"//upload.wikimedia.org/wikipedia/commons/thumb/c/c7/Muslims_praying_in_mosque_in_Srinagar%2C_Kashmir.jpg/312px-Muslims_praying_in_mosque_in_Srinagar%2C_Kashmir.jpg 1.5x, //upload.wikimedia.org/wikipedia/commons/thumb/c/c7/Muslims_praying_in_mosque_in_Srinagar%2C_Kashmir.jpg/416px-Muslims_praying_in_mosque_in_Srinagar%2C_Kashmir.jpg 2x\" width=\"208\"/>,\n",
       " <img class=\"mw-file-element\" data-file-height=\"1536\" data-file-width=\"2048\" decoding=\"async\" height=\"165\" src=\"//upload.wikimedia.org/wikipedia/commons/thumb/d/d0/47_Raika_School_-_eating_together_%283384824242%29.jpg/220px-47_Raika_School_-_eating_together_%283384824242%29.jpg\" srcset=\"//upload.wikimedia.org/wikipedia/commons/thumb/d/d0/47_Raika_School_-_eating_together_%283384824242%29.jpg/330px-47_Raika_School_-_eating_together_%283384824242%29.jpg 1.5x, //upload.wikimedia.org/wikipedia/commons/thumb/d/d0/47_Raika_School_-_eating_together_%283384824242%29.jpg/440px-47_Raika_School_-_eating_together_%283384824242%29.jpg 2x\" width=\"220\"/>,\n",
       " <img alt=\"\" class=\"mw-file-element\" data-file-height=\"2448\" data-file-width=\"3264\" decoding=\"async\" height=\"174\" src=\"//upload.wikimedia.org/wikipedia/commons/thumb/7/76/India_School.jpg/232px-India_School.jpg\" srcset=\"//upload.wikimedia.org/wikipedia/commons/thumb/7/76/India_School.jpg/348px-India_School.jpg 1.5x, //upload.wikimedia.org/wikipedia/commons/thumb/7/76/India_School.jpg/464px-India_School.jpg 2x\" width=\"232\"/>,\n",
       " <img alt=\"\" class=\"mw-file-element\" data-file-height=\"2314\" data-file-width=\"1488\" decoding=\"async\" height=\"174\" src=\"//upload.wikimedia.org/wikipedia/commons/thumb/1/1d/Water_pump%2C_Varanasi_%2815563170660%29_Cropped.jpg/112px-Water_pump%2C_Varanasi_%2815563170660%29_Cropped.jpg\" srcset=\"//upload.wikimedia.org/wikipedia/commons/thumb/1/1d/Water_pump%2C_Varanasi_%2815563170660%29_Cropped.jpg/168px-Water_pump%2C_Varanasi_%2815563170660%29_Cropped.jpg 1.5x, //upload.wikimedia.org/wikipedia/commons/thumb/1/1d/Water_pump%2C_Varanasi_%2815563170660%29_Cropped.jpg/224px-Water_pump%2C_Varanasi_%2815563170660%29_Cropped.jpg 2x\" width=\"112\"/>,\n",
       " <img alt=\"\" class=\"mw-file-element\" data-file-height=\"1821\" data-file-width=\"1456\" decoding=\"async\" height=\"210\" src=\"//upload.wikimedia.org/wikipedia/commons/thumb/1/13/Strolling_Shoppers_in_Paltan_Bazaar.jpg/168px-Strolling_Shoppers_in_Paltan_Bazaar.jpg\" srcset=\"//upload.wikimedia.org/wikipedia/commons/thumb/1/13/Strolling_Shoppers_in_Paltan_Bazaar.jpg/252px-Strolling_Shoppers_in_Paltan_Bazaar.jpg 1.5x, //upload.wikimedia.org/wikipedia/commons/thumb/1/13/Strolling_Shoppers_in_Paltan_Bazaar.jpg/336px-Strolling_Shoppers_in_Paltan_Bazaar.jpg 2x\" width=\"168\"/>,\n",
       " <img alt=\"\" class=\"mw-file-element\" data-file-height=\"1583\" data-file-width=\"2567\" decoding=\"async\" height=\"104\" src=\"//upload.wikimedia.org/wikipedia/commons/thumb/9/98/South_Indian_Thali_Cropped.jpg/168px-South_Indian_Thali_Cropped.jpg\" srcset=\"//upload.wikimedia.org/wikipedia/commons/thumb/9/98/South_Indian_Thali_Cropped.jpg/252px-South_Indian_Thali_Cropped.jpg 1.5x, //upload.wikimedia.org/wikipedia/commons/thumb/9/98/South_Indian_Thali_Cropped.jpg/336px-South_Indian_Thali_Cropped.jpg 2x\" width=\"168\"/>,\n",
       " <img alt=\"\" class=\"mw-file-element\" data-file-height=\"966\" data-file-width=\"1229\" decoding=\"async\" height=\"132\" src=\"//upload.wikimedia.org/wikipedia/commons/thumb/f/f8/Odia_Mutton_Curry_%28Mansha_Tarkari%29_Rotated.jpg/168px-Odia_Mutton_Curry_%28Mansha_Tarkari%29_Rotated.jpg\" srcset=\"//upload.wikimedia.org/wikipedia/commons/thumb/f/f8/Odia_Mutton_Curry_%28Mansha_Tarkari%29_Rotated.jpg/252px-Odia_Mutton_Curry_%28Mansha_Tarkari%29_Rotated.jpg 1.5x, //upload.wikimedia.org/wikipedia/commons/thumb/f/f8/Odia_Mutton_Curry_%28Mansha_Tarkari%29_Rotated.jpg/336px-Odia_Mutton_Curry_%28Mansha_Tarkari%29_Rotated.jpg 2x\" width=\"168\"/>,\n",
       " <img alt=\"\" class=\"mw-file-element\" data-file-height=\"2592\" data-file-width=\"3888\" decoding=\"async\" height=\"139\" src=\"//upload.wikimedia.org/wikipedia/commons/thumb/1/1d/Filles_jouant_%C3%A0_la_marelle%2C_Jaura%2C_Inde.jpg/208px-Filles_jouant_%C3%A0_la_marelle%2C_Jaura%2C_Inde.jpg\" srcset=\"//upload.wikimedia.org/wikipedia/commons/thumb/1/1d/Filles_jouant_%C3%A0_la_marelle%2C_Jaura%2C_Inde.jpg/312px-Filles_jouant_%C3%A0_la_marelle%2C_Jaura%2C_Inde.jpg 1.5x, //upload.wikimedia.org/wikipedia/commons/thumb/1/1d/Filles_jouant_%C3%A0_la_marelle%2C_Jaura%2C_Inde.jpg/416px-Filles_jouant_%C3%A0_la_marelle%2C_Jaura%2C_Inde.jpg 2x\" width=\"208\"/>,\n",
       " <img class=\"mw-file-element\" data-file-height=\"690\" data-file-width=\"2650\" decoding=\"async\" height=\"115\" src=\"//upload.wikimedia.org/wikipedia/commons/thumb/c/ca/Sachin_Tendulkar_about_to_score_14000th_run_in_test_cricket.jpg/440px-Sachin_Tendulkar_about_to_score_14000th_run_in_test_cricket.jpg\" srcset=\"//upload.wikimedia.org/wikipedia/commons/thumb/c/ca/Sachin_Tendulkar_about_to_score_14000th_run_in_test_cricket.jpg/660px-Sachin_Tendulkar_about_to_score_14000th_run_in_test_cricket.jpg 1.5x, //upload.wikimedia.org/wikipedia/commons/thumb/c/ca/Sachin_Tendulkar_about_to_score_14000th_run_in_test_cricket.jpg/880px-Sachin_Tendulkar_about_to_score_14000th_run_in_test_cricket.jpg 2x\" width=\"440\"/>,\n",
       " <img alt=\"flag\" class=\"mw-file-element\" data-file-height=\"600\" data-file-width=\"900\" decoding=\"async\" height=\"14\" src=\"//upload.wikimedia.org/wikipedia/en/thumb/4/41/Flag_of_India.svg/21px-Flag_of_India.svg.png\" srcset=\"//upload.wikimedia.org/wikipedia/en/thumb/4/41/Flag_of_India.svg/32px-Flag_of_India.svg.png 1.5x, //upload.wikimedia.org/wikipedia/en/thumb/4/41/Flag_of_India.svg/42px-Flag_of_India.svg.png 2x\" width=\"21\"/>,\n",
       " <img alt=\"icon\" class=\"mw-file-element\" data-file-height=\"360\" data-file-width=\"400\" decoding=\"async\" height=\"19\" src=\"//upload.wikimedia.org/wikipedia/commons/thumb/8/8e/P_countries-vector.svg/21px-P_countries-vector.svg.png\" srcset=\"//upload.wikimedia.org/wikipedia/commons/thumb/8/8e/P_countries-vector.svg/32px-P_countries-vector.svg.png 1.5x, //upload.wikimedia.org/wikipedia/commons/thumb/8/8e/P_countries-vector.svg/42px-P_countries-vector.svg.png 2x\" width=\"21\"/>,\n",
       " <img alt=\"icon\" class=\"mw-file-element\" data-file-height=\"541\" data-file-width=\"541\" decoding=\"async\" height=\"19\" src=\"//upload.wikimedia.org/wikipedia/commons/thumb/8/80/Asia_%28orthographic_projection%29.svg/19px-Asia_%28orthographic_projection%29.svg.png\" srcset=\"//upload.wikimedia.org/wikipedia/commons/thumb/8/80/Asia_%28orthographic_projection%29.svg/29px-Asia_%28orthographic_projection%29.svg.png 1.5x, //upload.wikimedia.org/wikipedia/commons/thumb/8/80/Asia_%28orthographic_projection%29.svg/38px-Asia_%28orthographic_projection%29.svg.png 2x\" width=\"19\"/>,\n",
       " <img alt=\"\" class=\"mw-file-element\" data-file-height=\"391\" data-file-width=\"391\" decoding=\"async\" height=\"27\" src=\"//upload.wikimedia.org/wikipedia/en/thumb/0/06/Wiktionary-logo-v2.svg/27px-Wiktionary-logo-v2.svg.png\" srcset=\"//upload.wikimedia.org/wikipedia/en/thumb/0/06/Wiktionary-logo-v2.svg/41px-Wiktionary-logo-v2.svg.png 1.5x, //upload.wikimedia.org/wikipedia/en/thumb/0/06/Wiktionary-logo-v2.svg/54px-Wiktionary-logo-v2.svg.png 2x\" width=\"27\"/>,\n",
       " <img alt=\"\" class=\"mw-file-element\" data-file-height=\"1376\" data-file-width=\"1024\" decoding=\"async\" height=\"27\" src=\"//upload.wikimedia.org/wikipedia/en/thumb/4/4a/Commons-logo.svg/20px-Commons-logo.svg.png\" srcset=\"//upload.wikimedia.org/wikipedia/en/thumb/4/4a/Commons-logo.svg/30px-Commons-logo.svg.png 1.5x, //upload.wikimedia.org/wikipedia/en/thumb/4/4a/Commons-logo.svg/40px-Commons-logo.svg.png 2x\" width=\"20\"/>,\n",
       " <img alt=\"\" class=\"mw-file-element\" data-file-height=\"415\" data-file-width=\"759\" decoding=\"async\" height=\"15\" src=\"//upload.wikimedia.org/wikipedia/commons/thumb/2/24/Wikinews-logo.svg/27px-Wikinews-logo.svg.png\" srcset=\"//upload.wikimedia.org/wikipedia/commons/thumb/2/24/Wikinews-logo.svg/41px-Wikinews-logo.svg.png 1.5x, //upload.wikimedia.org/wikipedia/commons/thumb/2/24/Wikinews-logo.svg/54px-Wikinews-logo.svg.png 2x\" width=\"27\"/>,\n",
       " <img alt=\"\" class=\"mw-file-element\" data-file-height=\"355\" data-file-width=\"300\" decoding=\"async\" height=\"27\" src=\"//upload.wikimedia.org/wikipedia/commons/thumb/f/fa/Wikiquote-logo.svg/23px-Wikiquote-logo.svg.png\" srcset=\"//upload.wikimedia.org/wikipedia/commons/thumb/f/fa/Wikiquote-logo.svg/35px-Wikiquote-logo.svg.png 1.5x, //upload.wikimedia.org/wikipedia/commons/thumb/f/fa/Wikiquote-logo.svg/46px-Wikiquote-logo.svg.png 2x\" width=\"23\"/>,\n",
       " <img alt=\"\" class=\"mw-file-element\" data-file-height=\"430\" data-file-width=\"410\" decoding=\"async\" height=\"27\" src=\"//upload.wikimedia.org/wikipedia/commons/thumb/4/4c/Wikisource-logo.svg/26px-Wikisource-logo.svg.png\" srcset=\"//upload.wikimedia.org/wikipedia/commons/thumb/4/4c/Wikisource-logo.svg/39px-Wikisource-logo.svg.png 1.5x, //upload.wikimedia.org/wikipedia/commons/thumb/4/4c/Wikisource-logo.svg/51px-Wikisource-logo.svg.png 2x\" width=\"26\"/>,\n",
       " <img alt=\"\" class=\"mw-file-element\" data-file-height=\"300\" data-file-width=\"300\" decoding=\"async\" height=\"27\" src=\"//upload.wikimedia.org/wikipedia/commons/thumb/f/fa/Wikibooks-logo.svg/27px-Wikibooks-logo.svg.png\" srcset=\"//upload.wikimedia.org/wikipedia/commons/thumb/f/fa/Wikibooks-logo.svg/41px-Wikibooks-logo.svg.png 1.5x, //upload.wikimedia.org/wikipedia/commons/thumb/f/fa/Wikibooks-logo.svg/54px-Wikibooks-logo.svg.png 2x\" width=\"27\"/>,\n",
       " <img alt=\"\" class=\"mw-file-element\" data-file-height=\"512\" data-file-width=\"626\" decoding=\"async\" height=\"22\" src=\"//upload.wikimedia.org/wikipedia/commons/thumb/0/0b/Wikiversity_logo_2017.svg/27px-Wikiversity_logo_2017.svg.png\" srcset=\"//upload.wikimedia.org/wikipedia/commons/thumb/0/0b/Wikiversity_logo_2017.svg/41px-Wikiversity_logo_2017.svg.png 1.5x, //upload.wikimedia.org/wikipedia/commons/thumb/0/0b/Wikiversity_logo_2017.svg/54px-Wikiversity_logo_2017.svg.png 2x\" width=\"27\"/>,\n",
       " <img alt=\"\" class=\"mw-file-element\" data-file-height=\"193\" data-file-width=\"193\" decoding=\"async\" height=\"27\" src=\"//upload.wikimedia.org/wikipedia/commons/thumb/d/dd/Wikivoyage-Logo-v3-icon.svg/27px-Wikivoyage-Logo-v3-icon.svg.png\" srcset=\"//upload.wikimedia.org/wikipedia/commons/thumb/d/dd/Wikivoyage-Logo-v3-icon.svg/41px-Wikivoyage-Logo-v3-icon.svg.png 1.5x, //upload.wikimedia.org/wikipedia/commons/thumb/d/dd/Wikivoyage-Logo-v3-icon.svg/54px-Wikivoyage-Logo-v3-icon.svg.png 2x\" width=\"27\"/>,\n",
       " <img alt=\"\" class=\"mw-file-element\" data-file-height=\"48\" data-file-width=\"48\" decoding=\"async\" height=\"16\" src=\"//upload.wikimedia.org/wikipedia/commons/thumb/f/f3/Gnome-globe.svg/16px-Gnome-globe.svg.png\" srcset=\"//upload.wikimedia.org/wikipedia/commons/thumb/f/f3/Gnome-globe.svg/24px-Gnome-globe.svg.png 1.5x, //upload.wikimedia.org/wikipedia/commons/thumb/f/f3/Gnome-globe.svg/32px-Gnome-globe.svg.png 2x\" width=\"16\"/>,\n",
       " <img alt=\"\" class=\"mw-file-element\" data-file-height=\"256\" data-file-width=\"256\" decoding=\"async\" height=\"16\" src=\"//upload.wikimedia.org/wikipedia/commons/thumb/b/b0/Openstreetmap_logo.svg/16px-Openstreetmap_logo.svg.png\" srcset=\"//upload.wikimedia.org/wikipedia/commons/thumb/b/b0/Openstreetmap_logo.svg/24px-Openstreetmap_logo.svg.png 1.5x, //upload.wikimedia.org/wikipedia/commons/thumb/b/b0/Openstreetmap_logo.svg/32px-Openstreetmap_logo.svg.png 2x\" width=\"16\"/>,\n",
       " <img alt=\"\" class=\"mw-file-element\" data-file-height=\"550\" data-file-width=\"550\" decoding=\"async\" height=\"80\" src=\"//upload.wikimedia.org/wikipedia/commons/thumb/e/e3/South_Asia_%28orthographic_projection%29_without_national_boundaries.svg/80px-South_Asia_%28orthographic_projection%29_without_national_boundaries.svg.png\" srcset=\"//upload.wikimedia.org/wikipedia/commons/thumb/e/e3/South_Asia_%28orthographic_projection%29_without_national_boundaries.svg/120px-South_Asia_%28orthographic_projection%29_without_national_boundaries.svg.png 1.5x, //upload.wikimedia.org/wikipedia/commons/thumb/e/e3/South_Asia_%28orthographic_projection%29_without_national_boundaries.svg/160px-South_Asia_%28orthographic_projection%29_without_national_boundaries.svg.png 2x\" width=\"80\"/>,\n",
       " <img alt=\"Brazil\" class=\"mw-file-element\" data-file-height=\"700\" data-file-width=\"1000\" decoding=\"async\" height=\"15\" src=\"//upload.wikimedia.org/wikipedia/en/thumb/0/05/Flag_of_Brazil.svg/22px-Flag_of_Brazil.svg.png\" srcset=\"//upload.wikimedia.org/wikipedia/en/thumb/0/05/Flag_of_Brazil.svg/33px-Flag_of_Brazil.svg.png 1.5x, //upload.wikimedia.org/wikipedia/en/thumb/0/05/Flag_of_Brazil.svg/43px-Flag_of_Brazil.svg.png 2x\" width=\"22\"/>,\n",
       " <img alt=\"Russia\" class=\"mw-file-element\" data-file-height=\"600\" data-file-width=\"900\" decoding=\"async\" height=\"15\" src=\"//upload.wikimedia.org/wikipedia/en/thumb/f/f3/Flag_of_Russia.svg/23px-Flag_of_Russia.svg.png\" srcset=\"//upload.wikimedia.org/wikipedia/en/thumb/f/f3/Flag_of_Russia.svg/35px-Flag_of_Russia.svg.png 1.5x, //upload.wikimedia.org/wikipedia/en/thumb/f/f3/Flag_of_Russia.svg/45px-Flag_of_Russia.svg.png 2x\" width=\"23\"/>,\n",
       " <img alt=\"India\" class=\"mw-file-element\" data-file-height=\"600\" data-file-width=\"900\" decoding=\"async\" height=\"15\" src=\"//upload.wikimedia.org/wikipedia/en/thumb/4/41/Flag_of_India.svg/23px-Flag_of_India.svg.png\" srcset=\"//upload.wikimedia.org/wikipedia/en/thumb/4/41/Flag_of_India.svg/35px-Flag_of_India.svg.png 1.5x, //upload.wikimedia.org/wikipedia/en/thumb/4/41/Flag_of_India.svg/45px-Flag_of_India.svg.png 2x\" width=\"23\"/>,\n",
       " <img alt=\"China\" class=\"mw-file-element\" data-file-height=\"600\" data-file-width=\"900\" decoding=\"async\" height=\"15\" src=\"//upload.wikimedia.org/wikipedia/commons/thumb/f/fa/Flag_of_the_People%27s_Republic_of_China.svg/23px-Flag_of_the_People%27s_Republic_of_China.svg.png\" srcset=\"//upload.wikimedia.org/wikipedia/commons/thumb/f/fa/Flag_of_the_People%27s_Republic_of_China.svg/35px-Flag_of_the_People%27s_Republic_of_China.svg.png 1.5x, //upload.wikimedia.org/wikipedia/commons/thumb/f/fa/Flag_of_the_People%27s_Republic_of_China.svg/45px-Flag_of_the_People%27s_Republic_of_China.svg.png 2x\" width=\"23\"/>,\n",
       " <img alt=\"South Africa\" class=\"mw-file-element\" data-file-height=\"600\" data-file-width=\"900\" decoding=\"async\" height=\"15\" src=\"//upload.wikimedia.org/wikipedia/commons/thumb/a/af/Flag_of_South_Africa.svg/23px-Flag_of_South_Africa.svg.png\" srcset=\"//upload.wikimedia.org/wikipedia/commons/thumb/a/af/Flag_of_South_Africa.svg/35px-Flag_of_South_Africa.svg.png 1.5x, //upload.wikimedia.org/wikipedia/commons/thumb/a/af/Flag_of_South_Africa.svg/45px-Flag_of_South_Africa.svg.png 2x\" width=\"23\"/>,\n",
       " <img alt=\"\" class=\"mw-file-element\" data-file-height=\"600\" data-file-width=\"900\" decoding=\"async\" height=\"15\" src=\"//upload.wikimedia.org/wikipedia/commons/thumb/f/fe/Flag_of_Egypt.svg/23px-Flag_of_Egypt.svg.png\" srcset=\"//upload.wikimedia.org/wikipedia/commons/thumb/f/fe/Flag_of_Egypt.svg/35px-Flag_of_Egypt.svg.png 1.5x, //upload.wikimedia.org/wikipedia/commons/thumb/f/fe/Flag_of_Egypt.svg/45px-Flag_of_Egypt.svg.png 2x\" width=\"23\"/>,\n",
       " <img alt=\"\" class=\"mw-file-element\" data-file-height=\"600\" data-file-width=\"1200\" decoding=\"async\" height=\"12\" src=\"//upload.wikimedia.org/wikipedia/commons/thumb/7/71/Flag_of_Ethiopia.svg/23px-Flag_of_Ethiopia.svg.png\" srcset=\"//upload.wikimedia.org/wikipedia/commons/thumb/7/71/Flag_of_Ethiopia.svg/35px-Flag_of_Ethiopia.svg.png 1.5x, //upload.wikimedia.org/wikipedia/commons/thumb/7/71/Flag_of_Ethiopia.svg/46px-Flag_of_Ethiopia.svg.png 2x\" width=\"23\"/>,\n",
       " <img alt=\"\" class=\"mw-file-element\" data-file-height=\"360\" data-file-width=\"630\" decoding=\"async\" height=\"13\" src=\"//upload.wikimedia.org/wikipedia/commons/thumb/c/ca/Flag_of_Iran.svg/23px-Flag_of_Iran.svg.png\" srcset=\"//upload.wikimedia.org/wikipedia/commons/thumb/c/ca/Flag_of_Iran.svg/35px-Flag_of_Iran.svg.png 1.5x, //upload.wikimedia.org/wikipedia/commons/thumb/c/ca/Flag_of_Iran.svg/46px-Flag_of_Iran.svg.png 2x\" width=\"23\"/>,\n",
       " <img alt=\"\" class=\"mw-file-element\" data-file-height=\"600\" data-file-width=\"1200\" decoding=\"async\" height=\"12\" src=\"//upload.wikimedia.org/wikipedia/commons/thumb/c/cb/Flag_of_the_United_Arab_Emirates.svg/23px-Flag_of_the_United_Arab_Emirates.svg.png\" srcset=\"//upload.wikimedia.org/wikipedia/commons/thumb/c/cb/Flag_of_the_United_Arab_Emirates.svg/35px-Flag_of_the_United_Arab_Emirates.svg.png 1.5x, //upload.wikimedia.org/wikipedia/commons/thumb/c/cb/Flag_of_the_United_Arab_Emirates.svg/46px-Flag_of_the_United_Arab_Emirates.svg.png 2x\" width=\"23\"/>,\n",
       " <img alt=\"\" class=\"mw-file-element\" data-file-height=\"700\" data-file-width=\"1000\" decoding=\"async\" height=\"15\" src=\"//upload.wikimedia.org/wikipedia/en/thumb/0/05/Flag_of_Brazil.svg/22px-Flag_of_Brazil.svg.png\" srcset=\"//upload.wikimedia.org/wikipedia/en/thumb/0/05/Flag_of_Brazil.svg/33px-Flag_of_Brazil.svg.png 1.5x, //upload.wikimedia.org/wikipedia/en/thumb/0/05/Flag_of_Brazil.svg/43px-Flag_of_Brazil.svg.png 2x\" width=\"22\"/>,\n",
       " <img alt=\"\" class=\"mw-file-element\" data-file-height=\"600\" data-file-width=\"900\" decoding=\"async\" height=\"15\" src=\"//upload.wikimedia.org/wikipedia/en/thumb/f/f3/Flag_of_Russia.svg/23px-Flag_of_Russia.svg.png\" srcset=\"//upload.wikimedia.org/wikipedia/en/thumb/f/f3/Flag_of_Russia.svg/35px-Flag_of_Russia.svg.png 1.5x, //upload.wikimedia.org/wikipedia/en/thumb/f/f3/Flag_of_Russia.svg/45px-Flag_of_Russia.svg.png 2x\" width=\"23\"/>,\n",
       " <img alt=\"\" class=\"mw-file-element\" data-file-height=\"600\" data-file-width=\"900\" decoding=\"async\" height=\"15\" src=\"//upload.wikimedia.org/wikipedia/en/thumb/4/41/Flag_of_India.svg/23px-Flag_of_India.svg.png\" srcset=\"//upload.wikimedia.org/wikipedia/en/thumb/4/41/Flag_of_India.svg/35px-Flag_of_India.svg.png 1.5x, //upload.wikimedia.org/wikipedia/en/thumb/4/41/Flag_of_India.svg/45px-Flag_of_India.svg.png 2x\" width=\"23\"/>,\n",
       " <img alt=\"\" class=\"mw-file-element\" data-file-height=\"600\" data-file-width=\"900\" decoding=\"async\" height=\"15\" src=\"//upload.wikimedia.org/wikipedia/commons/thumb/f/fa/Flag_of_the_People%27s_Republic_of_China.svg/23px-Flag_of_the_People%27s_Republic_of_China.svg.png\" srcset=\"//upload.wikimedia.org/wikipedia/commons/thumb/f/fa/Flag_of_the_People%27s_Republic_of_China.svg/35px-Flag_of_the_People%27s_Republic_of_China.svg.png 1.5x, //upload.wikimedia.org/wikipedia/commons/thumb/f/fa/Flag_of_the_People%27s_Republic_of_China.svg/45px-Flag_of_the_People%27s_Republic_of_China.svg.png 2x\" width=\"23\"/>,\n",
       " <img alt=\"\" class=\"mw-file-element\" data-file-height=\"600\" data-file-width=\"900\" decoding=\"async\" height=\"15\" src=\"//upload.wikimedia.org/wikipedia/commons/thumb/a/af/Flag_of_South_Africa.svg/23px-Flag_of_South_Africa.svg.png\" srcset=\"//upload.wikimedia.org/wikipedia/commons/thumb/a/af/Flag_of_South_Africa.svg/35px-Flag_of_South_Africa.svg.png 1.5x, //upload.wikimedia.org/wikipedia/commons/thumb/a/af/Flag_of_South_Africa.svg/45px-Flag_of_South_Africa.svg.png 2x\" width=\"23\"/>,\n",
       " <img alt=\"\" class=\"mw-file-element\" data-file-height=\"600\" data-file-width=\"900\" decoding=\"async\" height=\"15\" src=\"//upload.wikimedia.org/wikipedia/commons/thumb/f/fe/Flag_of_Egypt.svg/23px-Flag_of_Egypt.svg.png\" srcset=\"//upload.wikimedia.org/wikipedia/commons/thumb/f/fe/Flag_of_Egypt.svg/35px-Flag_of_Egypt.svg.png 1.5x, //upload.wikimedia.org/wikipedia/commons/thumb/f/fe/Flag_of_Egypt.svg/45px-Flag_of_Egypt.svg.png 2x\" width=\"23\"/>,\n",
       " <img alt=\"\" class=\"mw-file-element\" data-file-height=\"600\" data-file-width=\"1200\" decoding=\"async\" height=\"12\" src=\"//upload.wikimedia.org/wikipedia/commons/thumb/7/71/Flag_of_Ethiopia.svg/23px-Flag_of_Ethiopia.svg.png\" srcset=\"//upload.wikimedia.org/wikipedia/commons/thumb/7/71/Flag_of_Ethiopia.svg/35px-Flag_of_Ethiopia.svg.png 1.5x, //upload.wikimedia.org/wikipedia/commons/thumb/7/71/Flag_of_Ethiopia.svg/46px-Flag_of_Ethiopia.svg.png 2x\" width=\"23\"/>,\n",
       " <img alt=\"\" class=\"mw-file-element\" data-file-height=\"360\" data-file-width=\"630\" decoding=\"async\" height=\"13\" src=\"//upload.wikimedia.org/wikipedia/commons/thumb/c/ca/Flag_of_Iran.svg/23px-Flag_of_Iran.svg.png\" srcset=\"//upload.wikimedia.org/wikipedia/commons/thumb/c/ca/Flag_of_Iran.svg/35px-Flag_of_Iran.svg.png 1.5x, //upload.wikimedia.org/wikipedia/commons/thumb/c/ca/Flag_of_Iran.svg/46px-Flag_of_Iran.svg.png 2x\" width=\"23\"/>,\n",
       " <img alt=\"\" class=\"mw-file-element\" data-file-height=\"600\" data-file-width=\"1200\" decoding=\"async\" height=\"12\" src=\"//upload.wikimedia.org/wikipedia/commons/thumb/c/cb/Flag_of_the_United_Arab_Emirates.svg/23px-Flag_of_the_United_Arab_Emirates.svg.png\" srcset=\"//upload.wikimedia.org/wikipedia/commons/thumb/c/cb/Flag_of_the_United_Arab_Emirates.svg/35px-Flag_of_the_United_Arab_Emirates.svg.png 1.5x, //upload.wikimedia.org/wikipedia/commons/thumb/c/cb/Flag_of_the_United_Arab_Emirates.svg/46px-Flag_of_the_United_Arab_Emirates.svg.png 2x\" width=\"23\"/>,\n",
       " <img alt=\"\" class=\"mw-file-element\" data-file-height=\"600\" data-file-width=\"1200\" decoding=\"async\" height=\"12\" src=\"//upload.wikimedia.org/wikipedia/commons/thumb/8/85/Flag_of_Belarus.svg/23px-Flag_of_Belarus.svg.png\" srcset=\"//upload.wikimedia.org/wikipedia/commons/thumb/8/85/Flag_of_Belarus.svg/35px-Flag_of_Belarus.svg.png 1.5x, //upload.wikimedia.org/wikipedia/commons/thumb/8/85/Flag_of_Belarus.svg/46px-Flag_of_Belarus.svg.png 2x\" width=\"23\"/>,\n",
       " <img alt=\"\" class=\"mw-file-element\" data-file-height=\"600\" data-file-width=\"900\" decoding=\"async\" height=\"15\" src=\"//upload.wikimedia.org/wikipedia/commons/thumb/f/fa/Flag_of_the_People%27s_Republic_of_China.svg/23px-Flag_of_the_People%27s_Republic_of_China.svg.png\" srcset=\"//upload.wikimedia.org/wikipedia/commons/thumb/f/fa/Flag_of_the_People%27s_Republic_of_China.svg/35px-Flag_of_the_People%27s_Republic_of_China.svg.png 1.5x, //upload.wikimedia.org/wikipedia/commons/thumb/f/fa/Flag_of_the_People%27s_Republic_of_China.svg/45px-Flag_of_the_People%27s_Republic_of_China.svg.png 2x\" width=\"23\"/>,\n",
       " <img alt=\"\" class=\"mw-file-element\" data-file-height=\"600\" data-file-width=\"900\" decoding=\"async\" height=\"15\" src=\"//upload.wikimedia.org/wikipedia/en/thumb/4/41/Flag_of_India.svg/23px-Flag_of_India.svg.png\" srcset=\"//upload.wikimedia.org/wikipedia/en/thumb/4/41/Flag_of_India.svg/35px-Flag_of_India.svg.png 1.5x, //upload.wikimedia.org/wikipedia/en/thumb/4/41/Flag_of_India.svg/45px-Flag_of_India.svg.png 2x\" width=\"23\"/>,\n",
       " <img alt=\"\" class=\"mw-file-element\" data-file-height=\"360\" data-file-width=\"630\" decoding=\"async\" height=\"13\" src=\"//upload.wikimedia.org/wikipedia/commons/thumb/c/ca/Flag_of_Iran.svg/23px-Flag_of_Iran.svg.png\" srcset=\"//upload.wikimedia.org/wikipedia/commons/thumb/c/ca/Flag_of_Iran.svg/35px-Flag_of_Iran.svg.png 1.5x, //upload.wikimedia.org/wikipedia/commons/thumb/c/ca/Flag_of_Iran.svg/46px-Flag_of_Iran.svg.png 2x\" width=\"23\"/>,\n",
       " <img alt=\"\" class=\"mw-file-element\" data-file-height=\"500\" data-file-width=\"1000\" decoding=\"async\" height=\"12\" src=\"//upload.wikimedia.org/wikipedia/commons/thumb/d/d3/Flag_of_Kazakhstan.svg/23px-Flag_of_Kazakhstan.svg.png\" srcset=\"//upload.wikimedia.org/wikipedia/commons/thumb/d/d3/Flag_of_Kazakhstan.svg/35px-Flag_of_Kazakhstan.svg.png 1.5x, //upload.wikimedia.org/wikipedia/commons/thumb/d/d3/Flag_of_Kazakhstan.svg/46px-Flag_of_Kazakhstan.svg.png 2x\" width=\"23\"/>,\n",
       " <img alt=\"\" class=\"mw-file-element\" data-file-height=\"600\" data-file-width=\"1000\" decoding=\"async\" height=\"14\" src=\"//upload.wikimedia.org/wikipedia/commons/thumb/c/c7/Flag_of_Kyrgyzstan.svg/23px-Flag_of_Kyrgyzstan.svg.png\" srcset=\"//upload.wikimedia.org/wikipedia/commons/thumb/c/c7/Flag_of_Kyrgyzstan.svg/35px-Flag_of_Kyrgyzstan.svg.png 1.5x, //upload.wikimedia.org/wikipedia/commons/thumb/c/c7/Flag_of_Kyrgyzstan.svg/46px-Flag_of_Kyrgyzstan.svg.png 2x\" width=\"23\"/>,\n",
       " <img alt=\"\" class=\"mw-file-element\" data-file-height=\"600\" data-file-width=\"900\" decoding=\"async\" height=\"15\" src=\"//upload.wikimedia.org/wikipedia/commons/thumb/3/32/Flag_of_Pakistan.svg/23px-Flag_of_Pakistan.svg.png\" srcset=\"//upload.wikimedia.org/wikipedia/commons/thumb/3/32/Flag_of_Pakistan.svg/35px-Flag_of_Pakistan.svg.png 1.5x, //upload.wikimedia.org/wikipedia/commons/thumb/3/32/Flag_of_Pakistan.svg/45px-Flag_of_Pakistan.svg.png 2x\" width=\"23\"/>,\n",
       " <img alt=\"\" class=\"mw-file-element\" data-file-height=\"600\" data-file-width=\"900\" decoding=\"async\" height=\"15\" src=\"//upload.wikimedia.org/wikipedia/en/thumb/f/f3/Flag_of_Russia.svg/23px-Flag_of_Russia.svg.png\" srcset=\"//upload.wikimedia.org/wikipedia/en/thumb/f/f3/Flag_of_Russia.svg/35px-Flag_of_Russia.svg.png 1.5x, //upload.wikimedia.org/wikipedia/en/thumb/f/f3/Flag_of_Russia.svg/45px-Flag_of_Russia.svg.png 2x\" width=\"23\"/>,\n",
       " <img alt=\"\" class=\"mw-file-element\" data-file-height=\"600\" data-file-width=\"1200\" decoding=\"async\" height=\"12\" src=\"//upload.wikimedia.org/wikipedia/commons/thumb/d/d0/Flag_of_Tajikistan.svg/23px-Flag_of_Tajikistan.svg.png\" srcset=\"//upload.wikimedia.org/wikipedia/commons/thumb/d/d0/Flag_of_Tajikistan.svg/35px-Flag_of_Tajikistan.svg.png 1.5x, //upload.wikimedia.org/wikipedia/commons/thumb/d/d0/Flag_of_Tajikistan.svg/46px-Flag_of_Tajikistan.svg.png 2x\" width=\"23\"/>,\n",
       " <img alt=\"\" class=\"mw-file-element\" data-file-height=\"500\" data-file-width=\"1000\" decoding=\"async\" height=\"12\" src=\"//upload.wikimedia.org/wikipedia/commons/thumb/8/84/Flag_of_Uzbekistan.svg/23px-Flag_of_Uzbekistan.svg.png\" srcset=\"//upload.wikimedia.org/wikipedia/commons/thumb/8/84/Flag_of_Uzbekistan.svg/35px-Flag_of_Uzbekistan.svg.png 1.5x, //upload.wikimedia.org/wikipedia/commons/thumb/8/84/Flag_of_Uzbekistan.svg/46px-Flag_of_Uzbekistan.svg.png 2x\" width=\"23\"/>,\n",
       " <img alt=\"\" class=\"mw-file-element\" data-file-height=\"600\" data-file-width=\"1200\" decoding=\"async\" height=\"12\" src=\"//upload.wikimedia.org/wikipedia/commons/thumb/4/4c/Flag_of_Mongolia.svg/23px-Flag_of_Mongolia.svg.png\" srcset=\"//upload.wikimedia.org/wikipedia/commons/thumb/4/4c/Flag_of_Mongolia.svg/35px-Flag_of_Mongolia.svg.png 1.5x, //upload.wikimedia.org/wikipedia/commons/thumb/4/4c/Flag_of_Mongolia.svg/46px-Flag_of_Mongolia.svg.png 2x\" width=\"23\"/>,\n",
       " <img alt=\"\" class=\"mw-file-element\" data-file-height=\"600\" data-file-width=\"1200\" decoding=\"async\" height=\"12\" src=\"//upload.wikimedia.org/wikipedia/commons/thumb/2/2f/Flag_of_Armenia.svg/23px-Flag_of_Armenia.svg.png\" srcset=\"//upload.wikimedia.org/wikipedia/commons/thumb/2/2f/Flag_of_Armenia.svg/35px-Flag_of_Armenia.svg.png 1.5x, //upload.wikimedia.org/wikipedia/commons/thumb/2/2f/Flag_of_Armenia.svg/46px-Flag_of_Armenia.svg.png 2x\" width=\"23\"/>,\n",
       " <img alt=\"\" class=\"mw-file-element\" data-file-height=\"600\" data-file-width=\"1200\" decoding=\"async\" height=\"12\" src=\"//upload.wikimedia.org/wikipedia/commons/thumb/d/dd/Flag_of_Azerbaijan.svg/23px-Flag_of_Azerbaijan.svg.png\" srcset=\"//upload.wikimedia.org/wikipedia/commons/thumb/d/dd/Flag_of_Azerbaijan.svg/35px-Flag_of_Azerbaijan.svg.png 1.5x, //upload.wikimedia.org/wikipedia/commons/thumb/d/dd/Flag_of_Azerbaijan.svg/46px-Flag_of_Azerbaijan.svg.png 2x\" width=\"23\"/>,\n",
       " <img alt=\"\" class=\"mw-file-element\" data-file-height=\"600\" data-file-width=\"1000\" decoding=\"async\" height=\"14\" src=\"//upload.wikimedia.org/wikipedia/commons/thumb/2/2c/Flag_of_Bahrain.svg/23px-Flag_of_Bahrain.svg.png\" srcset=\"//upload.wikimedia.org/wikipedia/commons/thumb/2/2c/Flag_of_Bahrain.svg/35px-Flag_of_Bahrain.svg.png 1.5x, //upload.wikimedia.org/wikipedia/commons/thumb/2/2c/Flag_of_Bahrain.svg/46px-Flag_of_Bahrain.svg.png 2x\" width=\"23\"/>,\n",
       " <img alt=\"\" class=\"mw-file-element\" data-file-height=\"640\" data-file-width=\"1000\" decoding=\"async\" height=\"15\" src=\"//upload.wikimedia.org/wikipedia/commons/thumb/8/83/Flag_of_Cambodia.svg/23px-Flag_of_Cambodia.svg.png\" srcset=\"//upload.wikimedia.org/wikipedia/commons/thumb/8/83/Flag_of_Cambodia.svg/35px-Flag_of_Cambodia.svg.png 1.5x, //upload.wikimedia.org/wikipedia/commons/thumb/8/83/Flag_of_Cambodia.svg/46px-Flag_of_Cambodia.svg.png 2x\" width=\"23\"/>,\n",
       " <img alt=\"\" class=\"mw-file-element\" data-file-height=\"600\" data-file-width=\"900\" decoding=\"async\" height=\"15\" src=\"//upload.wikimedia.org/wikipedia/commons/thumb/f/fe/Flag_of_Egypt.svg/23px-Flag_of_Egypt.svg.png\" srcset=\"//upload.wikimedia.org/wikipedia/commons/thumb/f/fe/Flag_of_Egypt.svg/35px-Flag_of_Egypt.svg.png 1.5x, //upload.wikimedia.org/wikipedia/commons/thumb/f/fe/Flag_of_Egypt.svg/45px-Flag_of_Egypt.svg.png 2x\" width=\"23\"/>,\n",
       " <img alt=\"\" class=\"mw-file-element\" data-file-height=\"600\" data-file-width=\"1200\" decoding=\"async\" height=\"12\" src=\"//upload.wikimedia.org/wikipedia/commons/thumb/a/aa/Flag_of_Kuwait.svg/23px-Flag_of_Kuwait.svg.png\" srcset=\"//upload.wikimedia.org/wikipedia/commons/thumb/a/aa/Flag_of_Kuwait.svg/35px-Flag_of_Kuwait.svg.png 1.5x, //upload.wikimedia.org/wikipedia/commons/thumb/a/aa/Flag_of_Kuwait.svg/46px-Flag_of_Kuwait.svg.png 2x\" width=\"23\"/>,\n",
       " <img alt=\"\" class=\"mw-file-element\" data-file-height=\"480\" data-file-width=\"720\" decoding=\"async\" height=\"15\" src=\"//upload.wikimedia.org/wikipedia/commons/thumb/0/0f/Flag_of_Maldives.svg/23px-Flag_of_Maldives.svg.png\" srcset=\"//upload.wikimedia.org/wikipedia/commons/thumb/0/0f/Flag_of_Maldives.svg/35px-Flag_of_Maldives.svg.png 1.5x, //upload.wikimedia.org/wikipedia/commons/thumb/0/0f/Flag_of_Maldives.svg/45px-Flag_of_Maldives.svg.png 2x\" width=\"23\"/>,\n",
       " <img alt=\"\" class=\"mw-file-element\" data-file-height=\"800\" data-file-width=\"1200\" decoding=\"async\" height=\"15\" src=\"//upload.wikimedia.org/wikipedia/commons/thumb/8/8c/Flag_of_Myanmar.svg/23px-Flag_of_Myanmar.svg.png\" srcset=\"//upload.wikimedia.org/wikipedia/commons/thumb/8/8c/Flag_of_Myanmar.svg/35px-Flag_of_Myanmar.svg.png 1.5x, //upload.wikimedia.org/wikipedia/commons/thumb/8/8c/Flag_of_Myanmar.svg/45px-Flag_of_Myanmar.svg.png 2x\" width=\"23\"/>,\n",
       " <img alt=\"\" class=\"mw-file-element\" data-file-height=\"885\" data-file-width=\"726\" decoding=\"async\" height=\"15\" src=\"//upload.wikimedia.org/wikipedia/commons/thumb/9/9b/Flag_of_Nepal.svg/12px-Flag_of_Nepal.svg.png\" srcset=\"//upload.wikimedia.org/wikipedia/commons/thumb/9/9b/Flag_of_Nepal.svg/19px-Flag_of_Nepal.svg.png 1.5x, //upload.wikimedia.org/wikipedia/commons/thumb/9/9b/Flag_of_Nepal.svg/25px-Flag_of_Nepal.svg.png 2x\" width=\"12\"/>,\n",
       " <img alt=\"\" class=\"mw-file-element\" data-file-height=\"550\" data-file-width=\"1400\" decoding=\"async\" height=\"9\" src=\"//upload.wikimedia.org/wikipedia/commons/thumb/6/65/Flag_of_Qatar.svg/23px-Flag_of_Qatar.svg.png\" srcset=\"//upload.wikimedia.org/wikipedia/commons/thumb/6/65/Flag_of_Qatar.svg/35px-Flag_of_Qatar.svg.png 1.5x, //upload.wikimedia.org/wikipedia/commons/thumb/6/65/Flag_of_Qatar.svg/46px-Flag_of_Qatar.svg.png 2x\" width=\"23\"/>,\n",
       " <img alt=\"\" class=\"mw-file-element\" data-file-height=\"600\" data-file-width=\"900\" decoding=\"async\" height=\"15\" src=\"//upload.wikimedia.org/wikipedia/commons/thumb/0/0d/Flag_of_Saudi_Arabia.svg/23px-Flag_of_Saudi_Arabia.svg.png\" srcset=\"//upload.wikimedia.org/wikipedia/commons/thumb/0/0d/Flag_of_Saudi_Arabia.svg/35px-Flag_of_Saudi_Arabia.svg.png 1.5x, //upload.wikimedia.org/wikipedia/commons/thumb/0/0d/Flag_of_Saudi_Arabia.svg/45px-Flag_of_Saudi_Arabia.svg.png 2x\" width=\"23\"/>,\n",
       " <img alt=\"\" class=\"mw-file-element\" data-file-height=\"600\" data-file-width=\"1200\" decoding=\"async\" height=\"12\" src=\"//upload.wikimedia.org/wikipedia/commons/thumb/1/11/Flag_of_Sri_Lanka.svg/23px-Flag_of_Sri_Lanka.svg.png\" srcset=\"//upload.wikimedia.org/wikipedia/commons/thumb/1/11/Flag_of_Sri_Lanka.svg/35px-Flag_of_Sri_Lanka.svg.png 1.5x, //upload.wikimedia.org/wikipedia/commons/thumb/1/11/Flag_of_Sri_Lanka.svg/46px-Flag_of_Sri_Lanka.svg.png 2x\" width=\"23\"/>,\n",
       " <img alt=\"\" class=\"mw-file-element\" data-file-height=\"800\" data-file-width=\"1200\" decoding=\"async\" height=\"15\" src=\"//upload.wikimedia.org/wikipedia/commons/thumb/b/b4/Flag_of_Turkey.svg/23px-Flag_of_Turkey.svg.png\" srcset=\"//upload.wikimedia.org/wikipedia/commons/thumb/b/b4/Flag_of_Turkey.svg/35px-Flag_of_Turkey.svg.png 1.5x, //upload.wikimedia.org/wikipedia/commons/thumb/b/b4/Flag_of_Turkey.svg/45px-Flag_of_Turkey.svg.png 2x\" width=\"23\"/>,\n",
       " <img alt=\"\" class=\"mw-file-element\" data-file-height=\"600\" data-file-width=\"1200\" decoding=\"async\" height=\"12\" src=\"//upload.wikimedia.org/wikipedia/commons/thumb/c/cb/Flag_of_the_United_Arab_Emirates.svg/23px-Flag_of_the_United_Arab_Emirates.svg.png\" srcset=\"//upload.wikimedia.org/wikipedia/commons/thumb/c/cb/Flag_of_the_United_Arab_Emirates.svg/35px-Flag_of_the_United_Arab_Emirates.svg.png 1.5x, //upload.wikimedia.org/wikipedia/commons/thumb/c/cb/Flag_of_the_United_Arab_Emirates.svg/46px-Flag_of_the_United_Arab_Emirates.svg.png 2x\" width=\"23\"/>,\n",
       " <img alt=\"\" class=\"mw-file-element\" data-file-height=\"600\" data-file-width=\"900\" decoding=\"async\" height=\"15\" src=\"//upload.wikimedia.org/wikipedia/commons/thumb/1/1b/Flag_of_Turkmenistan.svg/23px-Flag_of_Turkmenistan.svg.png\" srcset=\"//upload.wikimedia.org/wikipedia/commons/thumb/1/1b/Flag_of_Turkmenistan.svg/35px-Flag_of_Turkmenistan.svg.png 1.5x, //upload.wikimedia.org/wikipedia/commons/thumb/1/1b/Flag_of_Turkmenistan.svg/45px-Flag_of_Turkmenistan.svg.png 2x\" width=\"23\"/>,\n",
       " <img alt=\"\" class=\"mw-file-element\" data-file-height=\"600\" data-file-width=\"900\" decoding=\"async\" height=\"15\" src=\"//upload.wikimedia.org/wikipedia/commons/thumb/7/77/Flag_of_Algeria.svg/23px-Flag_of_Algeria.svg.png\" srcset=\"//upload.wikimedia.org/wikipedia/commons/thumb/7/77/Flag_of_Algeria.svg/35px-Flag_of_Algeria.svg.png 1.5x, //upload.wikimedia.org/wikipedia/commons/thumb/7/77/Flag_of_Algeria.svg/45px-Flag_of_Algeria.svg.png 2x\" width=\"23\"/>,\n",
       " <img alt=\"\" class=\"mw-file-element\" data-file-height=\"600\" data-file-width=\"1000\" decoding=\"async\" height=\"14\" src=\"//upload.wikimedia.org/wikipedia/commons/thumb/f/f9/Flag_of_Bangladesh.svg/23px-Flag_of_Bangladesh.svg.png\" srcset=\"//upload.wikimedia.org/wikipedia/commons/thumb/f/f9/Flag_of_Bangladesh.svg/35px-Flag_of_Bangladesh.svg.png 1.5x, //upload.wikimedia.org/wikipedia/commons/thumb/f/f9/Flag_of_Bangladesh.svg/46px-Flag_of_Bangladesh.svg.png 2x\" width=\"23\"/>,\n",
       " <img alt=\"\" class=\"mw-file-element\" data-file-height=\"600\" data-file-width=\"900\" decoding=\"async\" height=\"15\" src=\"//upload.wikimedia.org/wikipedia/commons/thumb/f/f6/Flag_of_Iraq.svg/23px-Flag_of_Iraq.svg.png\" srcset=\"//upload.wikimedia.org/wikipedia/commons/thumb/f/f6/Flag_of_Iraq.svg/35px-Flag_of_Iraq.svg.png 1.5x, //upload.wikimedia.org/wikipedia/commons/thumb/f/f6/Flag_of_Iraq.svg/45px-Flag_of_Iraq.svg.png 2x\" width=\"23\"/>,\n",
       " <img alt=\"\" class=\"mw-file-element\" data-file-height=\"800\" data-file-width=\"1100\" decoding=\"async\" height=\"15\" src=\"//upload.wikimedia.org/wikipedia/commons/thumb/d/d4/Flag_of_Israel.svg/21px-Flag_of_Israel.svg.png\" srcset=\"//upload.wikimedia.org/wikipedia/commons/thumb/d/d4/Flag_of_Israel.svg/32px-Flag_of_Israel.svg.png 1.5x, //upload.wikimedia.org/wikipedia/commons/thumb/d/d4/Flag_of_Israel.svg/41px-Flag_of_Israel.svg.png 2x\" width=\"21\"/>,\n",
       " <img alt=\"\" class=\"mw-file-element\" data-file-height=\"600\" data-file-width=\"900\" decoding=\"async\" height=\"15\" src=\"//upload.wikimedia.org/wikipedia/commons/thumb/5/56/Flag_of_Laos.svg/23px-Flag_of_Laos.svg.png\" srcset=\"//upload.wikimedia.org/wikipedia/commons/thumb/5/56/Flag_of_Laos.svg/35px-Flag_of_Laos.svg.png 1.5x, //upload.wikimedia.org/wikipedia/commons/thumb/5/56/Flag_of_Laos.svg/45px-Flag_of_Laos.svg.png 2x\" width=\"23\"/>,\n",
       " <img alt=\"\" class=\"mw-file-element\" data-file-height=\"600\" data-file-width=\"900\" decoding=\"async\" height=\"15\" src=\"//upload.wikimedia.org/wikipedia/commons/thumb/5/53/Flag_of_Syria.svg/23px-Flag_of_Syria.svg.png\" srcset=\"//upload.wikimedia.org/wikipedia/commons/thumb/5/53/Flag_of_Syria.svg/35px-Flag_of_Syria.svg.png 1.5x, //upload.wikimedia.org/wikipedia/commons/thumb/5/53/Flag_of_Syria.svg/45px-Flag_of_Syria.svg.png 2x\" width=\"23\"/>,\n",
       " <img class=\"mw-file-element\" data-file-height=\"541\" data-file-width=\"541\" decoding=\"async\" height=\"100\" src=\"//upload.wikimedia.org/wikipedia/commons/thumb/8/80/Asia_%28orthographic_projection%29.svg/100px-Asia_%28orthographic_projection%29.svg.png\" srcset=\"//upload.wikimedia.org/wikipedia/commons/thumb/8/80/Asia_%28orthographic_projection%29.svg/150px-Asia_%28orthographic_projection%29.svg.png 1.5x, //upload.wikimedia.org/wikipedia/commons/thumb/8/80/Asia_%28orthographic_projection%29.svg/200px-Asia_%28orthographic_projection%29.svg.png 2x\" width=\"100\"/>,\n",
       " <img alt=\"\" class=\"mw-file-element\" data-file-height=\"185\" data-file-width=\"180\" decoding=\"async\" height=\"16\" src=\"//upload.wikimedia.org/wikipedia/en/thumb/9/96/Symbol_category_class.svg/16px-Symbol_category_class.svg.png\" srcset=\"//upload.wikimedia.org/wikipedia/en/thumb/9/96/Symbol_category_class.svg/23px-Symbol_category_class.svg.png 1.5x, //upload.wikimedia.org/wikipedia/en/thumb/9/96/Symbol_category_class.svg/31px-Symbol_category_class.svg.png 2x\" width=\"16\"/>,\n",
       " <img alt=\"\" class=\"mw-file-element\" data-file-height=\"185\" data-file-width=\"180\" decoding=\"async\" height=\"16\" src=\"//upload.wikimedia.org/wikipedia/en/thumb/e/e2/Symbol_portal_class.svg/16px-Symbol_portal_class.svg.png\" srcset=\"//upload.wikimedia.org/wikipedia/en/thumb/e/e2/Symbol_portal_class.svg/23px-Symbol_portal_class.svg.png 1.5x, //upload.wikimedia.org/wikipedia/en/thumb/e/e2/Symbol_portal_class.svg/31px-Symbol_portal_class.svg.png 2x\" width=\"16\"/>,\n",
       " <img alt=\"Edit this at Wikidata\" class=\"mw-file-element\" data-file-height=\"20\" data-file-width=\"20\" decoding=\"async\" height=\"10\" src=\"//upload.wikimedia.org/wikipedia/en/thumb/8/8a/OOjs_UI_icon_edit-ltr-progressive.svg/10px-OOjs_UI_icon_edit-ltr-progressive.svg.png\" srcset=\"//upload.wikimedia.org/wikipedia/en/thumb/8/8a/OOjs_UI_icon_edit-ltr-progressive.svg/15px-OOjs_UI_icon_edit-ltr-progressive.svg.png 1.5x, //upload.wikimedia.org/wikipedia/en/thumb/8/8a/OOjs_UI_icon_edit-ltr-progressive.svg/20px-OOjs_UI_icon_edit-ltr-progressive.svg.png 2x\" width=\"10\"/>,\n",
       " <img alt=\"\" height=\"1\" src=\"https://login.wikimedia.org/wiki/Special:CentralAutoLogin/start?type=1x1\" style=\"border: none; position: absolute;\" width=\"1\"/>,\n",
       " <img alt=\"Wikimedia Foundation\" height=\"29\" src=\"/static/images/footer/wikimedia-button.svg\" width=\"84\"/>,\n",
       " <img alt=\"Powered by MediaWiki\" height=\"31\" loading=\"lazy\" src=\"/w/resources/assets/poweredby_mediawiki.svg\" width=\"88\"/>]"
      ]
     },
     "execution_count": 41,
     "metadata": {},
     "output_type": "execute_result"
    }
   ],
   "source": [
    "img_tags"
   ]
  },
  {
   "cell_type": "code",
   "execution_count": null,
   "id": "61e6772a-e597-44c9-9346-0f57dcd87df9",
   "metadata": {},
   "outputs": [],
   "source": []
  },
  {
   "cell_type": "code",
   "execution_count": 43,
   "id": "df379e53-f09b-455d-ba80-bc312df699b8",
   "metadata": {},
   "outputs": [
    {
     "data": {
      "text/plain": [
       "'/static/images/icons/wikipedia.png'"
      ]
     },
     "execution_count": 43,
     "metadata": {},
     "output_type": "execute_result"
    }
   ],
   "source": [
    "img_tags[0].get('src')"
   ]
  },
  {
   "cell_type": "code",
   "execution_count": 65,
   "id": "d6031391-91d6-40bc-b0ce-cfc7eb509f64",
   "metadata": {},
   "outputs": [
    {
     "data": {
      "text/plain": [
       "'//upload.wikimedia.org/wikipedia/en/thumb/4/41/Flag_of_India.svg/125px-Flag_of_India.svg.png'"
      ]
     },
     "execution_count": 65,
     "metadata": {},
     "output_type": "execute_result"
    }
   ],
   "source": [
    "img_tags[5].get('src')"
   ]
  },
  {
   "cell_type": "code",
   "execution_count": null,
   "id": "693e8063-5bac-4ed1-bc7d-a205659040c1",
   "metadata": {},
   "outputs": [],
   "source": []
  },
  {
   "cell_type": "code",
   "execution_count": 45,
   "id": "62df3b63-8b06-459b-b2b3-d59fedd43953",
   "metadata": {},
   "outputs": [
    {
     "data": {
      "text/plain": [
       "[<a class=\"mw-file-description\" href=\"/wiki/File:Flag_of_India.svg\" title=\"Flag of India\"><img alt=\"Horizontal tricolour flag bearing, from top to bottom, deep saffron, white, and green horizontal bands. In the centre of the white band is a navy-blue wheel with 24 spokes.\" class=\"mw-file-element\" data-file-height=\"600\" data-file-width=\"900\" decoding=\"async\" height=\"83\" src=\"//upload.wikimedia.org/wikipedia/en/thumb/4/41/Flag_of_India.svg/125px-Flag_of_India.svg.png\" srcset=\"//upload.wikimedia.org/wikipedia/en/thumb/4/41/Flag_of_India.svg/188px-Flag_of_India.svg.png 1.5x, //upload.wikimedia.org/wikipedia/en/thumb/4/41/Flag_of_India.svg/250px-Flag_of_India.svg.png 2x\" width=\"125\"/></a>,\n",
       " <a class=\"mw-file-description\" href=\"/wiki/File:Emblem_of_India.svg\" title=\"State emblem of India\"><img alt='Three lions facing left, right, and toward viewer, atop a frieze containing a galloping horse, a 24-spoke wheel, and an elephant. Underneath is a motto: \"सत्यमेव जयते\".' class=\"mw-file-element\" data-file-height=\"933\" data-file-width=\"585\" decoding=\"async\" height=\"96\" src=\"//upload.wikimedia.org/wikipedia/commons/thumb/5/55/Emblem_of_India.svg/60px-Emblem_of_India.svg.png\" srcset=\"//upload.wikimedia.org/wikipedia/commons/thumb/5/55/Emblem_of_India.svg/90px-Emblem_of_India.svg.png 1.5x, //upload.wikimedia.org/wikipedia/commons/thumb/5/55/Emblem_of_India.svg/120px-Emblem_of_India.svg.png 2x\" width=\"60\"/></a>,\n",
       " <a class=\"mw-file-description\" href=\"/wiki/File:India_(orthographic_projection).svg\" title=\"Territory controlled by India shown in dark green; territory claimed but not controlled shown in light green\"><img alt=\"Image of a globe centred on India, with India highlighted.\" class=\"mw-file-element\" data-file-height=\"541\" data-file-width=\"541\" decoding=\"async\" height=\"250\" src=\"//upload.wikimedia.org/wikipedia/commons/thumb/b/bb/India_%28orthographic_projection%29.svg/250px-India_%28orthographic_projection%29.svg.png\" srcset=\"//upload.wikimedia.org/wikipedia/commons/thumb/b/bb/India_%28orthographic_projection%29.svg/375px-India_%28orthographic_projection%29.svg.png 1.5x, //upload.wikimedia.org/wikipedia/commons/thumb/b/bb/India_%28orthographic_projection%29.svg/500px-India_%28orthographic_projection%29.svg.png 2x\" width=\"250\"/></a>,\n",
       " <a class=\"mw-file-description\" href=\"/wiki/File:Battle_at_Lanka,_Ramayana,_Udaipur,_1649-53.jpg\"><img class=\"mw-file-element\" data-file-height=\"2995\" data-file-width=\"5100\" decoding=\"async\" height=\"129\" src=\"//upload.wikimedia.org/wikipedia/commons/thumb/a/a7/Battle_at_Lanka%2C_Ramayana%2C_Udaipur%2C_1649-53.jpg/220px-Battle_at_Lanka%2C_Ramayana%2C_Udaipur%2C_1649-53.jpg\" srcset=\"//upload.wikimedia.org/wikipedia/commons/thumb/a/a7/Battle_at_Lanka%2C_Ramayana%2C_Udaipur%2C_1649-53.jpg/330px-Battle_at_Lanka%2C_Ramayana%2C_Udaipur%2C_1649-53.jpg 1.5x, //upload.wikimedia.org/wikipedia/commons/thumb/a/a7/Battle_at_Lanka%2C_Ramayana%2C_Udaipur%2C_1649-53.jpg/440px-Battle_at_Lanka%2C_Ramayana%2C_Udaipur%2C_1649-53.jpg 2x\" width=\"220\"/></a>,\n",
       " <a class=\"mw-file-description\" href=\"/wiki/File:Cave_26,_Ajanta.jpg\"><img class=\"mw-file-element\" data-file-height=\"2662\" data-file-width=\"4100\" decoding=\"async\" height=\"143\" src=\"//upload.wikimedia.org/wikipedia/commons/thumb/a/a4/Cave_26%2C_Ajanta.jpg/220px-Cave_26%2C_Ajanta.jpg\" srcset=\"//upload.wikimedia.org/wikipedia/commons/thumb/a/a4/Cave_26%2C_Ajanta.jpg/330px-Cave_26%2C_Ajanta.jpg 1.5x, //upload.wikimedia.org/wikipedia/commons/thumb/a/a4/Cave_26%2C_Ajanta.jpg/440px-Cave_26%2C_Ajanta.jpg 2x\" width=\"220\"/></a>,\n",
       " <a class=\"mw-file-description\" href=\"/wiki/File:Gopuram_Corner_View_of_Thanjavur_Brihadeeswara_Temple..JPG\"><img alt=\"\" class=\"mw-file-element\" data-file-height=\"2592\" data-file-width=\"1728\" decoding=\"async\" height=\"228\" src=\"//upload.wikimedia.org/wikipedia/commons/thumb/d/de/Gopuram_Corner_View_of_Thanjavur_Brihadeeswara_Temple..JPG/152px-Gopuram_Corner_View_of_Thanjavur_Brihadeeswara_Temple..JPG\" srcset=\"//upload.wikimedia.org/wikipedia/commons/thumb/d/de/Gopuram_Corner_View_of_Thanjavur_Brihadeeswara_Temple..JPG/228px-Gopuram_Corner_View_of_Thanjavur_Brihadeeswara_Temple..JPG 1.5x, //upload.wikimedia.org/wikipedia/commons/thumb/d/de/Gopuram_Corner_View_of_Thanjavur_Brihadeeswara_Temple..JPG/304px-Gopuram_Corner_View_of_Thanjavur_Brihadeeswara_Temple..JPG 2x\" width=\"152\"/></a>,\n",
       " <a class=\"mw-file-description\" href=\"/wiki/File:Qutb_minar_ruins.jpg\"><img alt=\"\" class=\"mw-file-element\" data-file-height=\"2250\" data-file-width=\"1500\" decoding=\"async\" height=\"228\" src=\"//upload.wikimedia.org/wikipedia/commons/thumb/3/31/Qutb_minar_ruins.jpg/152px-Qutb_minar_ruins.jpg\" srcset=\"//upload.wikimedia.org/wikipedia/commons/thumb/3/31/Qutb_minar_ruins.jpg/228px-Qutb_minar_ruins.jpg 1.5x, //upload.wikimedia.org/wikipedia/commons/thumb/3/31/Qutb_minar_ruins.jpg/304px-Qutb_minar_ruins.jpg 2x\" width=\"152\"/></a>,\n",
       " <a class=\"mw-file-description\" href=\"/wiki/File:Agra_Fort_DistantTaj.JPG\"><img alt=\"\" class=\"mw-file-element\" data-file-height=\"2000\" data-file-width=\"3008\" decoding=\"async\" height=\"99\" src=\"//upload.wikimedia.org/wikipedia/commons/thumb/7/7c/Agra_Fort_DistantTaj.JPG/149px-Agra_Fort_DistantTaj.JPG\" srcset=\"//upload.wikimedia.org/wikipedia/commons/thumb/7/7c/Agra_Fort_DistantTaj.JPG/224px-Agra_Fort_DistantTaj.JPG 1.5x, //upload.wikimedia.org/wikipedia/commons/thumb/7/7c/Agra_Fort_DistantTaj.JPG/298px-Agra_Fort_DistantTaj.JPG 2x\" width=\"149\"/></a>,\n",
       " <a class=\"mw-file-description\" href=\"/wiki/File:India_1835_2_Mohurs.jpg\"><img alt=\"\" class=\"mw-file-element\" data-file-height=\"2923\" data-file-width=\"5752\" decoding=\"async\" height=\"99\" src=\"//upload.wikimedia.org/wikipedia/commons/thumb/7/75/India_1835_2_Mohurs.jpg/195px-India_1835_2_Mohurs.jpg\" srcset=\"//upload.wikimedia.org/wikipedia/commons/thumb/7/75/India_1835_2_Mohurs.jpg/293px-India_1835_2_Mohurs.jpg 1.5x, //upload.wikimedia.org/wikipedia/commons/thumb/7/75/India_1835_2_Mohurs.jpg/390px-India_1835_2_Mohurs.jpg 2x\" width=\"195\"/></a>,\n",
       " <a class=\"mw-file-description\" href=\"/wiki/File:British_Indian_Empire_1909_Imperial_Gazetteer_of_India.jpg\"><img alt=\"\" class=\"mw-file-element\" data-file-height=\"1223\" data-file-width=\"1498\" decoding=\"async\" height=\"134\" src=\"//upload.wikimedia.org/wikipedia/commons/thumb/3/36/British_Indian_Empire_1909_Imperial_Gazetteer_of_India.jpg/164px-British_Indian_Empire_1909_Imperial_Gazetteer_of_India.jpg\" srcset=\"//upload.wikimedia.org/wikipedia/commons/thumb/3/36/British_Indian_Empire_1909_Imperial_Gazetteer_of_India.jpg/246px-British_Indian_Empire_1909_Imperial_Gazetteer_of_India.jpg 1.5x, //upload.wikimedia.org/wikipedia/commons/thumb/3/36/British_Indian_Empire_1909_Imperial_Gazetteer_of_India.jpg/328px-British_Indian_Empire_1909_Imperial_Gazetteer_of_India.jpg 2x\" width=\"164\"/></a>,\n",
       " <a class=\"mw-file-description\" href=\"/wiki/File:Nehru_gandhi.jpg\"><img alt=\"\" class=\"mw-file-element\" data-file-height=\"314\" data-file-width=\"421\" decoding=\"async\" height=\"134\" src=\"//upload.wikimedia.org/wikipedia/commons/thumb/9/9e/Nehru_gandhi.jpg/180px-Nehru_gandhi.jpg\" srcset=\"//upload.wikimedia.org/wikipedia/commons/thumb/9/9e/Nehru_gandhi.jpg/270px-Nehru_gandhi.jpg 1.5x, //upload.wikimedia.org/wikipedia/commons/thumb/9/9e/Nehru_gandhi.jpg/360px-Nehru_gandhi.jpg 2x\" width=\"180\"/></a>,\n",
       " <a class=\"mw-file-description\" href=\"/wiki/File:Tungabhadra_River_and_Coracle_Boats.JPG\"><img alt=\"\" class=\"mw-file-element\" data-file-height=\"2313\" data-file-width=\"3857\" decoding=\"async\" height=\"125\" src=\"//upload.wikimedia.org/wikipedia/commons/thumb/1/19/Tungabhadra_River_and_Coracle_Boats.JPG/208px-Tungabhadra_River_and_Coracle_Boats.JPG\" srcset=\"//upload.wikimedia.org/wikipedia/commons/thumb/1/19/Tungabhadra_River_and_Coracle_Boats.JPG/312px-Tungabhadra_River_and_Coracle_Boats.JPG 1.5x, //upload.wikimedia.org/wikipedia/commons/thumb/1/19/Tungabhadra_River_and_Coracle_Boats.JPG/416px-Tungabhadra_River_and_Coracle_Boats.JPG 2x\" width=\"208\"/></a>,\n",
       " <a class=\"mw-file-description\" href=\"/wiki/File:Parked_boats_at_Anjarle_Creek.jpg\"><img alt=\"\" class=\"mw-file-element\" data-file-height=\"2428\" data-file-width=\"4094\" decoding=\"async\" height=\"123\" src=\"//upload.wikimedia.org/wikipedia/commons/thumb/1/1e/Parked_boats_at_Anjarle_Creek.jpg/208px-Parked_boats_at_Anjarle_Creek.jpg\" srcset=\"//upload.wikimedia.org/wikipedia/commons/thumb/1/1e/Parked_boats_at_Anjarle_Creek.jpg/312px-Parked_boats_at_Anjarle_Creek.jpg 1.5x, //upload.wikimedia.org/wikipedia/commons/thumb/1/1e/Parked_boats_at_Anjarle_Creek.jpg/416px-Parked_boats_at_Anjarle_Creek.jpg 2x\" width=\"208\"/></a>,\n",
       " <a class=\"mw-file-description\" href=\"/wiki/File:Panthera_tigris_tigris_Tidoba_20150306.jpg\" title=\"India has the majority of the world's wild tigers, approximately 3,170 in 2022.[225]\"><img alt=\"India has the majority of the world's wild tigers, approximately 3,170 in 2022.[225]\" class=\"mw-file-element\" data-file-height=\"2705\" data-file-width=\"4057\" decoding=\"async\" height=\"120\" src=\"//upload.wikimedia.org/wikipedia/commons/thumb/d/da/Panthera_tigris_tigris_Tidoba_20150306.jpg/270px-Panthera_tigris_tigris_Tidoba_20150306.jpg\" srcset=\"//upload.wikimedia.org/wikipedia/commons/thumb/d/da/Panthera_tigris_tigris_Tidoba_20150306.jpg/405px-Panthera_tigris_tigris_Tidoba_20150306.jpg 1.5x, //upload.wikimedia.org/wikipedia/commons/thumb/d/da/Panthera_tigris_tigris_Tidoba_20150306.jpg/540px-Panthera_tigris_tigris_Tidoba_20150306.jpg 2x\" width=\"180\"/></a>,\n",
       " <a class=\"mw-file-description\" href=\"/wiki/File:Axis_axis_(Nagarhole,_2010).jpg\" title=\"A chital (Axis axis) stag in the Nagarhole National Park in a region covered by a moderately dense[o] forest.\"><img alt=\"A chital (Axis axis) stag in the Nagarhole National Park in a region covered by a moderately dense[o] forest.\" class=\"mw-file-element\" data-file-height=\"2134\" data-file-width=\"3200\" decoding=\"async\" height=\"120\" src=\"//upload.wikimedia.org/wikipedia/commons/thumb/3/36/Axis_axis_%28Nagarhole%2C_2010%29.jpg/270px-Axis_axis_%28Nagarhole%2C_2010%29.jpg\" srcset=\"//upload.wikimedia.org/wikipedia/commons/thumb/3/36/Axis_axis_%28Nagarhole%2C_2010%29.jpg/405px-Axis_axis_%28Nagarhole%2C_2010%29.jpg 1.5x, //upload.wikimedia.org/wikipedia/commons/thumb/3/36/Axis_axis_%28Nagarhole%2C_2010%29.jpg/540px-Axis_axis_%28Nagarhole%2C_2010%29.jpg 2x\" width=\"180\"/></a>,\n",
       " <a class=\"mw-file-description\" href=\"/wiki/File:Maharajah_Ramanuj_Pratap_Singh_Deo_with_cheetah_kill_1948_BNHS.jpg\" title=\"Three of the last Asiatic cheetahs in India were shot dead in 1948 in Surguja district, Madhya Pradesh, Central India by Maharajah Ramanuj Pratap Singh Deo. The young male cheetahs, all from the same litter, were sitting together when they were shot at night.\"><img alt=\"Three of the last Asiatic cheetahs in India were shot dead in 1948 in Surguja district, Madhya Pradesh, Central India by Maharajah Ramanuj Pratap Singh Deo. The young male cheetahs, all from the same litter, were sitting together when they were shot at night.\" class=\"mw-file-element\" data-file-height=\"1817\" data-file-width=\"2462\" decoding=\"async\" height=\"120\" src=\"//upload.wikimedia.org/wikipedia/commons/thumb/d/d1/Maharajah_Ramanuj_Pratap_Singh_Deo_with_cheetah_kill_1948_BNHS.jpg/244px-Maharajah_Ramanuj_Pratap_Singh_Deo_with_cheetah_kill_1948_BNHS.jpg\" srcset=\"//upload.wikimedia.org/wikipedia/commons/thumb/d/d1/Maharajah_Ramanuj_Pratap_Singh_Deo_with_cheetah_kill_1948_BNHS.jpg/366px-Maharajah_Ramanuj_Pratap_Singh_Deo_with_cheetah_kill_1948_BNHS.jpg 1.5x, //upload.wikimedia.org/wikipedia/commons/thumb/d/d1/Maharajah_Ramanuj_Pratap_Singh_Deo_with_cheetah_kill_1948_BNHS.jpg/488px-Maharajah_Ramanuj_Pratap_Singh_Deo_with_cheetah_kill_1948_BNHS.jpg 2x\" width=\"163\"/></a>,\n",
       " <a class=\"mw-file-description\" href=\"/wiki/File:Rajagopal_speaking_to_25,000_people,_Janadesh_2007,_India.jpg\"><img alt=\"\" class=\"mw-file-element\" data-file-height=\"2848\" data-file-width=\"4288\" decoding=\"async\" height=\"138\" src=\"//upload.wikimedia.org/wikipedia/commons/thumb/5/59/Rajagopal_speaking_to_25%2C000_people%2C_Janadesh_2007%2C_India.jpg/208px-Rajagopal_speaking_to_25%2C000_people%2C_Janadesh_2007%2C_India.jpg\" srcset=\"//upload.wikimedia.org/wikipedia/commons/thumb/5/59/Rajagopal_speaking_to_25%2C000_people%2C_Janadesh_2007%2C_India.jpg/312px-Rajagopal_speaking_to_25%2C000_people%2C_Janadesh_2007%2C_India.jpg 1.5x, //upload.wikimedia.org/wikipedia/commons/thumb/5/59/Rajagopal_speaking_to_25%2C000_people%2C_Janadesh_2007%2C_India.jpg/416px-Rajagopal_speaking_to_25%2C000_people%2C_Janadesh_2007%2C_India.jpg 2x\" width=\"208\"/></a>,\n",
       " <a class=\"mw-file-description\" href=\"/wiki/File:Barack_Obama_at_Parliament_of_India_in_New_Delhi_addressing_Joint_session_of_both_houses_2010.jpg\"><img alt=\"\" class=\"mw-file-element\" data-file-height=\"2731\" data-file-width=\"4096\" decoding=\"async\" height=\"139\" src=\"//upload.wikimedia.org/wikipedia/commons/thumb/c/c6/Barack_Obama_at_Parliament_of_India_in_New_Delhi_addressing_Joint_session_of_both_houses_2010.jpg/208px-Barack_Obama_at_Parliament_of_India_in_New_Delhi_addressing_Joint_session_of_both_houses_2010.jpg\" srcset=\"//upload.wikimedia.org/wikipedia/commons/thumb/c/c6/Barack_Obama_at_Parliament_of_India_in_New_Delhi_addressing_Joint_session_of_both_houses_2010.jpg/312px-Barack_Obama_at_Parliament_of_India_in_New_Delhi_addressing_Joint_session_of_both_houses_2010.jpg 1.5x, //upload.wikimedia.org/wikipedia/commons/thumb/c/c6/Barack_Obama_at_Parliament_of_India_in_New_Delhi_addressing_Joint_session_of_both_houses_2010.jpg/416px-Barack_Obama_at_Parliament_of_India_in_New_Delhi_addressing_Joint_session_of_both_houses_2010.jpg 2x\" width=\"208\"/></a>,\n",
       " <a class=\"mw-file-description\" href=\"/wiki/File:Rashtrapati_Bhavan_Wide_New_Delhi_India.jpg\"><img alt=\"\" class=\"mw-file-element\" data-file-height=\"1798\" data-file-width=\"2710\" decoding=\"async\" height=\"138\" src=\"//upload.wikimedia.org/wikipedia/commons/thumb/2/24/Rashtrapati_Bhavan_Wide_New_Delhi_India.jpg/208px-Rashtrapati_Bhavan_Wide_New_Delhi_India.jpg\" srcset=\"//upload.wikimedia.org/wikipedia/commons/thumb/2/24/Rashtrapati_Bhavan_Wide_New_Delhi_India.jpg/312px-Rashtrapati_Bhavan_Wide_New_Delhi_India.jpg 1.5x, //upload.wikimedia.org/wikipedia/commons/thumb/2/24/Rashtrapati_Bhavan_Wide_New_Delhi_India.jpg/416px-Rashtrapati_Bhavan_Wide_New_Delhi_India.jpg 2x\" width=\"208\"/></a>,\n",
       " <a class=\"mw-file-description\" href=\"/wiki/File:Jawaharlal_Nehru,_Nasser_and_Tito_at_the_Conference_of_Non-Aligned_Nations_held_in_Belgrade.jpg\"><img alt=\"\" class=\"mw-file-element\" data-file-height=\"400\" data-file-width=\"640\" decoding=\"async\" height=\"130\" src=\"//upload.wikimedia.org/wikipedia/commons/thumb/0/0a/Jawaharlal_Nehru%2C_Nasser_and_Tito_at_the_Conference_of_Non-Aligned_Nations_held_in_Belgrade.jpg/208px-Jawaharlal_Nehru%2C_Nasser_and_Tito_at_the_Conference_of_Non-Aligned_Nations_held_in_Belgrade.jpg\" srcset=\"//upload.wikimedia.org/wikipedia/commons/thumb/0/0a/Jawaharlal_Nehru%2C_Nasser_and_Tito_at_the_Conference_of_Non-Aligned_Nations_held_in_Belgrade.jpg/312px-Jawaharlal_Nehru%2C_Nasser_and_Tito_at_the_Conference_of_Non-Aligned_Nations_held_in_Belgrade.jpg 1.5x, //upload.wikimedia.org/wikipedia/commons/thumb/0/0a/Jawaharlal_Nehru%2C_Nasser_and_Tito_at_the_Conference_of_Non-Aligned_Nations_held_in_Belgrade.jpg/416px-Jawaharlal_Nehru%2C_Nasser_and_Tito_at_the_Conference_of_Non-Aligned_Nations_held_in_Belgrade.jpg 2x\" width=\"208\"/></a>,\n",
       " <a class=\"mw-file-description\" href=\"/wiki/File:Indian_Air_Force_contingent_as_a_part_of_the_Bastille_Day_Parade_of_France,_in_Paris_on_July_14,_2009.jpg\"><img alt=\"\" class=\"mw-file-element\" data-file-height=\"1222\" data-file-width=\"2100\" decoding=\"async\" height=\"121\" src=\"//upload.wikimedia.org/wikipedia/commons/thumb/9/9e/Indian_Air_Force_contingent_as_a_part_of_the_Bastille_Day_Parade_of_France%2C_in_Paris_on_July_14%2C_2009.jpg/208px-Indian_Air_Force_contingent_as_a_part_of_the_Bastille_Day_Parade_of_France%2C_in_Paris_on_July_14%2C_2009.jpg\" srcset=\"//upload.wikimedia.org/wikipedia/commons/thumb/9/9e/Indian_Air_Force_contingent_as_a_part_of_the_Bastille_Day_Parade_of_France%2C_in_Paris_on_July_14%2C_2009.jpg/312px-Indian_Air_Force_contingent_as_a_part_of_the_Bastille_Day_Parade_of_France%2C_in_Paris_on_July_14%2C_2009.jpg 1.5x, //upload.wikimedia.org/wikipedia/commons/thumb/9/9e/Indian_Air_Force_contingent_as_a_part_of_the_Bastille_Day_Parade_of_France%2C_in_Paris_on_July_14%2C_2009.jpg/416px-Indian_Air_Force_contingent_as_a_part_of_the_Bastille_Day_Parade_of_France%2C_in_Paris_on_July_14%2C_2009.jpg 2x\" width=\"208\"/></a>,\n",
       " <a class=\"mw-file-description\" href=\"/wiki/File:Modi_Nieto_Mexico_June_2016.jpg\"><img alt=\"\" class=\"mw-file-element\" data-file-height=\"804\" data-file-width=\"1218\" decoding=\"async\" height=\"137\" src=\"//upload.wikimedia.org/wikipedia/commons/thumb/7/77/Modi_Nieto_Mexico_June_2016.jpg/208px-Modi_Nieto_Mexico_June_2016.jpg\" srcset=\"//upload.wikimedia.org/wikipedia/commons/thumb/7/77/Modi_Nieto_Mexico_June_2016.jpg/312px-Modi_Nieto_Mexico_June_2016.jpg 1.5x, //upload.wikimedia.org/wikipedia/commons/thumb/7/77/Modi_Nieto_Mexico_June_2016.jpg/416px-Modi_Nieto_Mexico_June_2016.jpg 2x\" width=\"208\"/></a>,\n",
       " <a class=\"mw-file-description\" href=\"/wiki/File:Plowing_the_land_in_India_-_modern_and_traditional.jpg\"><img alt=\"\" class=\"mw-file-element\" data-file-height=\"2880\" data-file-width=\"4320\" decoding=\"async\" height=\"147\" src=\"//upload.wikimedia.org/wikipedia/commons/thumb/8/88/Plowing_the_land_in_India_-_modern_and_traditional.jpg/220px-Plowing_the_land_in_India_-_modern_and_traditional.jpg\" srcset=\"//upload.wikimedia.org/wikipedia/commons/thumb/8/88/Plowing_the_land_in_India_-_modern_and_traditional.jpg/330px-Plowing_the_land_in_India_-_modern_and_traditional.jpg 1.5x, //upload.wikimedia.org/wikipedia/commons/thumb/8/88/Plowing_the_land_in_India_-_modern_and_traditional.jpg/440px-Plowing_the_land_in_India_-_modern_and_traditional.jpg 2x\" width=\"220\"/></a>,\n",
       " <a class=\"mw-file-description\" href=\"/wiki/File:ILRI,_Stevie_Mann_-_Villager_and_calf_share_milk_from_cow_in_Rajasthan,_India.jpg\"><img alt=\"\" class=\"mw-file-element\" data-file-height=\"2912\" data-file-width=\"4368\" decoding=\"async\" height=\"147\" src=\"//upload.wikimedia.org/wikipedia/commons/thumb/b/ba/ILRI%2C_Stevie_Mann_-_Villager_and_calf_share_milk_from_cow_in_Rajasthan%2C_India.jpg/220px-ILRI%2C_Stevie_Mann_-_Villager_and_calf_share_milk_from_cow_in_Rajasthan%2C_India.jpg\" srcset=\"//upload.wikimedia.org/wikipedia/commons/thumb/b/ba/ILRI%2C_Stevie_Mann_-_Villager_and_calf_share_milk_from_cow_in_Rajasthan%2C_India.jpg/330px-ILRI%2C_Stevie_Mann_-_Villager_and_calf_share_milk_from_cow_in_Rajasthan%2C_India.jpg 1.5x, //upload.wikimedia.org/wikipedia/commons/thumb/b/ba/ILRI%2C_Stevie_Mann_-_Villager_and_calf_share_milk_from_cow_in_Rajasthan%2C_India.jpg/440px-ILRI%2C_Stevie_Mann_-_Villager_and_calf_share_milk_from_cow_in_Rajasthan%2C_India.jpg 2x\" width=\"220\"/></a>,\n",
       " <a class=\"mw-file-description\" href=\"/wiki/File:Women_at_work,_Gujarat_(cropped).jpg\"><img alt=\"\" class=\"mw-file-element\" data-file-height=\"2806\" data-file-width=\"4995\" decoding=\"async\" height=\"124\" src=\"//upload.wikimedia.org/wikipedia/commons/thumb/a/a1/Women_at_work%2C_Gujarat_%28cropped%29.jpg/220px-Women_at_work%2C_Gujarat_%28cropped%29.jpg\" srcset=\"//upload.wikimedia.org/wikipedia/commons/thumb/a/a1/Women_at_work%2C_Gujarat_%28cropped%29.jpg/330px-Women_at_work%2C_Gujarat_%28cropped%29.jpg 1.5x, //upload.wikimedia.org/wikipedia/commons/thumb/a/a1/Women_at_work%2C_Gujarat_%28cropped%29.jpg/440px-Women_at_work%2C_Gujarat_%28cropped%29.jpg 2x\" width=\"220\"/></a>,\n",
       " <a class=\"mw-file-description\" href=\"/wiki/File:Bangalore_Panorama_edit1.jpg\"><img alt=\"\" class=\"mw-file-element\" data-file-height=\"1754\" data-file-width=\"7715\" decoding=\"async\" height=\"111\" src=\"//upload.wikimedia.org/wikipedia/commons/thumb/3/38/Bangalore_Panorama_edit1.jpg/488px-Bangalore_Panorama_edit1.jpg\" srcset=\"//upload.wikimedia.org/wikipedia/commons/thumb/3/38/Bangalore_Panorama_edit1.jpg/732px-Bangalore_Panorama_edit1.jpg 1.5x, //upload.wikimedia.org/wikipedia/commons/thumb/3/38/Bangalore_Panorama_edit1.jpg/976px-Bangalore_Panorama_edit1.jpg 2x\" width=\"488\"/></a>,\n",
       " <a class=\"mw-file-description\" href=\"/wiki/File:Cherry_Resort_inside_Temi_Tea_Garden,_Namchi,_Sikkim.jpg\"><img alt=\"\" class=\"mw-file-element\" data-file-height=\"2804\" data-file-width=\"4520\" decoding=\"async\" height=\"129\" src=\"//upload.wikimedia.org/wikipedia/commons/thumb/f/fb/Cherry_Resort_inside_Temi_Tea_Garden%2C_Namchi%2C_Sikkim.jpg/208px-Cherry_Resort_inside_Temi_Tea_Garden%2C_Namchi%2C_Sikkim.jpg\" srcset=\"//upload.wikimedia.org/wikipedia/commons/thumb/f/fb/Cherry_Resort_inside_Temi_Tea_Garden%2C_Namchi%2C_Sikkim.jpg/312px-Cherry_Resort_inside_Temi_Tea_Garden%2C_Namchi%2C_Sikkim.jpg 1.5x, //upload.wikimedia.org/wikipedia/commons/thumb/f/fb/Cherry_Resort_inside_Temi_Tea_Garden%2C_Namchi%2C_Sikkim.jpg/416px-Cherry_Resort_inside_Temi_Tea_Garden%2C_Namchi%2C_Sikkim.jpg 2x\" width=\"208\"/></a>,\n",
       " <a class=\"mw-file-description\" href=\"/wiki/File:Female_health_workers_in_India_(34332433890).jpg\"><img alt=\"\" class=\"mw-file-element\" data-file-height=\"960\" data-file-width=\"1280\" decoding=\"async\" height=\"156\" src=\"//upload.wikimedia.org/wikipedia/commons/thumb/8/8f/Female_health_workers_in_India_%2834332433890%29.jpg/208px-Female_health_workers_in_India_%2834332433890%29.jpg\" srcset=\"//upload.wikimedia.org/wikipedia/commons/thumb/8/8f/Female_health_workers_in_India_%2834332433890%29.jpg/312px-Female_health_workers_in_India_%2834332433890%29.jpg 1.5x, //upload.wikimedia.org/wikipedia/commons/thumb/8/8f/Female_health_workers_in_India_%2834332433890%29.jpg/416px-Female_health_workers_in_India_%2834332433890%29.jpg 2x\" width=\"208\"/></a>,\n",
       " <a class=\"mw-file-description\" href=\"/wiki/File:South_Asian_Language_Families.png\"><img alt=\"\" class=\"mw-file-element\" data-file-height=\"1201\" data-file-width=\"1000\" decoding=\"async\" height=\"202\" src=\"//upload.wikimedia.org/wikipedia/commons/thumb/8/86/South_Asian_Language_Families.png/168px-South_Asian_Language_Families.png\" srcset=\"//upload.wikimedia.org/wikipedia/commons/thumb/8/86/South_Asian_Language_Families.png/252px-South_Asian_Language_Families.png 1.5x, //upload.wikimedia.org/wikipedia/commons/thumb/8/86/South_Asian_Language_Families.png/336px-South_Asian_Language_Families.png 2x\" width=\"168\"/></a>,\n",
       " <a class=\"mw-file-description\" href=\"/wiki/File:Interior_of_San_Thome_Basilica.jpg\"><img alt=\"\" class=\"mw-file-element\" data-file-height=\"2744\" data-file-width=\"4071\" decoding=\"async\" height=\"140\" src=\"//upload.wikimedia.org/wikipedia/commons/thumb/e/e2/Interior_of_San_Thome_Basilica.jpg/208px-Interior_of_San_Thome_Basilica.jpg\" srcset=\"//upload.wikimedia.org/wikipedia/commons/thumb/e/e2/Interior_of_San_Thome_Basilica.jpg/312px-Interior_of_San_Thome_Basilica.jpg 1.5x, //upload.wikimedia.org/wikipedia/commons/thumb/e/e2/Interior_of_San_Thome_Basilica.jpg/416px-Interior_of_San_Thome_Basilica.jpg 2x\" width=\"208\"/></a>,\n",
       " <a class=\"mw-file-description\" href=\"/wiki/File:Sikh_pilgrim_at_the_Golden_Temple_(Harmandir_Sahib)_in_Amritsar,_India.jpg\"><img alt=\"\" class=\"mw-file-element\" data-file-height=\"2000\" data-file-width=\"3008\" decoding=\"async\" height=\"138\" src=\"//upload.wikimedia.org/wikipedia/commons/thumb/4/41/Sikh_pilgrim_at_the_Golden_Temple_%28Harmandir_Sahib%29_in_Amritsar%2C_India.jpg/208px-Sikh_pilgrim_at_the_Golden_Temple_%28Harmandir_Sahib%29_in_Amritsar%2C_India.jpg\" srcset=\"//upload.wikimedia.org/wikipedia/commons/thumb/4/41/Sikh_pilgrim_at_the_Golden_Temple_%28Harmandir_Sahib%29_in_Amritsar%2C_India.jpg/312px-Sikh_pilgrim_at_the_Golden_Temple_%28Harmandir_Sahib%29_in_Amritsar%2C_India.jpg 1.5x, //upload.wikimedia.org/wikipedia/commons/thumb/4/41/Sikh_pilgrim_at_the_Golden_Temple_%28Harmandir_Sahib%29_in_Amritsar%2C_India.jpg/416px-Sikh_pilgrim_at_the_Golden_Temple_%28Harmandir_Sahib%29_in_Amritsar%2C_India.jpg 2x\" width=\"208\"/></a>,\n",
       " <a class=\"mw-file-description\" href=\"/wiki/File:Bhutesvara_Yakshis_Mathura_reliefs_2nd_century_CE_front.jpg\" title=\"Bhutesvara Yakshis, Buddhist reliefs from Mathura, 2nd century CE\"><img alt=\"Bhutesvara Yakshis, Buddhist reliefs from Mathura, 2nd century CE\" class=\"mw-file-element\" data-file-height=\"2418\" data-file-width=\"2610\" decoding=\"async\" height=\"200\" src=\"//upload.wikimedia.org/wikipedia/commons/thumb/b/b7/Bhutesvara_Yakshis_Mathura_reliefs_2nd_century_CE_front.jpg/324px-Bhutesvara_Yakshis_Mathura_reliefs_2nd_century_CE_front.jpg\" srcset=\"//upload.wikimedia.org/wikipedia/commons/thumb/b/b7/Bhutesvara_Yakshis_Mathura_reliefs_2nd_century_CE_front.jpg/486px-Bhutesvara_Yakshis_Mathura_reliefs_2nd_century_CE_front.jpg 1.5x, //upload.wikimedia.org/wikipedia/commons/thumb/b/b7/Bhutesvara_Yakshis_Mathura_reliefs_2nd_century_CE_front.jpg/648px-Bhutesvara_Yakshis_Mathura_reliefs_2nd_century_CE_front.jpg 2x\" width=\"216\"/></a>,\n",
       " <a class=\"mw-file-description\" href=\"/wiki/File:MET_DT5237_(cropped).jpg\" title=\"Gupta terracotta relief, Krishna Killing the Horse Demon Keshi, 5th century\"><img alt=\"Gupta terracotta relief, Krishna Killing the Horse Demon Keshi, 5th century\" class=\"mw-file-element\" data-file-height=\"3306\" data-file-width=\"2637\" decoding=\"async\" height=\"200\" src=\"//upload.wikimedia.org/wikipedia/commons/thumb/3/31/MET_DT5237_%28cropped%29.jpg/239px-MET_DT5237_%28cropped%29.jpg\" srcset=\"//upload.wikimedia.org/wikipedia/commons/thumb/3/31/MET_DT5237_%28cropped%29.jpg/359px-MET_DT5237_%28cropped%29.jpg 1.5x, //upload.wikimedia.org/wikipedia/commons/thumb/3/31/MET_DT5237_%28cropped%29.jpg/478px-MET_DT5237_%28cropped%29.jpg 2x\" width=\"160\"/></a>,\n",
       " <a class=\"mw-file-description\" href=\"/wiki/File:Elephanta_Caves_(27804449706)_(cropped).jpg\" title=\"Elephanta Caves, triple-bust (trimurti) of Shiva, 18 feet (5.5 m) tall, c. 550\"><img alt=\"Elephanta Caves, triple-bust (trimurti) of Shiva, 18 feet (5.5 m) tall, c. 550\" class=\"mw-file-element\" data-file-height=\"1476\" data-file-width=\"2329\" decoding=\"async\" height=\"200\" src=\"//upload.wikimedia.org/wikipedia/commons/thumb/c/c3/Elephanta_Caves_%2827804449706%29_%28cropped%29.jpg/474px-Elephanta_Caves_%2827804449706%29_%28cropped%29.jpg\" srcset=\"//upload.wikimedia.org/wikipedia/commons/thumb/c/c3/Elephanta_Caves_%2827804449706%29_%28cropped%29.jpg/710px-Elephanta_Caves_%2827804449706%29_%28cropped%29.jpg 1.5x, //upload.wikimedia.org/wikipedia/commons/thumb/c/c3/Elephanta_Caves_%2827804449706%29_%28cropped%29.jpg/947px-Elephanta_Caves_%2827804449706%29_%28cropped%29.jpg 2x\" width=\"316\"/></a>,\n",
       " <a class=\"mw-file-description\" href=\"/wiki/File:Shiva_as_Lord_of_the_Dance_(Nataraja).jpg\" title='Chola bronze of Shiva as Nataraja (\"Lord of Dance\"), Tamil Nadu, 10th or 11th century'><img alt='Chola bronze of Shiva as Nataraja (\"Lord of Dance\"), Tamil Nadu, 10th or 11th century' class=\"mw-file-element\" data-file-height=\"2250\" data-file-width=\"2008\" decoding=\"async\" height=\"200\" src=\"//upload.wikimedia.org/wikipedia/commons/thumb/b/b0/Shiva_as_Lord_of_the_Dance_%28Nataraja%29.jpg/268px-Shiva_as_Lord_of_the_Dance_%28Nataraja%29.jpg\" srcset=\"//upload.wikimedia.org/wikipedia/commons/thumb/b/b0/Shiva_as_Lord_of_the_Dance_%28Nataraja%29.jpg/402px-Shiva_as_Lord_of_the_Dance_%28Nataraja%29.jpg 1.5x, //upload.wikimedia.org/wikipedia/commons/thumb/b/b0/Shiva_as_Lord_of_the_Dance_%28Nataraja%29.jpg/535px-Shiva_as_Lord_of_the_Dance_%28Nataraja%29.jpg 2x\" width=\"179\"/></a>,\n",
       " <a class=\"mw-file-description\" href=\"/wiki/File:Jahangir_Receives_Prince_Khurram_at_Ajmer_on_His_Return_from_the_Mewar_Campaign.jpg\" title=\"Jahangir Receives Prince Khurram at Ajmer on His Return from the Mewar Campaign, Balchand, c. 1635\"><img alt=\"Jahangir Receives Prince Khurram at Ajmer on His Return from the Mewar Campaign, Balchand, c. 1635\" class=\"mw-file-element\" data-file-height=\"1960\" data-file-width=\"1383\" decoding=\"async\" height=\"200\" src=\"//upload.wikimedia.org/wikipedia/commons/thumb/0/07/Jahangir_Receives_Prince_Khurram_at_Ajmer_on_His_Return_from_the_Mewar_Campaign.jpg/212px-Jahangir_Receives_Prince_Khurram_at_Ajmer_on_His_Return_from_the_Mewar_Campaign.jpg\" srcset=\"//upload.wikimedia.org/wikipedia/commons/thumb/0/07/Jahangir_Receives_Prince_Khurram_at_Ajmer_on_His_Return_from_the_Mewar_Campaign.jpg/317px-Jahangir_Receives_Prince_Khurram_at_Ajmer_on_His_Return_from_the_Mewar_Campaign.jpg 1.5x, //upload.wikimedia.org/wikipedia/commons/thumb/0/07/Jahangir_Receives_Prince_Khurram_at_Ajmer_on_His_Return_from_the_Mewar_Campaign.jpg/423px-Jahangir_Receives_Prince_Khurram_at_Ajmer_on_His_Return_from_the_Mewar_Campaign.jpg 2x\" width=\"142\"/></a>,\n",
       " <a class=\"mw-file-description\" href=\"/wiki/File:Unknown,_Kangra,_India_-_Krishna_Fluting_to_the_Milkmaids_-_Google_Art_Project.jpg\" title=\"Krishna Fluting to the Milkmaids, Kangra painting, 1775–1785\"><img alt=\"Krishna Fluting to the Milkmaids, Kangra painting, 1775–1785\" class=\"mw-file-element\" data-file-height=\"3314\" data-file-width=\"4501\" decoding=\"async\" height=\"200\" src=\"//upload.wikimedia.org/wikipedia/commons/thumb/c/cf/Unknown%2C_Kangra%2C_India_-_Krishna_Fluting_to_the_Milkmaids_-_Google_Art_Project.jpg/408px-Unknown%2C_Kangra%2C_India_-_Krishna_Fluting_to_the_Milkmaids_-_Google_Art_Project.jpg\" srcset=\"//upload.wikimedia.org/wikipedia/commons/thumb/c/cf/Unknown%2C_Kangra%2C_India_-_Krishna_Fluting_to_the_Milkmaids_-_Google_Art_Project.jpg/611px-Unknown%2C_Kangra%2C_India_-_Krishna_Fluting_to_the_Milkmaids_-_Google_Art_Project.jpg 1.5x, //upload.wikimedia.org/wikipedia/commons/thumb/c/cf/Unknown%2C_Kangra%2C_India_-_Krishna_Fluting_to_the_Milkmaids_-_Google_Art_Project.jpg/815px-Unknown%2C_Kangra%2C_India_-_Krishna_Fluting_to_the_Milkmaids_-_Google_Art_Project.jpg 2x\" width=\"272\"/></a>,\n",
       " <a class=\"mw-file-description\" href=\"/wiki/File:Aks_The_Reflection_Taj_Mahal.jpg\"><img alt=\"\" class=\"mw-file-element\" data-file-height=\"3264\" data-file-width=\"4928\" decoding=\"async\" height=\"158\" src=\"//upload.wikimedia.org/wikipedia/commons/thumb/a/af/Aks_The_Reflection_Taj_Mahal.jpg/238px-Aks_The_Reflection_Taj_Mahal.jpg\" srcset=\"//upload.wikimedia.org/wikipedia/commons/thumb/a/af/Aks_The_Reflection_Taj_Mahal.jpg/357px-Aks_The_Reflection_Taj_Mahal.jpg 1.5x, //upload.wikimedia.org/wikipedia/commons/thumb/a/af/Aks_The_Reflection_Taj_Mahal.jpg/476px-Aks_The_Reflection_Taj_Mahal.jpg 2x\" width=\"238\"/></a>,\n",
       " <a class=\"mw-file-description\" href=\"/wiki/File:Kuchipudi_Performer_DS.jpg\"><img alt=\"\" class=\"mw-file-element\" data-file-height=\"2405\" data-file-width=\"1700\" decoding=\"async\" height=\"238\" src=\"//upload.wikimedia.org/wikipedia/commons/thumb/a/ae/Kuchipudi_Performer_DS.jpg/168px-Kuchipudi_Performer_DS.jpg\" srcset=\"//upload.wikimedia.org/wikipedia/commons/thumb/a/ae/Kuchipudi_Performer_DS.jpg/252px-Kuchipudi_Performer_DS.jpg 1.5x, //upload.wikimedia.org/wikipedia/commons/thumb/a/ae/Kuchipudi_Performer_DS.jpg/336px-Kuchipudi_Performer_DS.jpg 2x\" width=\"168\"/></a>,\n",
       " <a class=\"mw-file-description\" href=\"/wiki/File:Muslims_praying_in_mosque_in_Srinagar,_Kashmir.jpg\"><img alt=\"\" class=\"mw-file-element\" data-file-height=\"685\" data-file-width=\"1024\" decoding=\"async\" height=\"139\" src=\"//upload.wikimedia.org/wikipedia/commons/thumb/c/c7/Muslims_praying_in_mosque_in_Srinagar%2C_Kashmir.jpg/208px-Muslims_praying_in_mosque_in_Srinagar%2C_Kashmir.jpg\" srcset=\"//upload.wikimedia.org/wikipedia/commons/thumb/c/c7/Muslims_praying_in_mosque_in_Srinagar%2C_Kashmir.jpg/312px-Muslims_praying_in_mosque_in_Srinagar%2C_Kashmir.jpg 1.5x, //upload.wikimedia.org/wikipedia/commons/thumb/c/c7/Muslims_praying_in_mosque_in_Srinagar%2C_Kashmir.jpg/416px-Muslims_praying_in_mosque_in_Srinagar%2C_Kashmir.jpg 2x\" width=\"208\"/></a>,\n",
       " <a class=\"mw-file-description\" href=\"/wiki/File:47_Raika_School_-_eating_together_(3384824242).jpg\"><img class=\"mw-file-element\" data-file-height=\"1536\" data-file-width=\"2048\" decoding=\"async\" height=\"165\" src=\"//upload.wikimedia.org/wikipedia/commons/thumb/d/d0/47_Raika_School_-_eating_together_%283384824242%29.jpg/220px-47_Raika_School_-_eating_together_%283384824242%29.jpg\" srcset=\"//upload.wikimedia.org/wikipedia/commons/thumb/d/d0/47_Raika_School_-_eating_together_%283384824242%29.jpg/330px-47_Raika_School_-_eating_together_%283384824242%29.jpg 1.5x, //upload.wikimedia.org/wikipedia/commons/thumb/d/d0/47_Raika_School_-_eating_together_%283384824242%29.jpg/440px-47_Raika_School_-_eating_together_%283384824242%29.jpg 2x\" width=\"220\"/></a>,\n",
       " <a class=\"mw-file-description\" href=\"/wiki/File:India_School.jpg\"><img alt=\"\" class=\"mw-file-element\" data-file-height=\"2448\" data-file-width=\"3264\" decoding=\"async\" height=\"174\" src=\"//upload.wikimedia.org/wikipedia/commons/thumb/7/76/India_School.jpg/232px-India_School.jpg\" srcset=\"//upload.wikimedia.org/wikipedia/commons/thumb/7/76/India_School.jpg/348px-India_School.jpg 1.5x, //upload.wikimedia.org/wikipedia/commons/thumb/7/76/India_School.jpg/464px-India_School.jpg 2x\" width=\"232\"/></a>,\n",
       " <a class=\"mw-file-description\" href=\"/wiki/File:Water_pump,_Varanasi_(15563170660)_Cropped.jpg\"><img alt=\"\" class=\"mw-file-element\" data-file-height=\"2314\" data-file-width=\"1488\" decoding=\"async\" height=\"174\" src=\"//upload.wikimedia.org/wikipedia/commons/thumb/1/1d/Water_pump%2C_Varanasi_%2815563170660%29_Cropped.jpg/112px-Water_pump%2C_Varanasi_%2815563170660%29_Cropped.jpg\" srcset=\"//upload.wikimedia.org/wikipedia/commons/thumb/1/1d/Water_pump%2C_Varanasi_%2815563170660%29_Cropped.jpg/168px-Water_pump%2C_Varanasi_%2815563170660%29_Cropped.jpg 1.5x, //upload.wikimedia.org/wikipedia/commons/thumb/1/1d/Water_pump%2C_Varanasi_%2815563170660%29_Cropped.jpg/224px-Water_pump%2C_Varanasi_%2815563170660%29_Cropped.jpg 2x\" width=\"112\"/></a>,\n",
       " <a class=\"mw-file-description\" href=\"/wiki/File:Strolling_Shoppers_in_Paltan_Bazaar.jpg\"><img alt=\"\" class=\"mw-file-element\" data-file-height=\"1821\" data-file-width=\"1456\" decoding=\"async\" height=\"210\" src=\"//upload.wikimedia.org/wikipedia/commons/thumb/1/13/Strolling_Shoppers_in_Paltan_Bazaar.jpg/168px-Strolling_Shoppers_in_Paltan_Bazaar.jpg\" srcset=\"//upload.wikimedia.org/wikipedia/commons/thumb/1/13/Strolling_Shoppers_in_Paltan_Bazaar.jpg/252px-Strolling_Shoppers_in_Paltan_Bazaar.jpg 1.5x, //upload.wikimedia.org/wikipedia/commons/thumb/1/13/Strolling_Shoppers_in_Paltan_Bazaar.jpg/336px-Strolling_Shoppers_in_Paltan_Bazaar.jpg 2x\" width=\"168\"/></a>,\n",
       " <a class=\"mw-file-description\" href=\"/wiki/File:South_Indian_Thali_Cropped.jpg\"><img alt=\"\" class=\"mw-file-element\" data-file-height=\"1583\" data-file-width=\"2567\" decoding=\"async\" height=\"104\" src=\"//upload.wikimedia.org/wikipedia/commons/thumb/9/98/South_Indian_Thali_Cropped.jpg/168px-South_Indian_Thali_Cropped.jpg\" srcset=\"//upload.wikimedia.org/wikipedia/commons/thumb/9/98/South_Indian_Thali_Cropped.jpg/252px-South_Indian_Thali_Cropped.jpg 1.5x, //upload.wikimedia.org/wikipedia/commons/thumb/9/98/South_Indian_Thali_Cropped.jpg/336px-South_Indian_Thali_Cropped.jpg 2x\" width=\"168\"/></a>,\n",
       " <a class=\"mw-file-description\" href=\"/wiki/File:Odia_Mutton_Curry_(Mansha_Tarkari)_Rotated.jpg\"><img alt=\"\" class=\"mw-file-element\" data-file-height=\"966\" data-file-width=\"1229\" decoding=\"async\" height=\"132\" src=\"//upload.wikimedia.org/wikipedia/commons/thumb/f/f8/Odia_Mutton_Curry_%28Mansha_Tarkari%29_Rotated.jpg/168px-Odia_Mutton_Curry_%28Mansha_Tarkari%29_Rotated.jpg\" srcset=\"//upload.wikimedia.org/wikipedia/commons/thumb/f/f8/Odia_Mutton_Curry_%28Mansha_Tarkari%29_Rotated.jpg/252px-Odia_Mutton_Curry_%28Mansha_Tarkari%29_Rotated.jpg 1.5x, //upload.wikimedia.org/wikipedia/commons/thumb/f/f8/Odia_Mutton_Curry_%28Mansha_Tarkari%29_Rotated.jpg/336px-Odia_Mutton_Curry_%28Mansha_Tarkari%29_Rotated.jpg 2x\" width=\"168\"/></a>,\n",
       " <a class=\"mw-file-description\" href=\"/wiki/File:Filles_jouant_%C3%A0_la_marelle,_Jaura,_Inde.jpg\"><img alt=\"\" class=\"mw-file-element\" data-file-height=\"2592\" data-file-width=\"3888\" decoding=\"async\" height=\"139\" src=\"//upload.wikimedia.org/wikipedia/commons/thumb/1/1d/Filles_jouant_%C3%A0_la_marelle%2C_Jaura%2C_Inde.jpg/208px-Filles_jouant_%C3%A0_la_marelle%2C_Jaura%2C_Inde.jpg\" srcset=\"//upload.wikimedia.org/wikipedia/commons/thumb/1/1d/Filles_jouant_%C3%A0_la_marelle%2C_Jaura%2C_Inde.jpg/312px-Filles_jouant_%C3%A0_la_marelle%2C_Jaura%2C_Inde.jpg 1.5x, //upload.wikimedia.org/wikipedia/commons/thumb/1/1d/Filles_jouant_%C3%A0_la_marelle%2C_Jaura%2C_Inde.jpg/416px-Filles_jouant_%C3%A0_la_marelle%2C_Jaura%2C_Inde.jpg 2x\" width=\"208\"/></a>,\n",
       " <a class=\"mw-file-description\" href=\"/wiki/File:Sachin_Tendulkar_about_to_score_14000th_run_in_test_cricket.jpg\"><img class=\"mw-file-element\" data-file-height=\"690\" data-file-width=\"2650\" decoding=\"async\" height=\"115\" src=\"//upload.wikimedia.org/wikipedia/commons/thumb/c/ca/Sachin_Tendulkar_about_to_score_14000th_run_in_test_cricket.jpg/440px-Sachin_Tendulkar_about_to_score_14000th_run_in_test_cricket.jpg\" srcset=\"//upload.wikimedia.org/wikipedia/commons/thumb/c/ca/Sachin_Tendulkar_about_to_score_14000th_run_in_test_cricket.jpg/660px-Sachin_Tendulkar_about_to_score_14000th_run_in_test_cricket.jpg 1.5x, //upload.wikimedia.org/wikipedia/commons/thumb/c/ca/Sachin_Tendulkar_about_to_score_14000th_run_in_test_cricket.jpg/880px-Sachin_Tendulkar_about_to_score_14000th_run_in_test_cricket.jpg 2x\" width=\"440\"/></a>,\n",
       " <a class=\"mw-file-description\" href=\"/wiki/File:P_countries-vector.svg\"><img alt=\"icon\" class=\"mw-file-element\" data-file-height=\"360\" data-file-width=\"400\" decoding=\"async\" height=\"19\" src=\"//upload.wikimedia.org/wikipedia/commons/thumb/8/8e/P_countries-vector.svg/21px-P_countries-vector.svg.png\" srcset=\"//upload.wikimedia.org/wikipedia/commons/thumb/8/8e/P_countries-vector.svg/32px-P_countries-vector.svg.png 1.5x, //upload.wikimedia.org/wikipedia/commons/thumb/8/8e/P_countries-vector.svg/42px-P_countries-vector.svg.png 2x\" width=\"21\"/></a>,\n",
       " <a class=\"mw-file-description\" href=\"/wiki/File:Asia_(orthographic_projection).svg\"><img alt=\"icon\" class=\"mw-file-element\" data-file-height=\"541\" data-file-width=\"541\" decoding=\"async\" height=\"19\" src=\"//upload.wikimedia.org/wikipedia/commons/thumb/8/80/Asia_%28orthographic_projection%29.svg/19px-Asia_%28orthographic_projection%29.svg.png\" srcset=\"//upload.wikimedia.org/wikipedia/commons/thumb/8/80/Asia_%28orthographic_projection%29.svg/29px-Asia_%28orthographic_projection%29.svg.png 1.5x, //upload.wikimedia.org/wikipedia/commons/thumb/8/80/Asia_%28orthographic_projection%29.svg/38px-Asia_%28orthographic_projection%29.svg.png 2x\" width=\"19\"/></a>,\n",
       " <a class=\"mw-file-description\" href=\"/wiki/File:Symbol_portal_class.svg\" title=\"Portal\"><img alt=\"\" class=\"mw-file-element\" data-file-height=\"185\" data-file-width=\"180\" decoding=\"async\" height=\"16\" src=\"//upload.wikimedia.org/wikipedia/en/thumb/e/e2/Symbol_portal_class.svg/16px-Symbol_portal_class.svg.png\" srcset=\"//upload.wikimedia.org/wikipedia/en/thumb/e/e2/Symbol_portal_class.svg/23px-Symbol_portal_class.svg.png 1.5x, //upload.wikimedia.org/wikipedia/en/thumb/e/e2/Symbol_portal_class.svg/31px-Symbol_portal_class.svg.png 2x\" width=\"16\"/></a>]"
      ]
     },
     "execution_count": 45,
     "metadata": {},
     "output_type": "execute_result"
    }
   ],
   "source": [
    "a_tags = bs.find_all('a', class_=\"mw-file-description\")\n",
    "a_tags"
   ]
  },
  {
   "cell_type": "code",
   "execution_count": 47,
   "id": "4429705d-026c-4783-b4b3-7e610ea191f0",
   "metadata": {},
   "outputs": [
    {
     "data": {
      "text/plain": [
       "<a class=\"mw-file-description\" href=\"/wiki/File:Flag_of_India.svg\" title=\"Flag of India\"><img alt=\"Horizontal tricolour flag bearing, from top to bottom, deep saffron, white, and green horizontal bands. In the centre of the white band is a navy-blue wheel with 24 spokes.\" class=\"mw-file-element\" data-file-height=\"600\" data-file-width=\"900\" decoding=\"async\" height=\"83\" src=\"//upload.wikimedia.org/wikipedia/en/thumb/4/41/Flag_of_India.svg/125px-Flag_of_India.svg.png\" srcset=\"//upload.wikimedia.org/wikipedia/en/thumb/4/41/Flag_of_India.svg/188px-Flag_of_India.svg.png 1.5x, //upload.wikimedia.org/wikipedia/en/thumb/4/41/Flag_of_India.svg/250px-Flag_of_India.svg.png 2x\" width=\"125\"/></a>"
      ]
     },
     "execution_count": 47,
     "metadata": {},
     "output_type": "execute_result"
    }
   ],
   "source": [
    "a_tags[0]"
   ]
  },
  {
   "cell_type": "code",
   "execution_count": null,
   "id": "874efb0c-4d83-4519-86a1-82fa7eabe8dd",
   "metadata": {},
   "outputs": [],
   "source": []
  },
  {
   "cell_type": "code",
   "execution_count": 67,
   "id": "fb329fc2-fcc6-4eb3-b42d-7548cc8c0c4e",
   "metadata": {},
   "outputs": [
    {
     "data": {
      "text/plain": [
       "'/wiki/File:Emblem_of_India.svg'"
      ]
     },
     "execution_count": 67,
     "metadata": {},
     "output_type": "execute_result"
    }
   ],
   "source": [
    "a_tags[1].get('href')"
   ]
  },
  {
   "cell_type": "code",
   "execution_count": null,
   "id": "6dbbefd4-63aa-41b8-a8a9-ff1815f73469",
   "metadata": {},
   "outputs": [],
   "source": []
  },
  {
   "cell_type": "code",
   "execution_count": 69,
   "id": "d5f3bd4d-c0d6-4fa4-8cc7-00152a009e9a",
   "metadata": {},
   "outputs": [
    {
     "data": {
      "text/plain": [
       "'https://en.wikipedia.org/wiki/File:Flag_of_India.svg'"
      ]
     },
     "execution_count": 69,
     "metadata": {},
     "output_type": "execute_result"
    }
   ],
   "source": [
    "'https://en.wikipedia.org'+ a_tags[0].get('href')"
   ]
  },
  {
   "cell_type": "code",
   "execution_count": null,
   "id": "d41215c7-f5bb-4fbd-82d4-705c69ebdb35",
   "metadata": {},
   "outputs": [],
   "source": []
  },
  {
   "cell_type": "code",
   "execution_count": 73,
   "id": "bd6a3255-f5b7-4ae1-aae2-03f845508b69",
   "metadata": {},
   "outputs": [],
   "source": [
    "images = []\n",
    "for i in a_tags:\n",
    "    img_link = 'https://en.wikipedia.org' + i.get('href')\n",
    "    images.append(img_link)"
   ]
  },
  {
   "cell_type": "code",
   "execution_count": 75,
   "id": "8942db75-1179-40ba-92ed-1cce9c50ee7f",
   "metadata": {},
   "outputs": [
    {
     "data": {
      "text/plain": [
       "['https://en.wikipedia.org/wiki/File:Flag_of_India.svg',\n",
       " 'https://en.wikipedia.org/wiki/File:Emblem_of_India.svg',\n",
       " 'https://en.wikipedia.org/wiki/File:India_(orthographic_projection).svg',\n",
       " 'https://en.wikipedia.org/wiki/File:Battle_at_Lanka,_Ramayana,_Udaipur,_1649-53.jpg',\n",
       " 'https://en.wikipedia.org/wiki/File:Cave_26,_Ajanta.jpg',\n",
       " 'https://en.wikipedia.org/wiki/File:Gopuram_Corner_View_of_Thanjavur_Brihadeeswara_Temple..JPG',\n",
       " 'https://en.wikipedia.org/wiki/File:Qutb_minar_ruins.jpg',\n",
       " 'https://en.wikipedia.org/wiki/File:Agra_Fort_DistantTaj.JPG',\n",
       " 'https://en.wikipedia.org/wiki/File:India_1835_2_Mohurs.jpg',\n",
       " 'https://en.wikipedia.org/wiki/File:British_Indian_Empire_1909_Imperial_Gazetteer_of_India.jpg',\n",
       " 'https://en.wikipedia.org/wiki/File:Nehru_gandhi.jpg',\n",
       " 'https://en.wikipedia.org/wiki/File:Tungabhadra_River_and_Coracle_Boats.JPG',\n",
       " 'https://en.wikipedia.org/wiki/File:Parked_boats_at_Anjarle_Creek.jpg',\n",
       " 'https://en.wikipedia.org/wiki/File:Panthera_tigris_tigris_Tidoba_20150306.jpg',\n",
       " 'https://en.wikipedia.org/wiki/File:Axis_axis_(Nagarhole,_2010).jpg',\n",
       " 'https://en.wikipedia.org/wiki/File:Maharajah_Ramanuj_Pratap_Singh_Deo_with_cheetah_kill_1948_BNHS.jpg',\n",
       " 'https://en.wikipedia.org/wiki/File:Rajagopal_speaking_to_25,000_people,_Janadesh_2007,_India.jpg',\n",
       " 'https://en.wikipedia.org/wiki/File:Barack_Obama_at_Parliament_of_India_in_New_Delhi_addressing_Joint_session_of_both_houses_2010.jpg',\n",
       " 'https://en.wikipedia.org/wiki/File:Rashtrapati_Bhavan_Wide_New_Delhi_India.jpg',\n",
       " 'https://en.wikipedia.org/wiki/File:Jawaharlal_Nehru,_Nasser_and_Tito_at_the_Conference_of_Non-Aligned_Nations_held_in_Belgrade.jpg',\n",
       " 'https://en.wikipedia.org/wiki/File:Indian_Air_Force_contingent_as_a_part_of_the_Bastille_Day_Parade_of_France,_in_Paris_on_July_14,_2009.jpg',\n",
       " 'https://en.wikipedia.org/wiki/File:Modi_Nieto_Mexico_June_2016.jpg',\n",
       " 'https://en.wikipedia.org/wiki/File:Plowing_the_land_in_India_-_modern_and_traditional.jpg',\n",
       " 'https://en.wikipedia.org/wiki/File:ILRI,_Stevie_Mann_-_Villager_and_calf_share_milk_from_cow_in_Rajasthan,_India.jpg',\n",
       " 'https://en.wikipedia.org/wiki/File:Women_at_work,_Gujarat_(cropped).jpg',\n",
       " 'https://en.wikipedia.org/wiki/File:Bangalore_Panorama_edit1.jpg',\n",
       " 'https://en.wikipedia.org/wiki/File:Cherry_Resort_inside_Temi_Tea_Garden,_Namchi,_Sikkim.jpg',\n",
       " 'https://en.wikipedia.org/wiki/File:Female_health_workers_in_India_(34332433890).jpg',\n",
       " 'https://en.wikipedia.org/wiki/File:South_Asian_Language_Families.png',\n",
       " 'https://en.wikipedia.org/wiki/File:Interior_of_San_Thome_Basilica.jpg',\n",
       " 'https://en.wikipedia.org/wiki/File:Sikh_pilgrim_at_the_Golden_Temple_(Harmandir_Sahib)_in_Amritsar,_India.jpg',\n",
       " 'https://en.wikipedia.org/wiki/File:Bhutesvara_Yakshis_Mathura_reliefs_2nd_century_CE_front.jpg',\n",
       " 'https://en.wikipedia.org/wiki/File:MET_DT5237_(cropped).jpg',\n",
       " 'https://en.wikipedia.org/wiki/File:Elephanta_Caves_(27804449706)_(cropped).jpg',\n",
       " 'https://en.wikipedia.org/wiki/File:Shiva_as_Lord_of_the_Dance_(Nataraja).jpg',\n",
       " 'https://en.wikipedia.org/wiki/File:Jahangir_Receives_Prince_Khurram_at_Ajmer_on_His_Return_from_the_Mewar_Campaign.jpg',\n",
       " 'https://en.wikipedia.org/wiki/File:Unknown,_Kangra,_India_-_Krishna_Fluting_to_the_Milkmaids_-_Google_Art_Project.jpg',\n",
       " 'https://en.wikipedia.org/wiki/File:Aks_The_Reflection_Taj_Mahal.jpg',\n",
       " 'https://en.wikipedia.org/wiki/File:Kuchipudi_Performer_DS.jpg',\n",
       " 'https://en.wikipedia.org/wiki/File:Muslims_praying_in_mosque_in_Srinagar,_Kashmir.jpg',\n",
       " 'https://en.wikipedia.org/wiki/File:47_Raika_School_-_eating_together_(3384824242).jpg',\n",
       " 'https://en.wikipedia.org/wiki/File:India_School.jpg',\n",
       " 'https://en.wikipedia.org/wiki/File:Water_pump,_Varanasi_(15563170660)_Cropped.jpg',\n",
       " 'https://en.wikipedia.org/wiki/File:Strolling_Shoppers_in_Paltan_Bazaar.jpg',\n",
       " 'https://en.wikipedia.org/wiki/File:South_Indian_Thali_Cropped.jpg',\n",
       " 'https://en.wikipedia.org/wiki/File:Odia_Mutton_Curry_(Mansha_Tarkari)_Rotated.jpg',\n",
       " 'https://en.wikipedia.org/wiki/File:Filles_jouant_%C3%A0_la_marelle,_Jaura,_Inde.jpg',\n",
       " 'https://en.wikipedia.org/wiki/File:Sachin_Tendulkar_about_to_score_14000th_run_in_test_cricket.jpg',\n",
       " 'https://en.wikipedia.org/wiki/File:P_countries-vector.svg',\n",
       " 'https://en.wikipedia.org/wiki/File:Asia_(orthographic_projection).svg',\n",
       " 'https://en.wikipedia.org/wiki/File:Symbol_portal_class.svg']"
      ]
     },
     "execution_count": 75,
     "metadata": {},
     "output_type": "execute_result"
    }
   ],
   "source": [
    "images"
   ]
  },
  {
   "cell_type": "code",
   "execution_count": null,
   "id": "702c93c8-cc32-45e4-97a5-e905703371a0",
   "metadata": {},
   "outputs": [],
   "source": []
  },
  {
   "cell_type": "code",
   "execution_count": null,
   "id": "23e5fc4e-e6ac-4c6b-a4a8-8d1a7bd546b9",
   "metadata": {},
   "outputs": [],
   "source": [
    "# Table Tags"
   ]
  },
  {
   "cell_type": "code",
   "execution_count": 83,
   "id": "c04a558e-92e2-4f43-bdbe-912ef6be397e",
   "metadata": {},
   "outputs": [],
   "source": [
    "table_tags = bs.find_all('table', class_='wikitable')"
   ]
  },
  {
   "cell_type": "code",
   "execution_count": 85,
   "id": "ad8fee10-f78c-457a-84c5-b1aa7e81d53b",
   "metadata": {},
   "outputs": [
    {
     "data": {
      "text/plain": [
       "[]"
      ]
     },
     "execution_count": 85,
     "metadata": {},
     "output_type": "execute_result"
    }
   ],
   "source": [
    "table_tags"
   ]
  },
  {
   "cell_type": "code",
   "execution_count": null,
   "id": "b6bb16a7-28c6-4774-824b-42b57d44b428",
   "metadata": {},
   "outputs": [],
   "source": []
  },
  {
   "cell_type": "code",
   "execution_count": null,
   "id": "dabb0b61-fc5d-4286-8717-274e00b8597b",
   "metadata": {},
   "outputs": [],
   "source": []
  },
  {
   "cell_type": "code",
   "execution_count": null,
   "id": "757c3f41-c48b-4418-83d4-edb52d7dcca7",
   "metadata": {},
   "outputs": [],
   "source": []
  },
  {
   "cell_type": "code",
   "execution_count": null,
   "id": "eb17a413-439b-4706-970b-34b1c19c2dd9",
   "metadata": {},
   "outputs": [],
   "source": []
  }
 ],
 "metadata": {
  "kernelspec": {
   "display_name": "Python 3 (ipykernel)",
   "language": "python",
   "name": "python3"
  },
  "language_info": {
   "codemirror_mode": {
    "name": "ipython",
    "version": 3
   },
   "file_extension": ".py",
   "mimetype": "text/x-python",
   "name": "python",
   "nbconvert_exporter": "python",
   "pygments_lexer": "ipython3",
   "version": "3.12.4"
  }
 },
 "nbformat": 4,
 "nbformat_minor": 5
}
